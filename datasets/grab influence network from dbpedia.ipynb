{
 "cells": [
  {
   "cell_type": "code",
   "execution_count": 3,
   "metadata": {
    "collapsed": true
   },
   "outputs": [],
   "source": [
    "from SPARQLWrapper import SPARQLWrapper, JSON"
   ]
  },
  {
   "cell_type": "markdown",
   "metadata": {},
   "source": [
    "## grab all person-philosophers-person relationships"
   ]
  },
  {
   "cell_type": "code",
   "execution_count": 5,
   "metadata": {
    "collapsed": false
   },
   "outputs": [
    {
     "name": "stdout",
     "output_type": "stream",
     "text": [
      "2\n"
     ]
    }
   ],
   "source": [
    "endpoint = \"http://dbpedia.org/sparql\"\n",
    "\n",
    "query = \"\"\"\n",
    "PREFIX dbo: <http://dbpedia.org/ontology/>\n",
    "\n",
    "CONSTRUCT {\n",
    "  ?s dbo:influencedBy ?t1.\n",
    "  ?s dbo:influenced ?t2.\n",
    "}\n",
    "where { \n",
    "  ?s rdf:type dbo:Philosopher.\n",
    "\n",
    "  OPTIONAL { ?s dbo:influencedBy ?t1. ?t1 rdf:type dbo:Person. }\n",
    "  OPTIONAL { ?s dbo:influenced ?t2. ?t2 rdf:type dbo:Person. }\n",
    "}\n",
    "\"\"\"\n",
    "\n",
    "sparql = SPARQLWrapper(endpoint)\n",
    "sparql.setQuery(query)\n",
    "sparql.setReturnFormat(JSON)\n",
    "\n",
    "results = sparql.query().convert()\n",
    "\n",
    "print len(results)"
   ]
  },
  {
   "cell_type": "code",
   "execution_count": 7,
   "metadata": {
    "collapsed": false
   },
   "outputs": [
    {
     "name": "stdout",
     "output_type": "stream",
     "text": [
      "7471\n"
     ]
    }
   ],
   "source": [
    "print len(results[\"results\"][\"bindings\"])"
   ]
  },
  {
   "cell_type": "code",
   "execution_count": 9,
   "metadata": {
    "collapsed": false
   },
   "outputs": [],
   "source": [
    "import json\n",
    "\n",
    "with open('influences.dbpedia.json', 'w') as outfile:\n",
    "    json.dump(results[\"results\"][\"bindings\"], outfile)"
   ]
  },
  {
   "cell_type": "markdown",
   "metadata": {},
   "source": [
    "## grab only philosophers-philosophers relationships"
   ]
  },
  {
   "cell_type": "code",
   "execution_count": 4,
   "metadata": {
    "collapsed": false
   },
   "outputs": [
    {
     "name": "stdout",
     "output_type": "stream",
     "text": [
      "2\n"
     ]
    }
   ],
   "source": [
    "endpoint = \"http://dbpedia.org/sparql\"\n",
    "\n",
    "query = \"\"\"\n",
    "PREFIX dbo: <http://dbpedia.org/ontology/>\n",
    "\n",
    "CONSTRUCT {\n",
    "  ?s dbo:influencedBy ?t1.\n",
    "  ?s dbo:influenced ?t2.\n",
    "}\n",
    "where { \n",
    "  ?s rdf:type dbo:Philosopher.\n",
    "\n",
    "  OPTIONAL { ?s dbo:influencedBy ?t1. ?t1 rdf:type dbo:Philosopher. }\n",
    "  OPTIONAL { ?s dbo:influenced ?t2. ?t2 rdf:type dbo:Philosopher. }\n",
    "}\n",
    "\"\"\"\n",
    "\n",
    "sparql = SPARQLWrapper(endpoint)\n",
    "sparql.setQuery(query)\n",
    "sparql.setReturnFormat(JSON)\n",
    "\n",
    "results = sparql.query().convert()\n",
    "\n",
    "print len(results)"
   ]
  },
  {
   "cell_type": "code",
   "execution_count": 6,
   "metadata": {
    "collapsed": false
   },
   "outputs": [],
   "source": [
    "import json\n",
    "\n",
    "with open('influences.philosophersonly.dbpedia.json', 'w') as outfile:\n",
    "    json.dump(results[\"results\"][\"bindings\"], outfile)"
   ]
  }
 ],
 "metadata": {
  "kernelspec": {
   "display_name": "Python 2",
   "language": "python",
   "name": "python2"
  },
  "language_info": {
   "codemirror_mode": {
    "name": "ipython",
    "version": 2
   },
   "file_extension": ".py",
   "mimetype": "text/x-python",
   "name": "python",
   "nbconvert_exporter": "python",
   "pygments_lexer": "ipython2",
   "version": "2.7.11"
  }
 },
 "nbformat": 4,
 "nbformat_minor": 0
}
