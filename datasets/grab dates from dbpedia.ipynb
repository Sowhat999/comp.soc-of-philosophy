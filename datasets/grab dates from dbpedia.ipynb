{
 "cells": [
  {
   "cell_type": "code",
   "execution_count": 1,
   "metadata": {
    "collapsed": true
   },
   "outputs": [],
   "source": [
    "from SPARQLWrapper import SPARQLWrapper, JSON"
   ]
  },
  {
   "cell_type": "code",
   "execution_count": 7,
   "metadata": {
    "collapsed": false
   },
   "outputs": [
    {
     "name": "stdout",
     "output_type": "stream",
     "text": [
      "1920\n"
     ]
    }
   ],
   "source": [
    "endpoint = \"http://dbpedia.org/sparql\"\n",
    "\n",
    "query = \"\"\"\n",
    "PREFIX dbo: <http://dbpedia.org/ontology/>\n",
    "\n",
    "SELECT DISTINCT ?person ?birthdate ?birthyear ?activeyear ?activeyears ?deathyear ?deathage\n",
    "WHERE { \n",
    "    ?person rdf:type dbo:Philosopher.\n",
    "\n",
    "    OPTIONAL { ?person dbo:birthDate ?birthdate }\n",
    "    OPTIONAL { ?person dbo:birthYear ?birthyear }\n",
    "    OPTIONAL { ?person dbo:activeYear ?activeyear }\n",
    "    OPTIONAL { ?person dbo:activeYears ?activeyears }\n",
    "    OPTIONAL { ?person dbo:deathYear ?deathyear }\n",
    "    OPTIONAL { ?person dbo:deathAge ?deathage }\n",
    "\n",
    "}\n",
    "ORDER BY ?birthdate\n",
    "\"\"\"\n",
    "\n",
    "sparql = SPARQLWrapper(endpoint)\n",
    "sparql.setQuery(query)\n",
    "sparql.setReturnFormat(JSON)\n",
    "\n",
    "results = sparql.query().convert()\n",
    "\n",
    "print len(results[\"results\"][\"bindings\"])"
   ]
  },
  {
   "cell_type": "code",
   "execution_count": 37,
   "metadata": {
    "collapsed": true
   },
   "outputs": [],
   "source": [
    "import json\n",
    "\n",
    "with open('dates.birthdeath.dbpedia.json', 'w') as outfile:\n",
    "    json.dump(results[\"results\"][\"bindings\"], outfile, sort_keys=True, indent=4, separators=(',', ': '))"
   ]
  },
  {
   "cell_type": "code",
   "execution_count": 9,
   "metadata": {
    "collapsed": false
   },
   "outputs": [],
   "source": [
    "import pandas as pd"
   ]
  },
  {
   "cell_type": "code",
   "execution_count": 77,
   "metadata": {
    "collapsed": false
   },
   "outputs": [
    {
     "data": {
      "text/html": [
       "<div>\n",
       "<table border=\"1\" class=\"dataframe\">\n",
       "  <thead>\n",
       "    <tr style=\"text-align: right;\">\n",
       "      <th></th>\n",
       "      <th>birthyear</th>\n",
       "      <th>birthdate</th>\n",
       "      <th>deathyear</th>\n",
       "    </tr>\n",
       "    <tr>\n",
       "      <th>name</th>\n",
       "      <th></th>\n",
       "      <th></th>\n",
       "      <th></th>\n",
       "    </tr>\n",
       "  </thead>\n",
       "  <tbody>\n",
       "    <tr>\n",
       "      <th>Syed_Abdul_Hakim</th>\n",
       "      <td>1874</td>\n",
       "      <td>NaN</td>\n",
       "      <td>1944</td>\n",
       "    </tr>\n",
       "    <tr>\n",
       "      <th>Moses_ibn_Ezra</th>\n",
       "      <td>1055</td>\n",
       "      <td>NaN</td>\n",
       "      <td>1138</td>\n",
       "    </tr>\n",
       "    <tr>\n",
       "      <th>Francisco_Sanches</th>\n",
       "      <td>1550</td>\n",
       "      <td>NaN</td>\n",
       "      <td>1623</td>\n",
       "    </tr>\n",
       "    <tr>\n",
       "      <th>Sibawayh</th>\n",
       "      <td>0760</td>\n",
       "      <td>NaN</td>\n",
       "      <td>0796</td>\n",
       "    </tr>\n",
       "    <tr>\n",
       "      <th>Solomon_ibn_Gabirol</th>\n",
       "      <td>1021</td>\n",
       "      <td>NaN</td>\n",
       "      <td>1058</td>\n",
       "    </tr>\n",
       "    <tr>\n",
       "      <th>Abu_Yusuf</th>\n",
       "      <td>0113</td>\n",
       "      <td>NaN</td>\n",
       "      <td>0798</td>\n",
       "    </tr>\n",
       "    <tr>\n",
       "      <th>Sufyan_al-Thawri</th>\n",
       "      <td>0716</td>\n",
       "      <td>NaN</td>\n",
       "      <td>0161</td>\n",
       "    </tr>\n",
       "    <tr>\n",
       "      <th>George_Ripley_(alchemist)</th>\n",
       "      <td>1415</td>\n",
       "      <td>NaN</td>\n",
       "      <td>1490</td>\n",
       "    </tr>\n",
       "    <tr>\n",
       "      <th>Euthymius_of_Athos</th>\n",
       "      <td>0955</td>\n",
       "      <td>NaN</td>\n",
       "      <td>1024</td>\n",
       "    </tr>\n",
       "    <tr>\n",
       "      <th>Adam_of_Dryburgh</th>\n",
       "      <td>1140</td>\n",
       "      <td>NaN</td>\n",
       "      <td>1212</td>\n",
       "    </tr>\n",
       "  </tbody>\n",
       "</table>\n",
       "</div>"
      ],
      "text/plain": [
       "                          birthyear birthdate deathyear\n",
       "name                                                   \n",
       "Syed_Abdul_Hakim               1874       NaN      1944\n",
       "Moses_ibn_Ezra                 1055       NaN      1138\n",
       "Francisco_Sanches              1550       NaN      1623\n",
       "Sibawayh                       0760       NaN      0796\n",
       "Solomon_ibn_Gabirol            1021       NaN      1058\n",
       "Abu_Yusuf                      0113       NaN      0798\n",
       "Sufyan_al-Thawri               0716       NaN      0161\n",
       "George_Ripley_(alchemist)      1415       NaN      1490\n",
       "Euthymius_of_Athos             0955       NaN      1024\n",
       "Adam_of_Dryburgh               1140       NaN      1212"
      ]
     },
     "execution_count": 77,
     "metadata": {},
     "output_type": "execute_result"
    }
   ],
   "source": [
    "names = [ p[\"person\"][\"value\"].replace(\"http://dbpedia.org/resource/\", \"\") for p in results[\"results\"][\"bindings\"]]\n",
    "\n",
    "df = pd.DataFrame(columns=[\"name\", \"birthyear\", \"birthdate\", \"deathyear\"])\n",
    "\n",
    "df[\"name\"] = names\n",
    "\n",
    "df = df.set_index(\"name\")\n",
    "\n",
    "for p in results[\"results\"][\"bindings\"]:\n",
    "  k = [ k for k in p.keys() if k != \"person\" ]\n",
    "  n = p[\"person\"][\"value\"].replace(\"http://dbpedia.org/resource/\", \"\")\n",
    "    \n",
    "  df.set_value(n, k, [ p[x][\"value\"] for x in p if x in k])\n",
    "\n",
    "df.head(10)"
   ]
  },
  {
   "cell_type": "code",
   "execution_count": 79,
   "metadata": {
    "collapsed": false
   },
   "outputs": [],
   "source": [
    "df.to_csv(\"dates.birthdeath.csv\", encoding=\"utf-8\")"
   ]
  }
 ],
 "metadata": {
  "kernelspec": {
   "display_name": "Python 2",
   "language": "python",
   "name": "python2"
  },
  "language_info": {
   "codemirror_mode": {
    "name": "ipython",
    "version": 2
   },
   "file_extension": ".py",
   "mimetype": "text/x-python",
   "name": "python",
   "nbconvert_exporter": "python",
   "pygments_lexer": "ipython2",
   "version": "2.7.11"
  }
 },
 "nbformat": 4,
 "nbformat_minor": 0
}
