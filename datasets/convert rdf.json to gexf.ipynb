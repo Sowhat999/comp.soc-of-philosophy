{
 "cells": [
  {
   "cell_type": "code",
   "execution_count": 1,
   "metadata": {
    "collapsed": true
   },
   "outputs": [],
   "source": [
    "import json\n",
    "import networkx as nx"
   ]
  },
  {
   "cell_type": "code",
   "execution_count": 2,
   "metadata": {
    "collapsed": true
   },
   "outputs": [],
   "source": [
    "with open('influences.dbpedia.json') as data_file:    \n",
    "    data = json.load(data_file)"
   ]
  },
  {
   "cell_type": "code",
   "execution_count": 20,
   "metadata": {
    "collapsed": false
   },
   "outputs": [
    {
     "name": "stdout",
     "output_type": "stream",
     "text": [
      "7471\n",
      "nodes: 3358\n",
      "edges: 6711\n"
     ]
    }
   ],
   "source": [
    "G = nx.DiGraph()\n",
    "\n",
    "def m(object, predicate, subject):\n",
    "\n",
    "  if predicate[\"value\"] == \"http://dbpedia.org/ontology/influencedBy\":\n",
    "    (n1, n2) = (subject[\"value\"], object[\"value\"])\n",
    "  else:\n",
    "    (n1, n2) = (object[\"value\"], subject[\"value\"])\n",
    "\n",
    "  n1 = n1.replace(\"http://dbpedia.org/resource/\", \"\")\n",
    "  n2 = n2.replace(\"http://dbpedia.org/resource/\", \"\")\n",
    "\n",
    "  return (n1, n2)\n",
    "\n",
    "edges = [ m(item[\"o\"], item[\"p\"], item[\"s\"]) for item in data ]\n",
    "\n",
    "print len(edges)\n",
    "\n",
    "G.add_edges_from(edges)\n",
    "\n",
    "print \"nodes: %s\" % len(G.nodes())\n",
    "print \"edges: %s\" % len(G.edges())"
   ]
  },
  {
   "cell_type": "code",
   "execution_count": 17,
   "metadata": {
    "collapsed": false
   },
   "outputs": [],
   "source": [
    "nx.write_gexf(G, \"influences.gexf\")"
   ]
  }
 ],
 "metadata": {
  "kernelspec": {
   "display_name": "Python 2",
   "language": "python",
   "name": "python2"
  },
  "language_info": {
   "codemirror_mode": {
    "name": "ipython",
    "version": 2
   },
   "file_extension": ".py",
   "mimetype": "text/x-python",
   "name": "python",
   "nbconvert_exporter": "python",
   "pygments_lexer": "ipython2",
   "version": "2.7.11"
  }
 },
 "nbformat": 4,
 "nbformat_minor": 0
}
