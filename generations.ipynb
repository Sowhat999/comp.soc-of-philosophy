{
 "cells": [
  {
   "cell_type": "code",
   "execution_count": 191,
   "metadata": {
    "collapsed": false
   },
   "outputs": [],
   "source": [
    "%matplotlib inline\n",
    "\n",
    "import math\n",
    "import json\n",
    "import codecs\n",
    "\n",
    "import numpy as np\n",
    "import pandas as pd\n",
    "import networkx as nx\n",
    "\n",
    "from sklearn import preprocessing\n",
    "\n",
    "import matplotlib.mlab as mlab\n",
    "import matplotlib.pyplot as plt"
   ]
  },
  {
   "cell_type": "code",
   "execution_count": 2,
   "metadata": {
    "collapsed": true
   },
   "outputs": [],
   "source": [
    "g = nx.read_gexf(\"datasets/influences.philosophersonly.gexf\")"
   ]
  },
  {
   "cell_type": "code",
   "execution_count": 3,
   "metadata": {
    "collapsed": false
   },
   "outputs": [
    {
     "data": {
      "text/html": [
       "<div>\n",
       "<table border=\"1\" class=\"dataframe\">\n",
       "  <thead>\n",
       "    <tr style=\"text-align: right;\">\n",
       "      <th></th>\n",
       "      <th>birthyear</th>\n",
       "      <th>birthdate</th>\n",
       "      <th>deathyear</th>\n",
       "    </tr>\n",
       "    <tr>\n",
       "      <th>name</th>\n",
       "      <th></th>\n",
       "      <th></th>\n",
       "      <th></th>\n",
       "    </tr>\n",
       "  </thead>\n",
       "  <tbody>\n",
       "    <tr>\n",
       "      <th>Syed_Abdul_Hakim</th>\n",
       "      <td>1874.0</td>\n",
       "      <td>NaN</td>\n",
       "      <td>1944.0</td>\n",
       "    </tr>\n",
       "    <tr>\n",
       "      <th>Moses_ibn_Ezra</th>\n",
       "      <td>1055.0</td>\n",
       "      <td>NaN</td>\n",
       "      <td>1138.0</td>\n",
       "    </tr>\n",
       "    <tr>\n",
       "      <th>Francisco_Sanches</th>\n",
       "      <td>1550.0</td>\n",
       "      <td>NaN</td>\n",
       "      <td>1623.0</td>\n",
       "    </tr>\n",
       "    <tr>\n",
       "      <th>Sibawayh</th>\n",
       "      <td>760.0</td>\n",
       "      <td>NaN</td>\n",
       "      <td>796.0</td>\n",
       "    </tr>\n",
       "    <tr>\n",
       "      <th>Solomon_ibn_Gabirol</th>\n",
       "      <td>1021.0</td>\n",
       "      <td>NaN</td>\n",
       "      <td>1058.0</td>\n",
       "    </tr>\n",
       "  </tbody>\n",
       "</table>\n",
       "</div>"
      ],
      "text/plain": [
       "                     birthyear birthdate  deathyear\n",
       "name                                               \n",
       "Syed_Abdul_Hakim        1874.0       NaN     1944.0\n",
       "Moses_ibn_Ezra          1055.0       NaN     1138.0\n",
       "Francisco_Sanches       1550.0       NaN     1623.0\n",
       "Sibawayh                 760.0       NaN      796.0\n",
       "Solomon_ibn_Gabirol     1021.0       NaN     1058.0"
      ]
     },
     "execution_count": 3,
     "metadata": {},
     "output_type": "execute_result"
    }
   ],
   "source": [
    "df = pd.DataFrame.from_csv(\"datasets/dates.birthdeath.csv\")\n",
    "\n",
    "df.head(5)"
   ]
  },
  {
   "cell_type": "code",
   "execution_count": 4,
   "metadata": {
    "collapsed": false
   },
   "outputs": [
    {
     "name": "stdout",
     "output_type": "stream",
     "text": [
      "849\n"
     ]
    }
   ],
   "source": [
    "base = list(set(g.nodes()) & set(df[ df[\"birthyear\"].notnull() | df[\"deathyear\"].notnull() ].index))\n",
    "g_base = g.subgraph(base)\n",
    "\n",
    "print len(base)"
   ]
  },
  {
   "cell_type": "code",
   "execution_count": 5,
   "metadata": {
    "collapsed": false
   },
   "outputs": [],
   "source": [
    "df_base = df.loc[base, [\"birthyear\", \"deathyear\"]]"
   ]
  },
  {
   "cell_type": "code",
   "execution_count": 6,
   "metadata": {
    "collapsed": false
   },
   "outputs": [
    {
     "data": {
      "text/html": [
       "<div>\n",
       "<table border=\"1\" class=\"dataframe\">\n",
       "  <thead>\n",
       "    <tr style=\"text-align: right;\">\n",
       "      <th></th>\n",
       "      <th>birthyear</th>\n",
       "      <th>deathyear</th>\n",
       "    </tr>\n",
       "    <tr>\n",
       "      <th>name</th>\n",
       "      <th></th>\n",
       "      <th></th>\n",
       "    </tr>\n",
       "  </thead>\n",
       "  <tbody>\n",
       "    <tr>\n",
       "      <th>Bonaventure__Bonaventure__1</th>\n",
       "      <td>1221.0</td>\n",
       "      <td>1274.0</td>\n",
       "    </tr>\n",
       "    <tr>\n",
       "      <th>Muhammad_Mustafa_Jauhar</th>\n",
       "      <td>1895.0</td>\n",
       "      <td>1985.0</td>\n",
       "    </tr>\n",
       "    <tr>\n",
       "      <th>Leonardo_Polo</th>\n",
       "      <td>1926.0</td>\n",
       "      <td>2013.0</td>\n",
       "    </tr>\n",
       "    <tr>\n",
       "      <th>Julian_Savulescu</th>\n",
       "      <td>1963.0</td>\n",
       "      <td>NaN</td>\n",
       "    </tr>\n",
       "    <tr>\n",
       "      <th>Francis_Fukuyama</th>\n",
       "      <td>1952.0</td>\n",
       "      <td>NaN</td>\n",
       "    </tr>\n",
       "  </tbody>\n",
       "</table>\n",
       "</div>"
      ],
      "text/plain": [
       "                             birthyear  deathyear\n",
       "name                                             \n",
       "Bonaventure__Bonaventure__1     1221.0     1274.0\n",
       "Muhammad_Mustafa_Jauhar         1895.0     1985.0\n",
       "Leonardo_Polo                   1926.0     2013.0\n",
       "Julian_Savulescu                1963.0        NaN\n",
       "Francis_Fukuyama                1952.0        NaN"
      ]
     },
     "execution_count": 6,
     "metadata": {},
     "output_type": "execute_result"
    }
   ],
   "source": [
    "df_base.head()"
   ]
  },
  {
   "cell_type": "code",
   "execution_count": 7,
   "metadata": {
    "collapsed": false
   },
   "outputs": [],
   "source": [
    "A = nx.to_numpy_matrix(g_base)"
   ]
  },
  {
   "cell_type": "code",
   "execution_count": 8,
   "metadata": {
    "collapsed": true
   },
   "outputs": [],
   "source": [
    "from sklearn.decomposition import PCA"
   ]
  },
  {
   "cell_type": "code",
   "execution_count": 9,
   "metadata": {
    "collapsed": true
   },
   "outputs": [],
   "source": [
    "pca = PCA().fit(A)"
   ]
  },
  {
   "cell_type": "code",
   "execution_count": 10,
   "metadata": {
    "collapsed": false
   },
   "outputs": [],
   "source": [
    "Y = pca.transform(A)\n",
    "Y = zip(*Y)"
   ]
  },
  {
   "cell_type": "code",
   "execution_count": 11,
   "metadata": {
    "collapsed": false
   },
   "outputs": [
    {
     "data": {
      "image/png": "[encoded data removed]",
      "text/plain": [
       "<matplotlib.figure.Figure at 0x111c7fdd0>"
      ]
     },
     "metadata": {},
     "output_type": "display_data"
    }
   ],
   "source": [
    "x = list(df_base[\"birthyear\"])\n",
    "y = Y[0]\n",
    "\n",
    "time_periods = [[-750, 1000],[1000, 1900],[1900, 2000]]\n",
    "\n",
    "plt.figure(figsize=(20,8))\n",
    "plt.scatter(x, y)\n",
    "plt.show()"
   ]
  },
  {
   "cell_type": "code",
   "execution_count": 12,
   "metadata": {
    "collapsed": false
   },
   "outputs": [
    {
     "data": {
      "text/plain": [
       "<matplotlib.figure.Figure at 0x111c9ee50>"
      ]
     },
     "metadata": {},
     "output_type": "display_data"
    },
    {
     "data": {
      "image/png": "[encoded data removed]",
      "text/plain": [
       "<matplotlib.figure.Figure at 0x111c9eb90>"
      ]
     },
     "metadata": {},
     "output_type": "display_data"
    }
   ],
   "source": [
    "x = list(df_base[\"birthyear\"])\n",
    "y = Y[0]\n",
    "\n",
    "time_periods = [[-750, 1000],[1000, 1900],[1900, 2000]]\n",
    "\n",
    "plt.figure(figsize=(20,8))\n",
    "\n",
    "f, ax = plt.subplots(1, 3, sharex=False, sharey=True, figsize=(20,8))\n",
    "\n",
    "for i, time_period in enumerate(time_periods):\n",
    "  ax[i].scatter(x,y)\n",
    "  \n",
    "  ax[i].set_xlim(time_period[0], time_period[1])\n",
    "  \n",
    "  ax[i].spines['right'].set_visible(False)\n",
    "  ax[i].spines['left'].set_visible(False)\n",
    "  ax[i].spines['top'].set_visible(False)\n",
    "  ax[i].xaxis.set_ticks_position('bottom') \n",
    "  ax[i].yaxis.set_ticks_position('none') \n",
    "\n",
    "# f.tight_layout()\n",
    "f.subplots_adjust(wspace=0)\n",
    "plt.show()"
   ]
  },
  {
   "cell_type": "code",
   "execution_count": 13,
   "metadata": {
    "collapsed": true
   },
   "outputs": [],
   "source": [
    "def colorize(condition):\n",
    "  if condition:\n",
    "    return (1,0,0,1)\n",
    "  else:\n",
    "    return (.5,.5,.5,.2)"
   ]
  },
  {
   "cell_type": "markdown",
   "metadata": {},
   "source": [
    "## chronological anomalies"
   ]
  },
  {
   "cell_type": "code",
   "execution_count": 14,
   "metadata": {
    "collapsed": true
   },
   "outputs": [],
   "source": [
    "def is_chronological_anomaly(n, g, df):\n",
    "  # print n\n",
    "  successors = g.successors(n)\n",
    "  predecessors = g.predecessors(n)\n",
    "\n",
    "  condition = False\n",
    "  \n",
    "  # check if successors (people that have been given influence)\n",
    "  for n2 in successors:\n",
    "    if df.loc[n2, \"birthyear\"] > df.loc[n, \"deathyear\"]:\n",
    "      condition = True\n",
    "  \n",
    "  # check if predecessors (people that have received influence)\n",
    "  for n2 in predecessors:\n",
    "    if df.loc[n, \"birthyear\"] > df.loc[n2, \"deathyear\"]:\n",
    "      condition = True\n",
    "  \n",
    "  return condition\n",
    "\n",
    "df_base[\"is chronological anomaly\"] = map(lambda n: is_chronological_anomaly(n, g_base, df_base), df_base.index)"
   ]
  },
  {
   "cell_type": "code",
   "execution_count": 15,
   "metadata": {
    "collapsed": false
   },
   "outputs": [
    {
     "name": "stdout",
     "output_type": "stream",
     "text": [
      "Index([u'Plato', u'Georg_Wilhelm_Friedrich_Hegel', u'Abu_Yusuf',\n",
      "       u'Mirza_Mazhar_Jan-e-Janaan', u'Al-Dhahabi', u'Leucippus',\n",
      "       u'Blaise_Pascal', u'Proclus', u'Muhammad_al-Shaybani', u'Democritus',\n",
      "       u'Pseudo-Dionysius_the_Areopagite', u'Yusuf_ibn_Abd_al-Rahman_al-Mizzi',\n",
      "       u'Homer', u'Zhuang_Zhou', u'Plotinus', u'Burhan_al-Din_al-Marghinani',\n",
      "       u'Ahmad_Sirhindi', u'Ibn_Abd_al-Hadi', u'Immanuel_Kant', u'Iamblichus',\n",
      "       u'Predrag_Finci', u'Qadi_Thanaullah_Panipati', u'Laozi'],\n",
      "      dtype='object', name=u'name')\n"
     ]
    }
   ],
   "source": [
    "print df_base[df_base[\"is chronological anomaly\"] == True].index"
   ]
  },
  {
   "cell_type": "code",
   "execution_count": 16,
   "metadata": {
    "collapsed": false
   },
   "outputs": [
    {
     "data": {
      "image/png": "[encoded data removed]",
      "text/plain": [
       "<matplotlib.figure.Figure at 0x1174df390>"
      ]
     },
     "metadata": {},
     "output_type": "display_data"
    }
   ],
   "source": [
    "colors = map(colorize, df_base[\"is chronological anomaly\"])\n",
    "  \n",
    "plt.figure(figsize=(20,8))\n",
    "plt.scatter(x, y, lw=0, color=colors)\n",
    "plt.xlim(-700, 2018)\n",
    "plt.show()"
   ]
  },
  {
   "cell_type": "markdown",
   "metadata": {},
   "source": [
    "## demographical anomalies"
   ]
  },
  {
   "cell_type": "code",
   "execution_count": 17,
   "metadata": {
    "collapsed": false
   },
   "outputs": [
    {
     "name": "stdout",
     "output_type": "stream",
     "text": [
      "71.6061643836\n",
      "15.37096558\n"
     ]
    },
    {
     "data": {
      "image/png": "[encoded data removed]",
      "text/plain": [
       "<matplotlib.figure.Figure at 0x1174b6d90>"
      ]
     },
     "metadata": {},
     "output_type": "display_data"
    }
   ],
   "source": [
    "ages = df_base[ df_base[\"deathyear\"].notnull() & df_base[\"birthyear\"].notnull() ][\"deathyear\"] - df_base[ df_base[\"deathyear\"].notnull() & df_base[\"birthyear\"].notnull()][\"birthyear\"]\n",
    "ages = ages[(ages > 0) & (ages < 130)]\n",
    "\n",
    "mu = ages.mean()\n",
    "sigma = ages.std()\n",
    "\n",
    "print mu\n",
    "print sigma\n",
    "\n",
    "plt.hist(ages, bins=50)\n",
    "\n",
    "x = np.linspace(0,120,100)\n",
    "plt.plot(x,mlab.normpdf(x,mu,sigma)*len(ages), color=\"red\")\n",
    "\n",
    "plt.show()"
   ]
  },
  {
   "cell_type": "code",
   "execution_count": 18,
   "metadata": {
    "collapsed": false
   },
   "outputs": [
    {
     "name": "stdout",
     "output_type": "stream",
     "text": [
      "5.03144714026e-07\n",
      "9.25818547774e-05\n",
      "0.0258129662363\n",
      "0.0223590821353\n",
      "0.00471237385743\n",
      "1.30324442075e-06\n"
     ]
    }
   ],
   "source": [
    "def get_prob_normdist(x, mu, sigma):\n",
    "  return mlab.normpdf(x,mu,sigma)\n",
    "\n",
    "print get_prob_normdist(0, mu, sigma)\n",
    "print get_prob_normdist(20, mu, sigma)\n",
    "print get_prob_normdist(70, mu, sigma)\n",
    "print get_prob_normdist(80, mu, sigma)\n",
    "print get_prob_normdist(100, mu, sigma)\n",
    "print get_prob_normdist(140, mu, sigma)"
   ]
  },
  {
   "cell_type": "code",
   "execution_count": 19,
   "metadata": {
    "collapsed": false
   },
   "outputs": [
    {
     "name": "stdout",
     "output_type": "stream",
     "text": [
      "error detected: 19\n",
      "name\n",
      "Speusippus                               747.0\n",
      "Abu_Yusuf                                685.0\n",
      "Philodemus                               150.0\n",
      "Mirza_Mazhar_Jan-e-Janaan                 -1.0\n",
      "Ioane_Petritsi                             1.0\n",
      "Leucippus                                  0.0\n",
      "David_the_Invincible                       0.0\n",
      "Sufyan_al-Thawri                        -555.0\n",
      "Pseudo-Dionysius_the_Areopagite            1.0\n",
      "Yusuf_ibn_Abd_al-Rahman_al-Mizzi        -672.0\n",
      "Metrodorus_of_Lampsacus_(the_younger)    609.0\n",
      "Muhammad_Usman_Damani                    653.0\n",
      "Burhan_al-Din_al-Marghinani                6.0\n",
      "Panaetius                                295.0\n",
      "Arcesilaus                               557.0\n",
      "Ibn_Abi_Asim                             694.0\n",
      "Xenocrates                               710.0\n",
      "Haji_Dost_Muhammad_Qandhari              652.0\n",
      "Laozi                                     -1.0\n",
      "Name: age, dtype: float64\n"
     ]
    }
   ],
   "source": [
    "df_base[\"age\"] = (df_base[\"birthyear\"].notnull() & df_base[\"deathyear\"].notnull()) * (df_base[\"deathyear\"] - df_base[\"birthyear\"])\n",
    "\n",
    "df_base[\"is demographical anomaly\"] = map(lambda x: get_prob_normdist(x, mu, sigma) < .0001, df_base[\"age\"])\n",
    "#df_base.loc[ df_base[\"age\"].isnull().index , \"is demographical anomaly\"] = None\n",
    "\n",
    "print \"error detected: %s\" % len(df_base[ df_base[\"age\"].notnull() & df_base[\"is demographical anomaly\"] ])\n",
    "print df_base[ df_base[\"age\"].notnull() & df_base[\"is demographical anomaly\"] ][\"age\"]\n",
    "\n",
    "#df_base.head(20)"
   ]
  },
  {
   "cell_type": "code",
   "execution_count": 20,
   "metadata": {
    "collapsed": false
   },
   "outputs": [
    {
     "name": "stdout",
     "output_type": "stream",
     "text": [
      "23\n",
      "19\n",
      "35\n"
     ]
    }
   ],
   "source": [
    "print len(df_base[df_base[\"is chronological anomaly\"] == True])\n",
    "print len(df_base[df_base[\"is demographical anomaly\"] == True])\n",
    "print len(df_base[df_base[\"is demographical anomaly\"] | df_base[\"is chronological anomaly\"]])"
   ]
  },
  {
   "cell_type": "markdown",
   "metadata": {},
   "source": [
    "## train a predictor"
   ]
  },
  {
   "cell_type": "code",
   "execution_count": 21,
   "metadata": {
    "collapsed": false
   },
   "outputs": [
    {
     "name": "stdout",
     "output_type": "stream",
     "text": [
      "808\n",
      "35\n"
     ]
    }
   ],
   "source": [
    "g_train = g.subgraph(df_base[df_base[\"birthyear\"].notnull() & (df_base[\"is demographical anomaly\"] == False) & (df_base[\"is chronological anomaly\"] == False)].index)\n",
    "g_test = g.subgraph(df_base[df_base[\"is demographical anomaly\"] | df_base[\"is chronological anomaly\"]].index)\n",
    "\n",
    "print len(g_train.nodes())\n",
    "print len(g_test.nodes())"
   ]
  },
  {
   "cell_type": "code",
   "execution_count": 22,
   "metadata": {
    "collapsed": false
   },
   "outputs": [],
   "source": [
    "from sklearn import linear_model"
   ]
  },
  {
   "cell_type": "markdown",
   "metadata": {},
   "source": [
    "### linear regression"
   ]
  },
  {
   "cell_type": "markdown",
   "metadata": {},
   "source": [
    "#### using only adjacency matrix"
   ]
  },
  {
   "cell_type": "code",
   "execution_count": 198,
   "metadata": {
    "collapsed": false
   },
   "outputs": [],
   "source": [
    "model = linear_model.LinearRegression()\n",
    "\n",
    "X = nx.to_numpy_matrix(g_train)\n",
    "Y = list(df_base.loc[ g_train.nodes() , \"birthyear\"])\n",
    "\n",
    "model = model.fit(X,Y)"
   ]
  },
  {
   "cell_type": "markdown",
   "metadata": {},
   "source": [
    "- min max range mean std predecessors and successors\n",
    "- other models"
   ]
  },
  {
   "cell_type": "code",
   "execution_count": 199,
   "metadata": {
    "collapsed": false
   },
   "outputs": [
    {
     "data": {
      "text/html": [
       "<div>\n",
       "<table border=\"1\" class=\"dataframe\">\n",
       "  <thead>\n",
       "    <tr style=\"text-align: right;\">\n",
       "      <th></th>\n",
       "      <th>birthyear</th>\n",
       "      <th>deathyear</th>\n",
       "      <th>is chronological anomaly</th>\n",
       "      <th>age</th>\n",
       "      <th>is demographical anomaly</th>\n",
       "    </tr>\n",
       "    <tr>\n",
       "      <th>name</th>\n",
       "      <th></th>\n",
       "      <th></th>\n",
       "      <th></th>\n",
       "      <th></th>\n",
       "      <th></th>\n",
       "    </tr>\n",
       "  </thead>\n",
       "  <tbody>\n",
       "    <tr>\n",
       "      <th>Bonaventure__Bonaventure__1</th>\n",
       "      <td>1221.0</td>\n",
       "      <td>1274.0</td>\n",
       "      <td>False</td>\n",
       "      <td>53.0</td>\n",
       "      <td>False</td>\n",
       "    </tr>\n",
       "    <tr>\n",
       "      <th>Muhammad_Mustafa_Jauhar</th>\n",
       "      <td>1895.0</td>\n",
       "      <td>1985.0</td>\n",
       "      <td>False</td>\n",
       "      <td>90.0</td>\n",
       "      <td>False</td>\n",
       "    </tr>\n",
       "    <tr>\n",
       "      <th>Leonardo_Polo</th>\n",
       "      <td>1926.0</td>\n",
       "      <td>2013.0</td>\n",
       "      <td>False</td>\n",
       "      <td>87.0</td>\n",
       "      <td>False</td>\n",
       "    </tr>\n",
       "    <tr>\n",
       "      <th>Julian_Savulescu</th>\n",
       "      <td>1963.0</td>\n",
       "      <td>NaN</td>\n",
       "      <td>False</td>\n",
       "      <td>NaN</td>\n",
       "      <td>False</td>\n",
       "    </tr>\n",
       "    <tr>\n",
       "      <th>Francis_Fukuyama</th>\n",
       "      <td>1952.0</td>\n",
       "      <td>NaN</td>\n",
       "      <td>False</td>\n",
       "      <td>NaN</td>\n",
       "      <td>False</td>\n",
       "    </tr>\n",
       "    <tr>\n",
       "      <th>Jacques_Ellul</th>\n",
       "      <td>1912.0</td>\n",
       "      <td>1994.0</td>\n",
       "      <td>False</td>\n",
       "      <td>82.0</td>\n",
       "      <td>False</td>\n",
       "    </tr>\n",
       "    <tr>\n",
       "      <th>Joseph_Dietzgen</th>\n",
       "      <td>1828.0</td>\n",
       "      <td>1888.0</td>\n",
       "      <td>False</td>\n",
       "      <td>60.0</td>\n",
       "      <td>False</td>\n",
       "    </tr>\n",
       "    <tr>\n",
       "      <th>Richard_David_Precht</th>\n",
       "      <td>1964.0</td>\n",
       "      <td>NaN</td>\n",
       "      <td>False</td>\n",
       "      <td>NaN</td>\n",
       "      <td>False</td>\n",
       "    </tr>\n",
       "    <tr>\n",
       "      <th>Emil_Fackenheim</th>\n",
       "      <td>1916.0</td>\n",
       "      <td>2003.0</td>\n",
       "      <td>False</td>\n",
       "      <td>87.0</td>\n",
       "      <td>False</td>\n",
       "    </tr>\n",
       "    <tr>\n",
       "      <th>Shibli_Nomani</th>\n",
       "      <td>1857.0</td>\n",
       "      <td>1914.0</td>\n",
       "      <td>False</td>\n",
       "      <td>57.0</td>\n",
       "      <td>False</td>\n",
       "    </tr>\n",
       "  </tbody>\n",
       "</table>\n",
       "</div>"
      ],
      "text/plain": [
       "                             birthyear  deathyear is chronological anomaly  \\\n",
       "name                                                                         \n",
       "Bonaventure__Bonaventure__1     1221.0     1274.0                    False   \n",
       "Muhammad_Mustafa_Jauhar         1895.0     1985.0                    False   \n",
       "Leonardo_Polo                   1926.0     2013.0                    False   \n",
       "Julian_Savulescu                1963.0        NaN                    False   \n",
       "Francis_Fukuyama                1952.0        NaN                    False   \n",
       "Jacques_Ellul                   1912.0     1994.0                    False   \n",
       "Joseph_Dietzgen                 1828.0     1888.0                    False   \n",
       "Richard_David_Precht            1964.0        NaN                    False   \n",
       "Emil_Fackenheim                 1916.0     2003.0                    False   \n",
       "Shibli_Nomani                   1857.0     1914.0                    False   \n",
       "\n",
       "                              age is demographical anomaly  \n",
       "name                                                        \n",
       "Bonaventure__Bonaventure__1  53.0                    False  \n",
       "Muhammad_Mustafa_Jauhar      90.0                    False  \n",
       "Leonardo_Polo                87.0                    False  \n",
       "Julian_Savulescu              NaN                    False  \n",
       "Francis_Fukuyama              NaN                    False  \n",
       "Jacques_Ellul                82.0                    False  \n",
       "Joseph_Dietzgen              60.0                    False  \n",
       "Richard_David_Precht          NaN                    False  \n",
       "Emil_Fackenheim              87.0                    False  \n",
       "Shibli_Nomani                57.0                    False  "
      ]
     },
     "execution_count": 199,
     "metadata": {},
     "output_type": "execute_result"
    }
   ],
   "source": [
    "df_train = df_base[df_base[\"birthyear\"].notnull() & (df_base[\"is demographical anomaly\"] == False) & (df_base[\"is chronological anomaly\"] == False)].copy()\n",
    "\n",
    "df_train.head(10)"
   ]
  },
  {
   "cell_type": "code",
   "execution_count": 200,
   "metadata": {
    "collapsed": false
   },
   "outputs": [
    {
     "data": {
      "text/plain": [
       "348.96220835613047"
      ]
     },
     "execution_count": 200,
     "metadata": {},
     "output_type": "execute_result"
    }
   ],
   "source": [
    "df_val = df_base[df_base[\"birthyear\"].notnull() & (df_base[\"is demographical anomaly\"] == False) & (df_base[\"is chronological anomaly\"] == False)].copy()\n",
    "df_val[\"predict\"] = model.predict(nx.to_numpy_matrix(g_train))\n",
    "\n",
    "np.mean(np.sqrt((df_val[\"birthyear\"] - df_val[\"predict\"])**2))"
   ]
  },
  {
   "cell_type": "markdown",
   "metadata": {},
   "source": [
    "#### network statistics"
   ]
  },
  {
   "cell_type": "code",
   "execution_count": 209,
   "metadata": {
    "collapsed": false
   },
   "outputs": [
    {
     "data": {
      "text/html": [
       "<div>\n",
       "<table border=\"1\" class=\"dataframe\">\n",
       "  <thead>\n",
       "    <tr style=\"text-align: right;\">\n",
       "      <th></th>\n",
       "      <th>(following, count)</th>\n",
       "      <th>(following, birth mean)</th>\n",
       "      <th>(following, birth std)</th>\n",
       "      <th>(following, birth min)</th>\n",
       "      <th>(following, birth max)</th>\n",
       "      <th>(following, death mean)</th>\n",
       "      <th>(following, death std)</th>\n",
       "      <th>(followers, count)</th>\n",
       "      <th>(followers, birth mean)</th>\n",
       "      <th>(followers, birth std)</th>\n",
       "      <th>(followers, birth min)</th>\n",
       "      <th>(followers, birth max)</th>\n",
       "      <th>(followers, death mean)</th>\n",
       "      <th>(followers, death std)</th>\n",
       "    </tr>\n",
       "  </thead>\n",
       "  <tbody>\n",
       "    <tr>\n",
       "      <th>Muhammad_Mustafa_Jauhar</th>\n",
       "      <td>0</td>\n",
       "      <td>NaN</td>\n",
       "      <td>NaN</td>\n",
       "      <td>NaN</td>\n",
       "      <td>NaN</td>\n",
       "      <td>NaN</td>\n",
       "      <td>NaN</td>\n",
       "      <td>0</td>\n",
       "      <td>NaN</td>\n",
       "      <td>NaN</td>\n",
       "      <td>NaN</td>\n",
       "      <td>NaN</td>\n",
       "      <td>NaN</td>\n",
       "      <td>NaN</td>\n",
       "    </tr>\n",
       "    <tr>\n",
       "      <th>Leonardo_Polo</th>\n",
       "      <td>3</td>\n",
       "      <td>1121.33</td>\n",
       "      <td>1303.74</td>\n",
       "      <td>-384</td>\n",
       "      <td>1889</td>\n",
       "      <td>1197.33</td>\n",
       "      <td>1315.92</td>\n",
       "      <td>0</td>\n",
       "      <td>NaN</td>\n",
       "      <td>NaN</td>\n",
       "      <td>NaN</td>\n",
       "      <td>NaN</td>\n",
       "      <td>NaN</td>\n",
       "      <td>NaN</td>\n",
       "    </tr>\n",
       "    <tr>\n",
       "      <th>Julian_Savulescu</th>\n",
       "      <td>1</td>\n",
       "      <td>1946</td>\n",
       "      <td>NaN</td>\n",
       "      <td>1946</td>\n",
       "      <td>1946</td>\n",
       "      <td>NaN</td>\n",
       "      <td>NaN</td>\n",
       "      <td>0</td>\n",
       "      <td>NaN</td>\n",
       "      <td>NaN</td>\n",
       "      <td>NaN</td>\n",
       "      <td>NaN</td>\n",
       "      <td>NaN</td>\n",
       "      <td>NaN</td>\n",
       "    </tr>\n",
       "    <tr>\n",
       "      <th>Francis_Fukuyama</th>\n",
       "      <td>1</td>\n",
       "      <td>1930</td>\n",
       "      <td>NaN</td>\n",
       "      <td>1930</td>\n",
       "      <td>1930</td>\n",
       "      <td>1992</td>\n",
       "      <td>NaN</td>\n",
       "      <td>0</td>\n",
       "      <td>NaN</td>\n",
       "      <td>NaN</td>\n",
       "      <td>NaN</td>\n",
       "      <td>NaN</td>\n",
       "      <td>NaN</td>\n",
       "      <td>NaN</td>\n",
       "    </tr>\n",
       "    <tr>\n",
       "      <th>Jacques_Ellul</th>\n",
       "      <td>3</td>\n",
       "      <td>1833.67</td>\n",
       "      <td>35.2184</td>\n",
       "      <td>1809</td>\n",
       "      <td>1874</td>\n",
       "      <td>1898.67</td>\n",
       "      <td>43.6616</td>\n",
       "      <td>4</td>\n",
       "      <td>1923.75</td>\n",
       "      <td>4.78714</td>\n",
       "      <td>1918</td>\n",
       "      <td>1929</td>\n",
       "      <td>1993</td>\n",
       "      <td>7.87401</td>\n",
       "    </tr>\n",
       "  </tbody>\n",
       "</table>\n",
       "</div>"
      ],
      "text/plain": [
       "                        (following, count) (following, birth mean)  \\\n",
       "Muhammad_Mustafa_Jauhar                  0                     NaN   \n",
       "Leonardo_Polo                            3                 1121.33   \n",
       "Julian_Savulescu                         1                    1946   \n",
       "Francis_Fukuyama                         1                    1930   \n",
       "Jacques_Ellul                            3                 1833.67   \n",
       "\n",
       "                        (following, birth std) (following, birth min)  \\\n",
       "Muhammad_Mustafa_Jauhar                    NaN                    NaN   \n",
       "Leonardo_Polo                          1303.74                   -384   \n",
       "Julian_Savulescu                           NaN                   1946   \n",
       "Francis_Fukuyama                           NaN                   1930   \n",
       "Jacques_Ellul                          35.2184                   1809   \n",
       "\n",
       "                        (following, birth max) (following, death mean)  \\\n",
       "Muhammad_Mustafa_Jauhar                    NaN                     NaN   \n",
       "Leonardo_Polo                             1889                 1197.33   \n",
       "Julian_Savulescu                          1946                     NaN   \n",
       "Francis_Fukuyama                          1930                    1992   \n",
       "Jacques_Ellul                             1874                 1898.67   \n",
       "\n",
       "                        (following, death std) (followers, count)  \\\n",
       "Muhammad_Mustafa_Jauhar                    NaN                  0   \n",
       "Leonardo_Polo                          1315.92                  0   \n",
       "Julian_Savulescu                           NaN                  0   \n",
       "Francis_Fukuyama                           NaN                  0   \n",
       "Jacques_Ellul                          43.6616                  4   \n",
       "\n",
       "                        (followers, birth mean) (followers, birth std)  \\\n",
       "Muhammad_Mustafa_Jauhar                     NaN                    NaN   \n",
       "Leonardo_Polo                               NaN                    NaN   \n",
       "Julian_Savulescu                            NaN                    NaN   \n",
       "Francis_Fukuyama                            NaN                    NaN   \n",
       "Jacques_Ellul                           1923.75                4.78714   \n",
       "\n",
       "                        (followers, birth min) (followers, birth max)  \\\n",
       "Muhammad_Mustafa_Jauhar                    NaN                    NaN   \n",
       "Leonardo_Polo                              NaN                    NaN   \n",
       "Julian_Savulescu                           NaN                    NaN   \n",
       "Francis_Fukuyama                           NaN                    NaN   \n",
       "Jacques_Ellul                             1918                   1929   \n",
       "\n",
       "                        (followers, death mean) (followers, death std)  \n",
       "Muhammad_Mustafa_Jauhar                     NaN                    NaN  \n",
       "Leonardo_Polo                               NaN                    NaN  \n",
       "Julian_Savulescu                            NaN                    NaN  \n",
       "Francis_Fukuyama                            NaN                    NaN  \n",
       "Jacques_Ellul                              1993                7.87401  "
      ]
     },
     "execution_count": 209,
     "metadata": {},
     "output_type": "execute_result"
    }
   ],
   "source": [
    "def get_sociodemographic_stats(nodes, g, df_source):\n",
    "  \n",
    "  cols = [ (c1, c2) for c1 in [\"following\", \"followers\"] for c2 in [\"count\", \"birth mean\", \"birth std\", \"birth min\", \"birth max\", \"death mean\", \"death std\"] ]\n",
    "  \n",
    "  df = pd.DataFrame(index=nodes, columns=cols)\n",
    "  \n",
    "  for n in nodes:\n",
    "    following = g.successors(n)\n",
    "    followers = g.predecessors(n)\n",
    "\n",
    "    df_following = df_source.loc[ [ n2 for n2 in following if n2 in df_source.index ] ]\n",
    "    df_followers = df_source.loc[ [ n2 for n2 in followers if n2 in df_source.index ] ]\n",
    "\n",
    "    df.set_value(n, (\"following\", \"count\"), len(following))    \n",
    "    df.set_value(n, (\"following\", \"birth min\"), df_following[\"birthyear\"].min())\n",
    "    df.set_value(n, (\"following\", \"birth max\"), df_following[\"birthyear\"].max())\n",
    "    df.set_value(n, (\"following\", \"birth mean\"), df_following[\"birthyear\"].mean())\n",
    "    df.set_value(n, (\"following\", \"birth std\"), df_following[\"birthyear\"].std())\n",
    "    df.set_value(n, (\"following\", \"death mean\"), df_following[\"deathyear\"].mean())\n",
    "    df.set_value(n, (\"following\", \"death std\"), df_following[\"deathyear\"].std())\n",
    "    \n",
    "    df.set_value(n, (\"followers\", \"count\"), len(followers))    \n",
    "    df.set_value(n, (\"followers\", \"birth min\"), df_followers[\"birthyear\"].min())\n",
    "    df.set_value(n, (\"followers\", \"birth max\"), df_followers[\"birthyear\"].max())\n",
    "    df.set_value(n, (\"followers\", \"birth mean\"), df_followers[\"birthyear\"].mean())\n",
    "    df.set_value(n, (\"followers\", \"birth std\"), df_followers[\"birthyear\"].std())\n",
    "    df.set_value(n, (\"followers\", \"death mean\"), df_followers[\"deathyear\"].mean())\n",
    "    df.set_value(n, (\"followers\", \"death std\"), df_followers[\"deathyear\"].std())\n",
    "\n",
    "  return df\n",
    "\n",
    "get_sociodemographic_stats(g_train.nodes()[0:5], g_train, df_base.loc[g_train.nodes()])"
   ]
  },
  {
   "cell_type": "code",
   "execution_count": 246,
   "metadata": {
    "collapsed": true
   },
   "outputs": [],
   "source": [
    "df_all = get_sociodemographic_stats(g.nodes(), g, df)"
   ]
  },
  {
   "cell_type": "code",
   "execution_count": 248,
   "metadata": {
    "collapsed": false
   },
   "outputs": [
    {
     "name": "stdout",
     "output_type": "stream",
     "text": [
      "1071\n"
     ]
    }
   ],
   "source": [
    "df_all.to_csv(\"datasets/demographics.csv\", encoding=\"utf-8\")"
   ]
  },
  {
   "cell_type": "code",
   "execution_count": 230,
   "metadata": {
    "collapsed": false
   },
   "outputs": [],
   "source": [
    "model = linear_model.LinearRegression(normalize=True)\n",
    "\n",
    "df_train2 = get_sociodemographic_stats(g_train.nodes(), g_train, df_base.loc[g_train.nodes()])\n",
    "\n",
    "X = df_train2.fillna(0).as_matrix()\n",
    "Y = list(df_base.loc[ g_train.nodes() , \"birthyear\"])\n",
    "\n",
    "model = model.fit(X,Y)"
   ]
  },
  {
   "cell_type": "code",
   "execution_count": 229,
   "metadata": {
    "collapsed": false
   },
   "outputs": [
    {
     "data": {
      "text/plain": [
       "LinearRegression(copy_X=True, fit_intercept=True, n_jobs=1, normalize=False)"
      ]
     },
     "execution_count": 229,
     "metadata": {},
     "output_type": "execute_result"
    }
   ],
   "source": [
    "model"
   ]
  },
  {
   "cell_type": "code",
   "execution_count": 231,
   "metadata": {
    "collapsed": false
   },
   "outputs": [
    {
     "data": {
      "text/plain": [
       "201.11855450580185"
      ]
     },
     "execution_count": 231,
     "metadata": {},
     "output_type": "execute_result"
    }
   ],
   "source": [
    "np.mean(np.sqrt((Y - model.predict(X))**2))"
   ]
  },
  {
   "cell_type": "code",
   "execution_count": 223,
   "metadata": {
    "collapsed": true
   },
   "outputs": [],
   "source": [
    "df_train2[\"real\"] = df_base.loc[ g_train.nodes() , \"birthyear\"]\n",
    "df_train2[\"predict\"] = model.predict(X)"
   ]
  },
  {
   "cell_type": "code",
   "execution_count": 224,
   "metadata": {
    "collapsed": false
   },
   "outputs": [
    {
     "data": {
      "text/html": [
       "<div>\n",
       "<table border=\"1\" class=\"dataframe\">\n",
       "  <thead>\n",
       "    <tr style=\"text-align: right;\">\n",
       "      <th></th>\n",
       "      <th>(following, count)</th>\n",
       "      <th>(following, birth mean)</th>\n",
       "      <th>(following, birth std)</th>\n",
       "      <th>(following, birth min)</th>\n",
       "      <th>(following, birth max)</th>\n",
       "      <th>(following, death mean)</th>\n",
       "      <th>(following, death std)</th>\n",
       "      <th>(followers, count)</th>\n",
       "      <th>(followers, birth mean)</th>\n",
       "      <th>(followers, birth std)</th>\n",
       "      <th>(followers, birth min)</th>\n",
       "      <th>(followers, birth max)</th>\n",
       "      <th>(followers, death mean)</th>\n",
       "      <th>(followers, death std)</th>\n",
       "      <th>real</th>\n",
       "      <th>predict</th>\n",
       "    </tr>\n",
       "  </thead>\n",
       "  <tbody>\n",
       "    <tr>\n",
       "      <th>Muhammad_Mustafa_Jauhar</th>\n",
       "      <td>0</td>\n",
       "      <td>NaN</td>\n",
       "      <td>NaN</td>\n",
       "      <td>NaN</td>\n",
       "      <td>NaN</td>\n",
       "      <td>NaN</td>\n",
       "      <td>NaN</td>\n",
       "      <td>0</td>\n",
       "      <td>NaN</td>\n",
       "      <td>NaN</td>\n",
       "      <td>NaN</td>\n",
       "      <td>NaN</td>\n",
       "      <td>NaN</td>\n",
       "      <td>NaN</td>\n",
       "      <td>1895.0</td>\n",
       "      <td>1265.310884</td>\n",
       "    </tr>\n",
       "    <tr>\n",
       "      <th>Leonardo_Polo</th>\n",
       "      <td>3</td>\n",
       "      <td>1121.33</td>\n",
       "      <td>1303.74</td>\n",
       "      <td>-384</td>\n",
       "      <td>1889</td>\n",
       "      <td>1197.33</td>\n",
       "      <td>1315.92</td>\n",
       "      <td>0</td>\n",
       "      <td>NaN</td>\n",
       "      <td>NaN</td>\n",
       "      <td>NaN</td>\n",
       "      <td>NaN</td>\n",
       "      <td>NaN</td>\n",
       "      <td>NaN</td>\n",
       "      <td>1926.0</td>\n",
       "      <td>1851.758754</td>\n",
       "    </tr>\n",
       "    <tr>\n",
       "      <th>Julian_Savulescu</th>\n",
       "      <td>1</td>\n",
       "      <td>1946</td>\n",
       "      <td>NaN</td>\n",
       "      <td>1946</td>\n",
       "      <td>1946</td>\n",
       "      <td>NaN</td>\n",
       "      <td>NaN</td>\n",
       "      <td>0</td>\n",
       "      <td>NaN</td>\n",
       "      <td>NaN</td>\n",
       "      <td>NaN</td>\n",
       "      <td>NaN</td>\n",
       "      <td>NaN</td>\n",
       "      <td>NaN</td>\n",
       "      <td>1963.0</td>\n",
       "      <td>2016.160907</td>\n",
       "    </tr>\n",
       "    <tr>\n",
       "      <th>Francis_Fukuyama</th>\n",
       "      <td>1</td>\n",
       "      <td>1930</td>\n",
       "      <td>NaN</td>\n",
       "      <td>1930</td>\n",
       "      <td>1930</td>\n",
       "      <td>1992</td>\n",
       "      <td>NaN</td>\n",
       "      <td>0</td>\n",
       "      <td>NaN</td>\n",
       "      <td>NaN</td>\n",
       "      <td>NaN</td>\n",
       "      <td>NaN</td>\n",
       "      <td>NaN</td>\n",
       "      <td>NaN</td>\n",
       "      <td>1952.0</td>\n",
       "      <td>1915.228577</td>\n",
       "    </tr>\n",
       "    <tr>\n",
       "      <th>Jacques_Ellul</th>\n",
       "      <td>3</td>\n",
       "      <td>1833.67</td>\n",
       "      <td>35.2184</td>\n",
       "      <td>1809</td>\n",
       "      <td>1874</td>\n",
       "      <td>1898.67</td>\n",
       "      <td>43.6616</td>\n",
       "      <td>4</td>\n",
       "      <td>1923.75</td>\n",
       "      <td>4.78714</td>\n",
       "      <td>1918</td>\n",
       "      <td>1929</td>\n",
       "      <td>1993</td>\n",
       "      <td>7.87401</td>\n",
       "      <td>1912.0</td>\n",
       "      <td>1960.434883</td>\n",
       "    </tr>\n",
       "    <tr>\n",
       "      <th>Moses_Mendelssohn</th>\n",
       "      <td>4</td>\n",
       "      <td>1539.5</td>\n",
       "      <td>272.835</td>\n",
       "      <td>1137</td>\n",
       "      <td>1743</td>\n",
       "      <td>1610.75</td>\n",
       "      <td>276.035</td>\n",
       "      <td>3</td>\n",
       "      <td>1798.67</td>\n",
       "      <td>87.0651</td>\n",
       "      <td>1743</td>\n",
       "      <td>1899</td>\n",
       "      <td>1864</td>\n",
       "      <td>94.8736</td>\n",
       "      <td>1729.0</td>\n",
       "      <td>1759.210362</td>\n",
       "    </tr>\n",
       "    <tr>\n",
       "      <th>Richard_David_Precht</th>\n",
       "      <td>1</td>\n",
       "      <td>1953</td>\n",
       "      <td>NaN</td>\n",
       "      <td>1953</td>\n",
       "      <td>1953</td>\n",
       "      <td>NaN</td>\n",
       "      <td>NaN</td>\n",
       "      <td>0</td>\n",
       "      <td>NaN</td>\n",
       "      <td>NaN</td>\n",
       "      <td>NaN</td>\n",
       "      <td>NaN</td>\n",
       "      <td>NaN</td>\n",
       "      <td>NaN</td>\n",
       "      <td>1964.0</td>\n",
       "      <td>2018.945183</td>\n",
       "    </tr>\n",
       "    <tr>\n",
       "      <th>Emil_Fackenheim</th>\n",
       "      <td>1</td>\n",
       "      <td>1775</td>\n",
       "      <td>NaN</td>\n",
       "      <td>1775</td>\n",
       "      <td>1775</td>\n",
       "      <td>1854</td>\n",
       "      <td>NaN</td>\n",
       "      <td>0</td>\n",
       "      <td>NaN</td>\n",
       "      <td>NaN</td>\n",
       "      <td>NaN</td>\n",
       "      <td>NaN</td>\n",
       "      <td>NaN</td>\n",
       "      <td>NaN</td>\n",
       "      <td>1916.0</td>\n",
       "      <td>1860.128167</td>\n",
       "    </tr>\n",
       "    <tr>\n",
       "      <th>Shibli_Nomani</th>\n",
       "      <td>1</td>\n",
       "      <td>1817</td>\n",
       "      <td>NaN</td>\n",
       "      <td>1817</td>\n",
       "      <td>1817</td>\n",
       "      <td>1898</td>\n",
       "      <td>NaN</td>\n",
       "      <td>2</td>\n",
       "      <td>1928</td>\n",
       "      <td>33.9411</td>\n",
       "      <td>1904</td>\n",
       "      <td>1952</td>\n",
       "      <td>1997</td>\n",
       "      <td>NaN</td>\n",
       "      <td>1857.0</td>\n",
       "      <td>1972.767229</td>\n",
       "    </tr>\n",
       "    <tr>\n",
       "      <th>Hent_de_Vries</th>\n",
       "      <td>1</td>\n",
       "      <td>1926</td>\n",
       "      <td>NaN</td>\n",
       "      <td>1926</td>\n",
       "      <td>1926</td>\n",
       "      <td>NaN</td>\n",
       "      <td>NaN</td>\n",
       "      <td>0</td>\n",
       "      <td>NaN</td>\n",
       "      <td>NaN</td>\n",
       "      <td>NaN</td>\n",
       "      <td>NaN</td>\n",
       "      <td>NaN</td>\n",
       "      <td>NaN</td>\n",
       "      <td>1958.0</td>\n",
       "      <td>2008.205833</td>\n",
       "    </tr>\n",
       "    <tr>\n",
       "      <th>George_Gurdjieff</th>\n",
       "      <td>0</td>\n",
       "      <td>NaN</td>\n",
       "      <td>NaN</td>\n",
       "      <td>NaN</td>\n",
       "      <td>NaN</td>\n",
       "      <td>NaN</td>\n",
       "      <td>NaN</td>\n",
       "      <td>1</td>\n",
       "      <td>1898</td>\n",
       "      <td>NaN</td>\n",
       "      <td>1898</td>\n",
       "      <td>1898</td>\n",
       "      <td>1974</td>\n",
       "      <td>NaN</td>\n",
       "      <td>1866.0</td>\n",
       "      <td>1390.819049</td>\n",
       "    </tr>\n",
       "    <tr>\n",
       "      <th>Debiprasad_Chattopadhyaya</th>\n",
       "      <td>1</td>\n",
       "      <td>1818</td>\n",
       "      <td>NaN</td>\n",
       "      <td>1818</td>\n",
       "      <td>1818</td>\n",
       "      <td>1883</td>\n",
       "      <td>NaN</td>\n",
       "      <td>1</td>\n",
       "      <td>1947</td>\n",
       "      <td>NaN</td>\n",
       "      <td>1947</td>\n",
       "      <td>1947</td>\n",
       "      <td>NaN</td>\n",
       "      <td>NaN</td>\n",
       "      <td>1918.0</td>\n",
       "      <td>2037.389538</td>\n",
       "    </tr>\n",
       "    <tr>\n",
       "      <th>Gerald_Cohen</th>\n",
       "      <td>3</td>\n",
       "      <td>1875.67</td>\n",
       "      <td>50.1431</td>\n",
       "      <td>1818</td>\n",
       "      <td>1909</td>\n",
       "      <td>1952</td>\n",
       "      <td>60.6712</td>\n",
       "      <td>1</td>\n",
       "      <td>1959</td>\n",
       "      <td>NaN</td>\n",
       "      <td>1959</td>\n",
       "      <td>1959</td>\n",
       "      <td>NaN</td>\n",
       "      <td>NaN</td>\n",
       "      <td>1941.0</td>\n",
       "      <td>2024.023981</td>\n",
       "    </tr>\n",
       "    <tr>\n",
       "      <th>Zeno_of_Citium</th>\n",
       "      <td>4</td>\n",
       "      <td>-402.5</td>\n",
       "      <td>88.5532</td>\n",
       "      <td>-535</td>\n",
       "      <td>-350</td>\n",
       "      <td>-330</td>\n",
       "      <td>96.6954</td>\n",
       "      <td>5</td>\n",
       "      <td>-138.6</td>\n",
       "      <td>167.3</td>\n",
       "      <td>-330</td>\n",
       "      <td>55</td>\n",
       "      <td>-57.4</td>\n",
       "      <td>161.178</td>\n",
       "      <td>-334.0</td>\n",
       "      <td>759.123491</td>\n",
       "    </tr>\n",
       "    <tr>\n",
       "      <th>Peter_G._Ossorio</th>\n",
       "      <td>1</td>\n",
       "      <td>1889</td>\n",
       "      <td>NaN</td>\n",
       "      <td>1889</td>\n",
       "      <td>1889</td>\n",
       "      <td>1951</td>\n",
       "      <td>NaN</td>\n",
       "      <td>0</td>\n",
       "      <td>NaN</td>\n",
       "      <td>NaN</td>\n",
       "      <td>NaN</td>\n",
       "      <td>NaN</td>\n",
       "      <td>NaN</td>\n",
       "      <td>NaN</td>\n",
       "      <td>1926.0</td>\n",
       "      <td>1900.867110</td>\n",
       "    </tr>\n",
       "    <tr>\n",
       "      <th>Hans_Reichenbach</th>\n",
       "      <td>0</td>\n",
       "      <td>NaN</td>\n",
       "      <td>NaN</td>\n",
       "      <td>NaN</td>\n",
       "      <td>NaN</td>\n",
       "      <td>NaN</td>\n",
       "      <td>NaN</td>\n",
       "      <td>2</td>\n",
       "      <td>1933.5</td>\n",
       "      <td>10.6066</td>\n",
       "      <td>1926</td>\n",
       "      <td>1941</td>\n",
       "      <td>NaN</td>\n",
       "      <td>NaN</td>\n",
       "      <td>1891.0</td>\n",
       "      <td>1415.760296</td>\n",
       "    </tr>\n",
       "    <tr>\n",
       "      <th>Herbert_Blumer</th>\n",
       "      <td>4</td>\n",
       "      <td>1861</td>\n",
       "      <td>2.94392</td>\n",
       "      <td>1858</td>\n",
       "      <td>1864</td>\n",
       "      <td>1932.5</td>\n",
       "      <td>14.2009</td>\n",
       "      <td>0</td>\n",
       "      <td>NaN</td>\n",
       "      <td>NaN</td>\n",
       "      <td>NaN</td>\n",
       "      <td>NaN</td>\n",
       "      <td>NaN</td>\n",
       "      <td>NaN</td>\n",
       "      <td>1900.0</td>\n",
       "      <td>1823.007225</td>\n",
       "    </tr>\n",
       "    <tr>\n",
       "      <th>Raymond_Geuss</th>\n",
       "      <td>5</td>\n",
       "      <td>1864.4</td>\n",
       "      <td>36.1151</td>\n",
       "      <td>1818</td>\n",
       "      <td>1903</td>\n",
       "      <td>1936.6</td>\n",
       "      <td>42.7118</td>\n",
       "      <td>0</td>\n",
       "      <td>NaN</td>\n",
       "      <td>NaN</td>\n",
       "      <td>NaN</td>\n",
       "      <td>NaN</td>\n",
       "      <td>NaN</td>\n",
       "      <td>NaN</td>\n",
       "      <td>1946.0</td>\n",
       "      <td>1813.174601</td>\n",
       "    </tr>\n",
       "    <tr>\n",
       "      <th>Friedrich_Albert_Lange</th>\n",
       "      <td>0</td>\n",
       "      <td>NaN</td>\n",
       "      <td>NaN</td>\n",
       "      <td>NaN</td>\n",
       "      <td>NaN</td>\n",
       "      <td>NaN</td>\n",
       "      <td>NaN</td>\n",
       "      <td>1</td>\n",
       "      <td>1844</td>\n",
       "      <td>NaN</td>\n",
       "      <td>1844</td>\n",
       "      <td>1844</td>\n",
       "      <td>1900</td>\n",
       "      <td>NaN</td>\n",
       "      <td>1828.0</td>\n",
       "      <td>1387.507729</td>\n",
       "    </tr>\n",
       "    <tr>\n",
       "      <th>Jacques_Lacan</th>\n",
       "      <td>6</td>\n",
       "      <td>1873.33</td>\n",
       "      <td>30.7939</td>\n",
       "      <td>1818</td>\n",
       "      <td>1897</td>\n",
       "      <td>1947.5</td>\n",
       "      <td>40.0637</td>\n",
       "      <td>12</td>\n",
       "      <td>1947</td>\n",
       "      <td>16.9438</td>\n",
       "      <td>1918</td>\n",
       "      <td>1973</td>\n",
       "      <td>1992.5</td>\n",
       "      <td>3.53553</td>\n",
       "      <td>1901.0</td>\n",
       "      <td>1891.744104</td>\n",
       "    </tr>\n",
       "  </tbody>\n",
       "</table>\n",
       "</div>"
      ],
      "text/plain": [
       "                          (following, count) (following, birth mean)  \\\n",
       "Muhammad_Mustafa_Jauhar                    0                     NaN   \n",
       "Leonardo_Polo                              3                 1121.33   \n",
       "Julian_Savulescu                           1                    1946   \n",
       "Francis_Fukuyama                           1                    1930   \n",
       "Jacques_Ellul                              3                 1833.67   \n",
       "Moses_Mendelssohn                          4                  1539.5   \n",
       "Richard_David_Precht                       1                    1953   \n",
       "Emil_Fackenheim                            1                    1775   \n",
       "Shibli_Nomani                              1                    1817   \n",
       "Hent_de_Vries                              1                    1926   \n",
       "George_Gurdjieff                           0                     NaN   \n",
       "Debiprasad_Chattopadhyaya                  1                    1818   \n",
       "Gerald_Cohen                               3                 1875.67   \n",
       "Zeno_of_Citium                             4                  -402.5   \n",
       "Peter_G._Ossorio                           1                    1889   \n",
       "Hans_Reichenbach                           0                     NaN   \n",
       "Herbert_Blumer                             4                    1861   \n",
       "Raymond_Geuss                              5                  1864.4   \n",
       "Friedrich_Albert_Lange                     0                     NaN   \n",
       "Jacques_Lacan                              6                 1873.33   \n",
       "\n",
       "                          (following, birth std) (following, birth min)  \\\n",
       "Muhammad_Mustafa_Jauhar                      NaN                    NaN   \n",
       "Leonardo_Polo                            1303.74                   -384   \n",
       "Julian_Savulescu                             NaN                   1946   \n",
       "Francis_Fukuyama                             NaN                   1930   \n",
       "Jacques_Ellul                            35.2184                   1809   \n",
       "Moses_Mendelssohn                        272.835                   1137   \n",
       "Richard_David_Precht                         NaN                   1953   \n",
       "Emil_Fackenheim                              NaN                   1775   \n",
       "Shibli_Nomani                                NaN                   1817   \n",
       "Hent_de_Vries                                NaN                   1926   \n",
       "George_Gurdjieff                             NaN                    NaN   \n",
       "Debiprasad_Chattopadhyaya                    NaN                   1818   \n",
       "Gerald_Cohen                             50.1431                   1818   \n",
       "Zeno_of_Citium                           88.5532                   -535   \n",
       "Peter_G._Ossorio                             NaN                   1889   \n",
       "Hans_Reichenbach                             NaN                    NaN   \n",
       "Herbert_Blumer                           2.94392                   1858   \n",
       "Raymond_Geuss                            36.1151                   1818   \n",
       "Friedrich_Albert_Lange                       NaN                    NaN   \n",
       "Jacques_Lacan                            30.7939                   1818   \n",
       "\n",
       "                          (following, birth max) (following, death mean)  \\\n",
       "Muhammad_Mustafa_Jauhar                      NaN                     NaN   \n",
       "Leonardo_Polo                               1889                 1197.33   \n",
       "Julian_Savulescu                            1946                     NaN   \n",
       "Francis_Fukuyama                            1930                    1992   \n",
       "Jacques_Ellul                               1874                 1898.67   \n",
       "Moses_Mendelssohn                           1743                 1610.75   \n",
       "Richard_David_Precht                        1953                     NaN   \n",
       "Emil_Fackenheim                             1775                    1854   \n",
       "Shibli_Nomani                               1817                    1898   \n",
       "Hent_de_Vries                               1926                     NaN   \n",
       "George_Gurdjieff                             NaN                     NaN   \n",
       "Debiprasad_Chattopadhyaya                   1818                    1883   \n",
       "Gerald_Cohen                                1909                    1952   \n",
       "Zeno_of_Citium                              -350                    -330   \n",
       "Peter_G._Ossorio                            1889                    1951   \n",
       "Hans_Reichenbach                             NaN                     NaN   \n",
       "Herbert_Blumer                              1864                  1932.5   \n",
       "Raymond_Geuss                               1903                  1936.6   \n",
       "Friedrich_Albert_Lange                       NaN                     NaN   \n",
       "Jacques_Lacan                               1897                  1947.5   \n",
       "\n",
       "                          (following, death std) (followers, count)  \\\n",
       "Muhammad_Mustafa_Jauhar                      NaN                  0   \n",
       "Leonardo_Polo                            1315.92                  0   \n",
       "Julian_Savulescu                             NaN                  0   \n",
       "Francis_Fukuyama                             NaN                  0   \n",
       "Jacques_Ellul                            43.6616                  4   \n",
       "Moses_Mendelssohn                        276.035                  3   \n",
       "Richard_David_Precht                         NaN                  0   \n",
       "Emil_Fackenheim                              NaN                  0   \n",
       "Shibli_Nomani                                NaN                  2   \n",
       "Hent_de_Vries                                NaN                  0   \n",
       "George_Gurdjieff                             NaN                  1   \n",
       "Debiprasad_Chattopadhyaya                    NaN                  1   \n",
       "Gerald_Cohen                             60.6712                  1   \n",
       "Zeno_of_Citium                           96.6954                  5   \n",
       "Peter_G._Ossorio                             NaN                  0   \n",
       "Hans_Reichenbach                             NaN                  2   \n",
       "Herbert_Blumer                           14.2009                  0   \n",
       "Raymond_Geuss                            42.7118                  0   \n",
       "Friedrich_Albert_Lange                       NaN                  1   \n",
       "Jacques_Lacan                            40.0637                 12   \n",
       "\n",
       "                          (followers, birth mean) (followers, birth std)  \\\n",
       "Muhammad_Mustafa_Jauhar                       NaN                    NaN   \n",
       "Leonardo_Polo                                 NaN                    NaN   \n",
       "Julian_Savulescu                              NaN                    NaN   \n",
       "Francis_Fukuyama                              NaN                    NaN   \n",
       "Jacques_Ellul                             1923.75                4.78714   \n",
       "Moses_Mendelssohn                         1798.67                87.0651   \n",
       "Richard_David_Precht                          NaN                    NaN   \n",
       "Emil_Fackenheim                               NaN                    NaN   \n",
       "Shibli_Nomani                                1928                33.9411   \n",
       "Hent_de_Vries                                 NaN                    NaN   \n",
       "George_Gurdjieff                             1898                    NaN   \n",
       "Debiprasad_Chattopadhyaya                    1947                    NaN   \n",
       "Gerald_Cohen                                 1959                    NaN   \n",
       "Zeno_of_Citium                             -138.6                  167.3   \n",
       "Peter_G._Ossorio                              NaN                    NaN   \n",
       "Hans_Reichenbach                           1933.5                10.6066   \n",
       "Herbert_Blumer                                NaN                    NaN   \n",
       "Raymond_Geuss                                 NaN                    NaN   \n",
       "Friedrich_Albert_Lange                       1844                    NaN   \n",
       "Jacques_Lacan                                1947                16.9438   \n",
       "\n",
       "                          (followers, birth min) (followers, birth max)  \\\n",
       "Muhammad_Mustafa_Jauhar                      NaN                    NaN   \n",
       "Leonardo_Polo                                NaN                    NaN   \n",
       "Julian_Savulescu                             NaN                    NaN   \n",
       "Francis_Fukuyama                             NaN                    NaN   \n",
       "Jacques_Ellul                               1918                   1929   \n",
       "Moses_Mendelssohn                           1743                   1899   \n",
       "Richard_David_Precht                         NaN                    NaN   \n",
       "Emil_Fackenheim                              NaN                    NaN   \n",
       "Shibli_Nomani                               1904                   1952   \n",
       "Hent_de_Vries                                NaN                    NaN   \n",
       "George_Gurdjieff                            1898                   1898   \n",
       "Debiprasad_Chattopadhyaya                   1947                   1947   \n",
       "Gerald_Cohen                                1959                   1959   \n",
       "Zeno_of_Citium                              -330                     55   \n",
       "Peter_G._Ossorio                             NaN                    NaN   \n",
       "Hans_Reichenbach                            1926                   1941   \n",
       "Herbert_Blumer                               NaN                    NaN   \n",
       "Raymond_Geuss                                NaN                    NaN   \n",
       "Friedrich_Albert_Lange                      1844                   1844   \n",
       "Jacques_Lacan                               1918                   1973   \n",
       "\n",
       "                          (followers, death mean) (followers, death std)  \\\n",
       "Muhammad_Mustafa_Jauhar                       NaN                    NaN   \n",
       "Leonardo_Polo                                 NaN                    NaN   \n",
       "Julian_Savulescu                              NaN                    NaN   \n",
       "Francis_Fukuyama                              NaN                    NaN   \n",
       "Jacques_Ellul                                1993                7.87401   \n",
       "Moses_Mendelssohn                            1864                94.8736   \n",
       "Richard_David_Precht                          NaN                    NaN   \n",
       "Emil_Fackenheim                               NaN                    NaN   \n",
       "Shibli_Nomani                                1997                    NaN   \n",
       "Hent_de_Vries                                 NaN                    NaN   \n",
       "George_Gurdjieff                             1974                    NaN   \n",
       "Debiprasad_Chattopadhyaya                     NaN                    NaN   \n",
       "Gerald_Cohen                                  NaN                    NaN   \n",
       "Zeno_of_Citium                              -57.4                161.178   \n",
       "Peter_G._Ossorio                              NaN                    NaN   \n",
       "Hans_Reichenbach                              NaN                    NaN   \n",
       "Herbert_Blumer                                NaN                    NaN   \n",
       "Raymond_Geuss                                 NaN                    NaN   \n",
       "Friedrich_Albert_Lange                       1900                    NaN   \n",
       "Jacques_Lacan                              1992.5                3.53553   \n",
       "\n",
       "                             real      predict  \n",
       "Muhammad_Mustafa_Jauhar    1895.0  1265.310884  \n",
       "Leonardo_Polo              1926.0  1851.758754  \n",
       "Julian_Savulescu           1963.0  2016.160907  \n",
       "Francis_Fukuyama           1952.0  1915.228577  \n",
       "Jacques_Ellul              1912.0  1960.434883  \n",
       "Moses_Mendelssohn          1729.0  1759.210362  \n",
       "Richard_David_Precht       1964.0  2018.945183  \n",
       "Emil_Fackenheim            1916.0  1860.128167  \n",
       "Shibli_Nomani              1857.0  1972.767229  \n",
       "Hent_de_Vries              1958.0  2008.205833  \n",
       "George_Gurdjieff           1866.0  1390.819049  \n",
       "Debiprasad_Chattopadhyaya  1918.0  2037.389538  \n",
       "Gerald_Cohen               1941.0  2024.023981  \n",
       "Zeno_of_Citium             -334.0   759.123491  \n",
       "Peter_G._Ossorio           1926.0  1900.867110  \n",
       "Hans_Reichenbach           1891.0  1415.760296  \n",
       "Herbert_Blumer             1900.0  1823.007225  \n",
       "Raymond_Geuss              1946.0  1813.174601  \n",
       "Friedrich_Albert_Lange     1828.0  1387.507729  \n",
       "Jacques_Lacan              1901.0  1891.744104  "
      ]
     },
     "execution_count": 224,
     "metadata": {},
     "output_type": "execute_result"
    }
   ],
   "source": [
    "df_train2.head(20)"
   ]
  },
  {
   "cell_type": "code",
   "execution_count": 232,
   "metadata": {
    "collapsed": false
   },
   "outputs": [
    {
     "data": {
      "text/plain": [
       "Mirza_Mazhar_Jan-e-Janaan                1535.559730\n",
       "Pseudo-Dionysius_the_Areopagite          1034.760014\n",
       "Speusippus                               1049.239592\n",
       "Leucippus                                1208.684162\n",
       "Muhammad_al-Shaybani                      219.871883\n",
       "Metrodorus_of_Lampsacus_(the_younger)    1119.304803\n",
       "Al-Dhahabi                               1311.117836\n",
       "Abu_Yusuf                                 219.871883\n",
       "Muhammad_Usman_Damani                    1839.301887\n",
       "Predrag_Finci                            -235.427220\n",
       "Haji_Dost_Muhammad_Qandhari              1460.481135\n",
       "Burhan_al-Din_al-Marghinani              1394.810171\n",
       "Ioane_Petritsi                           1077.863735\n",
       "Xenocrates                               1096.686300\n",
       "Sufyan_al-Thawri                         1318.053080\n",
       "Plato                                      39.084855\n",
       "Democritus                               -686.630551\n",
       "Ahmad_Sirhindi                             83.723431\n",
       "Panaetius                                1110.242980\n",
       "David_the_Invincible                     1077.863735\n",
       "Homer                                    -759.970776\n",
       "Arcesilaus                                628.942654\n",
       "Laozi                                   -1017.006594\n",
       "Ibn_Abd_al-Hadi                          1858.307690\n",
       "Plotinus                                  -88.050592\n",
       "Qadi_Thanaullah_Panipati                 1695.871890\n",
       "Yusuf_ibn_Abd_al-Rahman_al-Mizzi         1311.117836\n",
       "Iamblichus                                684.679287\n",
       "Georg_Wilhelm_Friedrich_Hegel            1478.279565\n",
       "Blaise_Pascal                            1789.571090\n",
       "Immanuel_Kant                            1455.422005\n",
       "Philodemus                               1154.159917\n",
       "Ibn_Abi_Asim                             1524.383895\n",
       "Zhuang_Zhou                              1091.028382\n",
       "Proclus                                   115.528082\n",
       "Name: predict, dtype: float64"
      ]
     },
     "execution_count": 232,
     "metadata": {},
     "output_type": "execute_result"
    }
   ],
   "source": [
    "df_test = get_sociodemographic_stats(g_test.nodes(), g, df)\n",
    "\n",
    "df_test[\"predict\"] = model.predict(df_test.fillna(0).as_matrix())\n",
    "\n",
    "df_test[\"predict\"]"
   ]
  }
 ],
 "metadata": {
  "kernelspec": {
   "display_name": "Python 2",
   "language": "python",
   "name": "python2"
  },
  "language_info": {
   "codemirror_mode": {
    "name": "ipython",
    "version": 2
   },
   "file_extension": ".py",
   "mimetype": "text/x-python",
   "name": "python",
   "nbconvert_exporter": "python",
   "pygments_lexer": "ipython2",
   "version": "2.7.11"
  }
 },
 "nbformat": 4,
 "nbformat_minor": 0
}
