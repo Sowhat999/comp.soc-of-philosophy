{
 "cells": [
  {
   "cell_type": "code",
   "execution_count": 1,
   "metadata": {
    "collapsed": false
   },
   "outputs": [],
   "source": [
    "%matplotlib inline\n",
    "\n",
    "import math\n",
    "\n",
    "import json\n",
    "import codecs\n",
    "\n",
    "import numpy as np\n",
    "import pandas as pd\n",
    "import networkx as nx\n",
    "\n",
    "from sklearn import preprocessing\n",
    "\n",
    "import matplotlib.mlab as mlab\n",
    "import matplotlib.pyplot as plt"
   ]
  },
  {
   "cell_type": "code",
   "execution_count": 2,
   "metadata": {
    "collapsed": false
   },
   "outputs": [],
   "source": [
    "g = nx.read_gexf(\"datasets/influences.philosophersonly.gexf\")"
   ]
  },
  {
   "cell_type": "code",
   "execution_count": 3,
   "metadata": {
    "collapsed": false
   },
   "outputs": [
    {
     "data": {
      "text/html": [
       "<div>\n",
       "<table border=\"1\" class=\"dataframe\">\n",
       "  <thead>\n",
       "    <tr style=\"text-align: right;\">\n",
       "      <th></th>\n",
       "      <th>birthyear</th>\n",
       "      <th>birthdate</th>\n",
       "      <th>deathyear</th>\n",
       "    </tr>\n",
       "    <tr>\n",
       "      <th>name</th>\n",
       "      <th></th>\n",
       "      <th></th>\n",
       "      <th></th>\n",
       "    </tr>\n",
       "  </thead>\n",
       "  <tbody>\n",
       "    <tr>\n",
       "      <th>Syed_Abdul_Hakim</th>\n",
       "      <td>1874.0</td>\n",
       "      <td>NaN</td>\n",
       "      <td>1944.0</td>\n",
       "    </tr>\n",
       "    <tr>\n",
       "      <th>Moses_ibn_Ezra</th>\n",
       "      <td>1055.0</td>\n",
       "      <td>NaN</td>\n",
       "      <td>1138.0</td>\n",
       "    </tr>\n",
       "    <tr>\n",
       "      <th>Francisco_Sanches</th>\n",
       "      <td>1550.0</td>\n",
       "      <td>NaN</td>\n",
       "      <td>1623.0</td>\n",
       "    </tr>\n",
       "    <tr>\n",
       "      <th>Sibawayh</th>\n",
       "      <td>760.0</td>\n",
       "      <td>NaN</td>\n",
       "      <td>796.0</td>\n",
       "    </tr>\n",
       "    <tr>\n",
       "      <th>Solomon_ibn_Gabirol</th>\n",
       "      <td>1021.0</td>\n",
       "      <td>NaN</td>\n",
       "      <td>1058.0</td>\n",
       "    </tr>\n",
       "  </tbody>\n",
       "</table>\n",
       "</div>"
      ],
      "text/plain": [
       "                     birthyear birthdate  deathyear\n",
       "name                                               \n",
       "Syed_Abdul_Hakim        1874.0       NaN     1944.0\n",
       "Moses_ibn_Ezra          1055.0       NaN     1138.0\n",
       "Francisco_Sanches       1550.0       NaN     1623.0\n",
       "Sibawayh                 760.0       NaN      796.0\n",
       "Solomon_ibn_Gabirol     1021.0       NaN     1058.0"
      ]
     },
     "execution_count": 3,
     "metadata": {},
     "output_type": "execute_result"
    }
   ],
   "source": [
    "df = pd.DataFrame.from_csv(\"datasets/dates.birthdeath.csv\", encoding=\"utf-8\")\n",
    "\n",
    "df.head(5)"
   ]
  },
  {
   "cell_type": "code",
   "execution_count": 4,
   "metadata": {
    "collapsed": false
   },
   "outputs": [
    {
     "name": "stdout",
     "output_type": "stream",
     "text": [
      "944\n"
     ]
    }
   ],
   "source": [
    "base = list(set(g.nodes()) & set(df[ df[\"birthyear\"].notnull() | df[\"deathyear\"].notnull() ].index))\n",
    "g_base = g.subgraph(base)\n",
    "\n",
    "print len(base)"
   ]
  },
  {
   "cell_type": "code",
   "execution_count": 5,
   "metadata": {
    "collapsed": false
   },
   "outputs": [],
   "source": [
    "df_base = df.loc[base, [\"birthyear\", \"deathyear\"]]"
   ]
  },
  {
   "cell_type": "code",
   "execution_count": 6,
   "metadata": {
    "collapsed": false
   },
   "outputs": [
    {
     "data": {
      "text/html": [
       "<div>\n",
       "<table border=\"1\" class=\"dataframe\">\n",
       "  <thead>\n",
       "    <tr style=\"text-align: right;\">\n",
       "      <th></th>\n",
       "      <th>birthyear</th>\n",
       "      <th>deathyear</th>\n",
       "    </tr>\n",
       "    <tr>\n",
       "      <th>name</th>\n",
       "      <th></th>\n",
       "      <th></th>\n",
       "    </tr>\n",
       "  </thead>\n",
       "  <tbody>\n",
       "    <tr>\n",
       "      <th>Bonaventure__Bonaventure__1</th>\n",
       "      <td>1221.0</td>\n",
       "      <td>1274.0</td>\n",
       "    </tr>\n",
       "    <tr>\n",
       "      <th>Muhammad_Mustafa_Jauhar</th>\n",
       "      <td>1895.0</td>\n",
       "      <td>1985.0</td>\n",
       "    </tr>\n",
       "    <tr>\n",
       "      <th>Leonardo_Polo</th>\n",
       "      <td>1926.0</td>\n",
       "      <td>2013.0</td>\n",
       "    </tr>\n",
       "    <tr>\n",
       "      <th>Julian_Savulescu</th>\n",
       "      <td>1963.0</td>\n",
       "      <td>NaN</td>\n",
       "    </tr>\n",
       "    <tr>\n",
       "      <th>Francis_Fukuyama</th>\n",
       "      <td>1952.0</td>\n",
       "      <td>NaN</td>\n",
       "    </tr>\n",
       "  </tbody>\n",
       "</table>\n",
       "</div>"
      ],
      "text/plain": [
       "                             birthyear  deathyear\n",
       "name                                             \n",
       "Bonaventure__Bonaventure__1     1221.0     1274.0\n",
       "Muhammad_Mustafa_Jauhar         1895.0     1985.0\n",
       "Leonardo_Polo                   1926.0     2013.0\n",
       "Julian_Savulescu                1963.0        NaN\n",
       "Francis_Fukuyama                1952.0        NaN"
      ]
     },
     "execution_count": 6,
     "metadata": {},
     "output_type": "execute_result"
    }
   ],
   "source": [
    "df_base.head()"
   ]
  },
  {
   "cell_type": "code",
   "execution_count": 7,
   "metadata": {
    "collapsed": false
   },
   "outputs": [],
   "source": [
    "A = nx.to_numpy_matrix(g_base)"
   ]
  },
  {
   "cell_type": "code",
   "execution_count": 8,
   "metadata": {
    "collapsed": true
   },
   "outputs": [],
   "source": [
    "from sklearn.decomposition import PCA"
   ]
  },
  {
   "cell_type": "code",
   "execution_count": 9,
   "metadata": {
    "collapsed": true
   },
   "outputs": [],
   "source": [
    "pca = PCA().fit(A)"
   ]
  },
  {
   "cell_type": "code",
   "execution_count": 10,
   "metadata": {
    "collapsed": false
   },
   "outputs": [],
   "source": [
    "Y = pca.transform(A)\n",
    "Y = zip(*Y)"
   ]
  },
  {
   "cell_type": "code",
   "execution_count": 11,
   "metadata": {
    "collapsed": false
   },
   "outputs": [
    {
     "data": {
      "image/png": "[encoded data removed]",
      "text/plain": [
       "<matplotlib.figure.Figure at 0x11423dd90>"
      ]
     },
     "metadata": {},
     "output_type": "display_data"
    }
   ],
   "source": [
    "x = list(df_base[\"birthyear\"])\n",
    "y = Y[0]\n",
    "\n",
    "time_periods = [[-750, 1000],[1000, 1900],[1900, 2000]]\n",
    "\n",
    "plt.figure(figsize=(20,8))\n",
    "plt.scatter(x, y)\n",
    "plt.show()"
   ]
  },
  {
   "cell_type": "code",
   "execution_count": 12,
   "metadata": {
    "collapsed": false
   },
   "outputs": [
    {
     "data": {
      "text/plain": [
       "<matplotlib.figure.Figure at 0x1142a5350>"
      ]
     },
     "metadata": {},
     "output_type": "display_data"
    },
    {
     "data": {
      "image/png": "[encoded data removed]",
      "text/plain": [
       "<matplotlib.figure.Figure at 0x1142a52d0>"
      ]
     },
     "metadata": {},
     "output_type": "display_data"
    }
   ],
   "source": [
    "x = list(df_base[\"birthyear\"])\n",
    "y = Y[0]\n",
    "\n",
    "time_periods = [[-750, 1000],[1000, 1900],[1900, 2000]]\n",
    "\n",
    "plt.figure(figsize=(20,8))\n",
    "\n",
    "f, ax = plt.subplots(1, 3, sharex=False, sharey=True, figsize=(20,8))\n",
    "\n",
    "for i, time_period in enumerate(time_periods):\n",
    "  ax[i].scatter(x,y)\n",
    "  \n",
    "  ax[i].set_xlim(time_period[0], time_period[1])\n",
    "  \n",
    "  ax[i].spines['right'].set_visible(False)\n",
    "  ax[i].spines['left'].set_visible(False)\n",
    "  ax[i].spines['top'].set_visible(False)\n",
    "  ax[i].xaxis.set_ticks_position('bottom') \n",
    "  ax[i].yaxis.set_ticks_position('none') \n",
    "\n",
    "# f.tight_layout()\n",
    "f.subplots_adjust(wspace=0)\n",
    "plt.show()"
   ]
  },
  {
   "cell_type": "code",
   "execution_count": 13,
   "metadata": {
    "collapsed": true
   },
   "outputs": [],
   "source": [
    "def colorize(condition):\n",
    "  if condition:\n",
    "    return (1,0,0,1)\n",
    "  else:\n",
    "    return (.5,.5,.5,.2)"
   ]
  },
  {
   "cell_type": "markdown",
   "metadata": {},
   "source": [
    "## chronological anomalies"
   ]
  },
  {
   "cell_type": "code",
   "execution_count": 14,
   "metadata": {
    "collapsed": true
   },
   "outputs": [],
   "source": [
    "def is_chronological_anomaly(n, g, df):\n",
    "  # print n\n",
    "  successors = g.successors(n)\n",
    "  predecessors = g.predecessors(n)\n",
    "\n",
    "  condition = False\n",
    "  \n",
    "  # check if successors (people that have been given influence)\n",
    "  for n2 in successors:\n",
    "    if df.loc[n2, \"birthyear\"] > df.loc[n, \"deathyear\"]:\n",
    "      condition = True\n",
    "  \n",
    "  # check if predecessors (people that have received influence)\n",
    "  for n2 in predecessors:\n",
    "    if df.loc[n, \"birthyear\"] > df.loc[n2, \"deathyear\"]:\n",
    "      condition = True\n",
    "  \n",
    "  return condition\n",
    "\n",
    "df_base[\"is chronological anomaly\"] = map(lambda n: is_chronological_anomaly(n, g_base, df_base), df_base.index)"
   ]
  },
  {
   "cell_type": "code",
   "execution_count": 15,
   "metadata": {
    "collapsed": false
   },
   "outputs": [
    {
     "name": "stdout",
     "output_type": "stream",
     "text": [
      "Index([                           u'Plato',\n",
      "          u'Georg_Wilhelm_Friedrich_Hegel',\n",
      "                              u'Abu_Yusuf',\n",
      "              u'Mirza_Mazhar_Jan-e-Janaan',\n",
      "                              u'Leucippus',\n",
      "                          u'Blaise_Pascal',\n",
      "                                u'Proclus',\n",
      "                   u'Muhammad_al-Shaybani',\n",
      "                             u'Al-Dhahabi',\n",
      "                             u'Democritus',\n",
      "        u'Pseudo-Dionysius_the_Areopagite',\n",
      "       u'Yusuf_ibn_Abd_al-Rahman_al-Mizzi',\n",
      "                    u'Ludwig_Wittgenstein',\n",
      "                                  u'Homer',\n",
      "                            u'Zhuang_Zhou',\n",
      "                         u'Edmund_Husserl',\n",
      "                               u'Plotinus',\n",
      "            u'Burhan_al-Din_al-Marghinani',\n",
      "                         u'Ahmad_Sirhindi',\n",
      "                        u'Ibn_Abd_al-Hadi',\n",
      "                          u'Immanuel_Kant',\n",
      "                             u'Iamblichus',\n",
      "                          u'Predrag_Finci',\n",
      "               u'Qadi_Thanaullah_Panipati',\n",
      "                   u'Jesús_Padilla_Gálvez',\n",
      "                                  u'Laozi'],\n",
      "      dtype='object', name=u'name')\n"
     ]
    }
   ],
   "source": [
    "print df_base[df_base[\"is chronological anomaly\"] == True].index"
   ]
  },
  {
   "cell_type": "code",
   "execution_count": 16,
   "metadata": {
    "collapsed": false
   },
   "outputs": [
    {
     "data": {
      "image/png": "[encoded data removed]",
      "text/plain": [
       "<matplotlib.figure.Figure at 0x11ae2e3d0>"
      ]
     },
     "metadata": {},
     "output_type": "display_data"
    }
   ],
   "source": [
    "colors = map(colorize, df_base[\"is chronological anomaly\"])\n",
    "  \n",
    "plt.figure(figsize=(20,8))\n",
    "plt.scatter(x, y, lw=0, color=colors)\n",
    "plt.xlim(-700, 2018)\n",
    "plt.show()"
   ]
  },
  {
   "cell_type": "markdown",
   "metadata": {},
   "source": [
    "## demographical anomalies"
   ]
  },
  {
   "cell_type": "code",
   "execution_count": 17,
   "metadata": {
    "collapsed": false
   },
   "outputs": [
    {
     "name": "stdout",
     "output_type": "stream",
     "text": [
      "71.4228395062\n",
      "15.4076067634\n"
     ]
    },
    {
     "data": {
      "image/png": "[encoded data removed]",
      "text/plain": [
       "<matplotlib.figure.Figure at 0x11aeb8dd0>"
      ]
     },
     "metadata": {},
     "output_type": "display_data"
    }
   ],
   "source": [
    "ages = df_base[ df_base[\"deathyear\"].notnull() & df_base[\"birthyear\"].notnull() ][\"deathyear\"] - df_base[ df_base[\"deathyear\"].notnull() & df_base[\"birthyear\"].notnull()][\"birthyear\"]\n",
    "ages = ages[(ages > 0) & (ages < 130)]\n",
    "\n",
    "mu = ages.mean()\n",
    "sigma = ages.std()\n",
    "\n",
    "print mu\n",
    "print sigma\n",
    "\n",
    "plt.hist(ages, bins=50)\n",
    "\n",
    "x = np.linspace(0,120,100)\n",
    "plt.plot(x,mlab.normpdf(x,mu,sigma)*len(ages), color=\"red\")\n",
    "\n",
    "plt.show()"
   ]
  },
  {
   "cell_type": "code",
   "execution_count": 18,
   "metadata": {
    "collapsed": false
   },
   "outputs": [
    {
     "name": "stdout",
     "output_type": "stream",
     "text": [
      "5.58509475361e-07\n",
      "9.87180669183e-05\n",
      "0.0257823840232\n",
      "0.0221759230229\n",
      "0.00463630840226\n",
      "1.29254873316e-06\n"
     ]
    }
   ],
   "source": [
    "def get_prob_normdist(x, mu, sigma):\n",
    "  return mlab.normpdf(x,mu,sigma)\n",
    "\n",
    "print get_prob_normdist(0, mu, sigma)\n",
    "print get_prob_normdist(20, mu, sigma)\n",
    "print get_prob_normdist(70, mu, sigma)\n",
    "print get_prob_normdist(80, mu, sigma)\n",
    "print get_prob_normdist(100, mu, sigma)\n",
    "print get_prob_normdist(140, mu, sigma)"
   ]
  },
  {
   "cell_type": "code",
   "execution_count": 19,
   "metadata": {
    "collapsed": false
   },
   "outputs": [
    {
     "name": "stdout",
     "output_type": "stream",
     "text": [
      "error detected: 19\n",
      "name\n",
      "Speusippus                               747.0\n",
      "Abu_Yusuf                                685.0\n",
      "Philodemus                               150.0\n",
      "Mirza_Mazhar_Jan-e-Janaan                 -1.0\n",
      "Ioane_Petritsi                             1.0\n",
      "Panaetius                                295.0\n",
      "Leucippus                                  0.0\n",
      "David_the_Invincible                       0.0\n",
      "Sufyan_al-Thawri                        -555.0\n",
      "Pseudo-Dionysius_the_Areopagite            1.0\n",
      "Yusuf_ibn_Abd_al-Rahman_al-Mizzi        -672.0\n",
      "Metrodorus_of_Lampsacus_(the_younger)    609.0\n",
      "Muhammad_Usman_Damani                    653.0\n",
      "Burhan_al-Din_al-Marghinani                6.0\n",
      "Arcesilaus                               557.0\n",
      "Ibn_Abi_Asim                             694.0\n",
      "Xenocrates                               710.0\n",
      "Haji_Dost_Muhammad_Qandhari              652.0\n",
      "Laozi                                     -1.0\n",
      "Name: age, dtype: float64\n"
     ]
    }
   ],
   "source": [
    "df_base[\"age\"] = (df_base[\"birthyear\"].notnull() & df_base[\"deathyear\"].notnull()) * (df_base[\"deathyear\"] - df_base[\"birthyear\"])\n",
    "\n",
    "df_base[\"is demographical anomaly\"] = map(lambda x: get_prob_normdist(x, mu, sigma) < .0001, df_base[\"age\"])\n",
    "#df_base.loc[ df_base[\"age\"].isnull().index , \"is demographical anomaly\"] = None\n",
    "\n",
    "print \"error detected: %s\" % len(df_base[ df_base[\"age\"].notnull() & df_base[\"is demographical anomaly\"] ])\n",
    "print df_base[ df_base[\"age\"].notnull() & df_base[\"is demographical anomaly\"] ][\"age\"]\n",
    "\n",
    "#df_base.head(20)"
   ]
  },
  {
   "cell_type": "code",
   "execution_count": 20,
   "metadata": {
    "collapsed": false
   },
   "outputs": [
    {
     "name": "stdout",
     "output_type": "stream",
     "text": [
      "26\n",
      "19\n",
      "38\n"
     ]
    }
   ],
   "source": [
    "print len(df_base[df_base[\"is chronological anomaly\"] == True])\n",
    "print len(df_base[df_base[\"is demographical anomaly\"] == True])\n",
    "print len(df_base[df_base[\"is demographical anomaly\"] | df_base[\"is chronological anomaly\"]])"
   ]
  },
  {
   "cell_type": "markdown",
   "metadata": {},
   "source": [
    "## train a predictor"
   ]
  },
  {
   "cell_type": "code",
   "execution_count": 21,
   "metadata": {
    "collapsed": false
   },
   "outputs": [
    {
     "name": "stdout",
     "output_type": "stream",
     "text": [
      "900\n",
      "38\n"
     ]
    }
   ],
   "source": [
    "g_train = g.subgraph(df_base[df_base[\"birthyear\"].notnull() & (df_base[\"is demographical anomaly\"] == False) & (df_base[\"is chronological anomaly\"] == False)].index)\n",
    "g_test = g.subgraph(df_base[df_base[\"is demographical anomaly\"] | df_base[\"is chronological anomaly\"]].index)\n",
    "\n",
    "print len(g_train.nodes())\n",
    "print len(g_test.nodes())"
   ]
  },
  {
   "cell_type": "code",
   "execution_count": 22,
   "metadata": {
    "collapsed": false
   },
   "outputs": [],
   "source": [
    "from sklearn import linear_model"
   ]
  },
  {
   "cell_type": "markdown",
   "metadata": {},
   "source": [
    "### linear regression"
   ]
  },
  {
   "cell_type": "markdown",
   "metadata": {},
   "source": [
    "#### using only adjacency matrix"
   ]
  },
  {
   "cell_type": "code",
   "execution_count": 23,
   "metadata": {
    "collapsed": false
   },
   "outputs": [],
   "source": [
    "model = linear_model.LinearRegression()\n",
    "\n",
    "X = nx.to_numpy_matrix(g_train)\n",
    "Y = list(df_base.loc[ g_train.nodes() , \"birthyear\"])\n",
    "\n",
    "model = model.fit(X,Y)"
   ]
  },
  {
   "cell_type": "markdown",
   "metadata": {},
   "source": [
    "- min max range mean std predecessors and successors\n",
    "- other models"
   ]
  },
  {
   "cell_type": "code",
   "execution_count": 24,
   "metadata": {
    "collapsed": false
   },
   "outputs": [
    {
     "data": {
      "text/html": [
       "<div>\n",
       "<table border=\"1\" class=\"dataframe\">\n",
       "  <thead>\n",
       "    <tr style=\"text-align: right;\">\n",
       "      <th></th>\n",
       "      <th>birthyear</th>\n",
       "      <th>deathyear</th>\n",
       "      <th>is chronological anomaly</th>\n",
       "      <th>age</th>\n",
       "      <th>is demographical anomaly</th>\n",
       "    </tr>\n",
       "    <tr>\n",
       "      <th>name</th>\n",
       "      <th></th>\n",
       "      <th></th>\n",
       "      <th></th>\n",
       "      <th></th>\n",
       "      <th></th>\n",
       "    </tr>\n",
       "  </thead>\n",
       "  <tbody>\n",
       "    <tr>\n",
       "      <th>Bonaventure__Bonaventure__1</th>\n",
       "      <td>1221.0</td>\n",
       "      <td>1274.0</td>\n",
       "      <td>False</td>\n",
       "      <td>53.0</td>\n",
       "      <td>False</td>\n",
       "    </tr>\n",
       "    <tr>\n",
       "      <th>Muhammad_Mustafa_Jauhar</th>\n",
       "      <td>1895.0</td>\n",
       "      <td>1985.0</td>\n",
       "      <td>False</td>\n",
       "      <td>90.0</td>\n",
       "      <td>False</td>\n",
       "    </tr>\n",
       "    <tr>\n",
       "      <th>Leonardo_Polo</th>\n",
       "      <td>1926.0</td>\n",
       "      <td>2013.0</td>\n",
       "      <td>False</td>\n",
       "      <td>87.0</td>\n",
       "      <td>False</td>\n",
       "    </tr>\n",
       "    <tr>\n",
       "      <th>Julian_Savulescu</th>\n",
       "      <td>1963.0</td>\n",
       "      <td>NaN</td>\n",
       "      <td>False</td>\n",
       "      <td>NaN</td>\n",
       "      <td>False</td>\n",
       "    </tr>\n",
       "    <tr>\n",
       "      <th>Francis_Fukuyama</th>\n",
       "      <td>1952.0</td>\n",
       "      <td>NaN</td>\n",
       "      <td>False</td>\n",
       "      <td>NaN</td>\n",
       "      <td>False</td>\n",
       "    </tr>\n",
       "    <tr>\n",
       "      <th>Jacques_Ellul</th>\n",
       "      <td>1912.0</td>\n",
       "      <td>1994.0</td>\n",
       "      <td>False</td>\n",
       "      <td>82.0</td>\n",
       "      <td>False</td>\n",
       "    </tr>\n",
       "    <tr>\n",
       "      <th>Joseph_Dietzgen</th>\n",
       "      <td>1828.0</td>\n",
       "      <td>1888.0</td>\n",
       "      <td>False</td>\n",
       "      <td>60.0</td>\n",
       "      <td>False</td>\n",
       "    </tr>\n",
       "    <tr>\n",
       "      <th>Ivo_Urbančič</th>\n",
       "      <td>1930.0</td>\n",
       "      <td>NaN</td>\n",
       "      <td>False</td>\n",
       "      <td>NaN</td>\n",
       "      <td>False</td>\n",
       "    </tr>\n",
       "    <tr>\n",
       "      <th>Jakob_Böhme</th>\n",
       "      <td>1575.0</td>\n",
       "      <td>1624.0</td>\n",
       "      <td>False</td>\n",
       "      <td>49.0</td>\n",
       "      <td>False</td>\n",
       "    </tr>\n",
       "    <tr>\n",
       "      <th>Richard_David_Precht</th>\n",
       "      <td>1964.0</td>\n",
       "      <td>NaN</td>\n",
       "      <td>False</td>\n",
       "      <td>NaN</td>\n",
       "      <td>False</td>\n",
       "    </tr>\n",
       "  </tbody>\n",
       "</table>\n",
       "</div>"
      ],
      "text/plain": [
       "                             birthyear  deathyear is chronological anomaly  \\\n",
       "name                                                                         \n",
       "Bonaventure__Bonaventure__1     1221.0     1274.0                    False   \n",
       "Muhammad_Mustafa_Jauhar         1895.0     1985.0                    False   \n",
       "Leonardo_Polo                   1926.0     2013.0                    False   \n",
       "Julian_Savulescu                1963.0        NaN                    False   \n",
       "Francis_Fukuyama                1952.0        NaN                    False   \n",
       "Jacques_Ellul                   1912.0     1994.0                    False   \n",
       "Joseph_Dietzgen                 1828.0     1888.0                    False   \n",
       "Ivo_Urbančič                    1930.0        NaN                    False   \n",
       "Jakob_Böhme                     1575.0     1624.0                    False   \n",
       "Richard_David_Precht            1964.0        NaN                    False   \n",
       "\n",
       "                              age is demographical anomaly  \n",
       "name                                                        \n",
       "Bonaventure__Bonaventure__1  53.0                    False  \n",
       "Muhammad_Mustafa_Jauhar      90.0                    False  \n",
       "Leonardo_Polo                87.0                    False  \n",
       "Julian_Savulescu              NaN                    False  \n",
       "Francis_Fukuyama              NaN                    False  \n",
       "Jacques_Ellul                82.0                    False  \n",
       "Joseph_Dietzgen              60.0                    False  \n",
       "Ivo_Urbančič                  NaN                    False  \n",
       "Jakob_Böhme                  49.0                    False  \n",
       "Richard_David_Precht          NaN                    False  "
      ]
     },
     "execution_count": 24,
     "metadata": {},
     "output_type": "execute_result"
    }
   ],
   "source": [
    "df_train = df_base[df_base[\"birthyear\"].notnull() & (df_base[\"is demographical anomaly\"] == False) & (df_base[\"is chronological anomaly\"] == False)].copy()\n",
    "\n",
    "df_train.head(10)"
   ]
  },
  {
   "cell_type": "code",
   "execution_count": 25,
   "metadata": {
    "collapsed": false
   },
   "outputs": [
    {
     "data": {
      "text/plain": [
       "356.92685303572358"
      ]
     },
     "execution_count": 25,
     "metadata": {},
     "output_type": "execute_result"
    }
   ],
   "source": [
    "df_val = df_base[df_base[\"birthyear\"].notnull() & (df_base[\"is demographical anomaly\"] == False) & (df_base[\"is chronological anomaly\"] == False)].copy()\n",
    "df_val[\"predict\"] = model.predict(nx.to_numpy_matrix(g_train))\n",
    "\n",
    "np.mean(np.sqrt((df_val[\"birthyear\"] - df_val[\"predict\"])**2))"
   ]
  },
  {
   "cell_type": "markdown",
   "metadata": {},
   "source": [
    "#### network statistics"
   ]
  },
  {
   "cell_type": "code",
   "execution_count": 26,
   "metadata": {
    "collapsed": false
   },
   "outputs": [
    {
     "data": {
      "text/html": [
       "<div>\n",
       "<table border=\"1\" class=\"dataframe\">\n",
       "  <thead>\n",
       "    <tr style=\"text-align: right;\">\n",
       "      <th></th>\n",
       "      <th>(following, count)</th>\n",
       "      <th>(following, birth mean)</th>\n",
       "      <th>(following, birth std)</th>\n",
       "      <th>(following, birth min)</th>\n",
       "      <th>(following, birth max)</th>\n",
       "      <th>(following, death mean)</th>\n",
       "      <th>(following, death std)</th>\n",
       "      <th>(followers, count)</th>\n",
       "      <th>(followers, birth mean)</th>\n",
       "      <th>(followers, birth std)</th>\n",
       "      <th>(followers, birth min)</th>\n",
       "      <th>(followers, birth max)</th>\n",
       "      <th>(followers, death mean)</th>\n",
       "      <th>(followers, death std)</th>\n",
       "    </tr>\n",
       "  </thead>\n",
       "  <tbody>\n",
       "    <tr>\n",
       "      <th>Muhammad_Mustafa_Jauhar</th>\n",
       "      <td>0</td>\n",
       "      <td>NaN</td>\n",
       "      <td>NaN</td>\n",
       "      <td>NaN</td>\n",
       "      <td>NaN</td>\n",
       "      <td>NaN</td>\n",
       "      <td>NaN</td>\n",
       "      <td>0</td>\n",
       "      <td>NaN</td>\n",
       "      <td>NaN</td>\n",
       "      <td>NaN</td>\n",
       "      <td>NaN</td>\n",
       "      <td>NaN</td>\n",
       "      <td>NaN</td>\n",
       "    </tr>\n",
       "    <tr>\n",
       "      <th>Leonardo_Polo</th>\n",
       "      <td>3</td>\n",
       "      <td>1033.67</td>\n",
       "      <td>1236.45</td>\n",
       "      <td>-384</td>\n",
       "      <td>1889</td>\n",
       "      <td>1101.33</td>\n",
       "      <td>1243.37</td>\n",
       "      <td>0</td>\n",
       "      <td>NaN</td>\n",
       "      <td>NaN</td>\n",
       "      <td>NaN</td>\n",
       "      <td>NaN</td>\n",
       "      <td>NaN</td>\n",
       "      <td>NaN</td>\n",
       "    </tr>\n",
       "    <tr>\n",
       "      <th>Julian_Savulescu</th>\n",
       "      <td>1</td>\n",
       "      <td>1946</td>\n",
       "      <td>NaN</td>\n",
       "      <td>1946</td>\n",
       "      <td>1946</td>\n",
       "      <td>NaN</td>\n",
       "      <td>NaN</td>\n",
       "      <td>0</td>\n",
       "      <td>NaN</td>\n",
       "      <td>NaN</td>\n",
       "      <td>NaN</td>\n",
       "      <td>NaN</td>\n",
       "      <td>NaN</td>\n",
       "      <td>NaN</td>\n",
       "    </tr>\n",
       "    <tr>\n",
       "      <th>Francis_Fukuyama</th>\n",
       "      <td>2</td>\n",
       "      <td>1916</td>\n",
       "      <td>19.799</td>\n",
       "      <td>1902</td>\n",
       "      <td>1930</td>\n",
       "      <td>1980</td>\n",
       "      <td>16.9706</td>\n",
       "      <td>0</td>\n",
       "      <td>NaN</td>\n",
       "      <td>NaN</td>\n",
       "      <td>NaN</td>\n",
       "      <td>NaN</td>\n",
       "      <td>NaN</td>\n",
       "      <td>NaN</td>\n",
       "    </tr>\n",
       "    <tr>\n",
       "      <th>Jacques_Ellul</th>\n",
       "      <td>4</td>\n",
       "      <td>1828.5</td>\n",
       "      <td>30.556</td>\n",
       "      <td>1809</td>\n",
       "      <td>1874</td>\n",
       "      <td>1887.75</td>\n",
       "      <td>41.8041</td>\n",
       "      <td>4</td>\n",
       "      <td>1923.75</td>\n",
       "      <td>4.78714</td>\n",
       "      <td>1918</td>\n",
       "      <td>1929</td>\n",
       "      <td>1993</td>\n",
       "      <td>7.87401</td>\n",
       "    </tr>\n",
       "  </tbody>\n",
       "</table>\n",
       "</div>"
      ],
      "text/plain": [
       "                        (following, count) (following, birth mean)  \\\n",
       "Muhammad_Mustafa_Jauhar                  0                     NaN   \n",
       "Leonardo_Polo                            3                 1033.67   \n",
       "Julian_Savulescu                         1                    1946   \n",
       "Francis_Fukuyama                         2                    1916   \n",
       "Jacques_Ellul                            4                  1828.5   \n",
       "\n",
       "                        (following, birth std) (following, birth min)  \\\n",
       "Muhammad_Mustafa_Jauhar                    NaN                    NaN   \n",
       "Leonardo_Polo                          1236.45                   -384   \n",
       "Julian_Savulescu                           NaN                   1946   \n",
       "Francis_Fukuyama                        19.799                   1902   \n",
       "Jacques_Ellul                           30.556                   1809   \n",
       "\n",
       "                        (following, birth max) (following, death mean)  \\\n",
       "Muhammad_Mustafa_Jauhar                    NaN                     NaN   \n",
       "Leonardo_Polo                             1889                 1101.33   \n",
       "Julian_Savulescu                          1946                     NaN   \n",
       "Francis_Fukuyama                          1930                    1980   \n",
       "Jacques_Ellul                             1874                 1887.75   \n",
       "\n",
       "                        (following, death std) (followers, count)  \\\n",
       "Muhammad_Mustafa_Jauhar                    NaN                  0   \n",
       "Leonardo_Polo                          1243.37                  0   \n",
       "Julian_Savulescu                           NaN                  0   \n",
       "Francis_Fukuyama                       16.9706                  0   \n",
       "Jacques_Ellul                          41.8041                  4   \n",
       "\n",
       "                        (followers, birth mean) (followers, birth std)  \\\n",
       "Muhammad_Mustafa_Jauhar                     NaN                    NaN   \n",
       "Leonardo_Polo                               NaN                    NaN   \n",
       "Julian_Savulescu                            NaN                    NaN   \n",
       "Francis_Fukuyama                            NaN                    NaN   \n",
       "Jacques_Ellul                           1923.75                4.78714   \n",
       "\n",
       "                        (followers, birth min) (followers, birth max)  \\\n",
       "Muhammad_Mustafa_Jauhar                    NaN                    NaN   \n",
       "Leonardo_Polo                              NaN                    NaN   \n",
       "Julian_Savulescu                           NaN                    NaN   \n",
       "Francis_Fukuyama                           NaN                    NaN   \n",
       "Jacques_Ellul                             1918                   1929   \n",
       "\n",
       "                        (followers, death mean) (followers, death std)  \n",
       "Muhammad_Mustafa_Jauhar                     NaN                    NaN  \n",
       "Leonardo_Polo                               NaN                    NaN  \n",
       "Julian_Savulescu                            NaN                    NaN  \n",
       "Francis_Fukuyama                            NaN                    NaN  \n",
       "Jacques_Ellul                              1993                7.87401  "
      ]
     },
     "execution_count": 26,
     "metadata": {},
     "output_type": "execute_result"
    }
   ],
   "source": [
    "def get_sociodemographic_stats(nodes, g, df_source):\n",
    "  \n",
    "  cols = [ (c1, c2) for c1 in [\"following\", \"followers\"] for c2 in [\"count\", \"birth mean\", \"birth std\", \"birth min\", \"birth max\", \"death mean\", \"death std\"] ]\n",
    "  \n",
    "  df = pd.DataFrame(index=nodes, columns=cols)\n",
    "  \n",
    "  for n in nodes:\n",
    "    following = g.successors(n)\n",
    "    followers = g.predecessors(n)\n",
    "\n",
    "    df_following = df_source.loc[ [ n2 for n2 in following if n2 in df_source.index ] ]\n",
    "    df_followers = df_source.loc[ [ n2 for n2 in followers if n2 in df_source.index ] ]\n",
    "\n",
    "    df.set_value(n, (\"following\", \"count\"), len(following))    \n",
    "    df.set_value(n, (\"following\", \"birth min\"), df_following[\"birthyear\"].min())\n",
    "    df.set_value(n, (\"following\", \"birth max\"), df_following[\"birthyear\"].max())\n",
    "    df.set_value(n, (\"following\", \"birth mean\"), df_following[\"birthyear\"].mean())\n",
    "    df.set_value(n, (\"following\", \"birth std\"), df_following[\"birthyear\"].std())\n",
    "    df.set_value(n, (\"following\", \"death mean\"), df_following[\"deathyear\"].mean())\n",
    "    df.set_value(n, (\"following\", \"death std\"), df_following[\"deathyear\"].std())\n",
    "    \n",
    "    df.set_value(n, (\"followers\", \"count\"), len(followers))    \n",
    "    df.set_value(n, (\"followers\", \"birth min\"), df_followers[\"birthyear\"].min())\n",
    "    df.set_value(n, (\"followers\", \"birth max\"), df_followers[\"birthyear\"].max())\n",
    "    df.set_value(n, (\"followers\", \"birth mean\"), df_followers[\"birthyear\"].mean())\n",
    "    df.set_value(n, (\"followers\", \"birth std\"), df_followers[\"birthyear\"].std())\n",
    "    df.set_value(n, (\"followers\", \"death mean\"), df_followers[\"deathyear\"].mean())\n",
    "    df.set_value(n, (\"followers\", \"death std\"), df_followers[\"deathyear\"].std())\n",
    "\n",
    "  return df\n",
    "\n",
    "get_sociodemographic_stats(g_train.nodes()[0:5], g_train, df_base.loc[g_train.nodes()])"
   ]
  },
  {
   "cell_type": "code",
   "execution_count": 52,
   "metadata": {
    "collapsed": false
   },
   "outputs": [],
   "source": [
    "df_all = get_sociodemographic_stats(g.nodes(), g, df)"
   ]
  },
  {
   "cell_type": "code",
   "execution_count": 53,
   "metadata": {
    "collapsed": false
   },
   "outputs": [],
   "source": [
    "df_all.to_csv(\"datasets/demographics.csv\", encoding=\"utf-8\")"
   ]
  },
  {
   "cell_type": "code",
   "execution_count": 54,
   "metadata": {
    "collapsed": false
   },
   "outputs": [],
   "source": [
    "model = linear_model.LinearRegression(normalize=True)\n",
    "\n",
    "df_train2 = get_sociodemographic_stats(g_train.nodes(), g_train, df_base.loc[g_train.nodes()])\n",
    "\n",
    "X = df_train2.fillna(0).as_matrix()\n",
    "Y = list(df_base.loc[ g_train.nodes() , \"birthyear\"])\n",
    "\n",
    "model = model.fit(X,Y)"
   ]
  },
  {
   "cell_type": "code",
   "execution_count": 55,
   "metadata": {
    "collapsed": true
   },
   "outputs": [],
   "source": [
    "df_train2.to_csv(\"datasets/generations.training_sample.csv\", encoding=\"utf_8\")"
   ]
  },
  {
   "cell_type": "code",
   "execution_count": 31,
   "metadata": {
    "collapsed": false
   },
   "outputs": [
    {
     "data": {
      "text/plain": [
       "192.04790389751327"
      ]
     },
     "execution_count": 31,
     "metadata": {},
     "output_type": "execute_result"
    }
   ],
   "source": [
    "np.mean(np.sqrt((Y - model.predict(X))**2))"
   ]
  },
  {
   "cell_type": "code",
   "execution_count": 32,
   "metadata": {
    "collapsed": true
   },
   "outputs": [],
   "source": [
    "df_train2[\"real\"] = df_base.loc[ g_train.nodes() , \"birthyear\"]\n",
    "df_train2[\"predict\"] = model.predict(X)"
   ]
  },
  {
   "cell_type": "code",
   "execution_count": 33,
   "metadata": {
    "collapsed": false
   },
   "outputs": [
    {
     "data": {
      "text/html": [
       "<div>\n",
       "<table border=\"1\" class=\"dataframe\">\n",
       "  <thead>\n",
       "    <tr style=\"text-align: right;\">\n",
       "      <th></th>\n",
       "      <th>(following, count)</th>\n",
       "      <th>(following, birth mean)</th>\n",
       "      <th>(following, birth std)</th>\n",
       "      <th>(following, birth min)</th>\n",
       "      <th>(following, birth max)</th>\n",
       "      <th>(following, death mean)</th>\n",
       "      <th>(following, death std)</th>\n",
       "      <th>(followers, count)</th>\n",
       "      <th>(followers, birth mean)</th>\n",
       "      <th>(followers, birth std)</th>\n",
       "      <th>(followers, birth min)</th>\n",
       "      <th>(followers, birth max)</th>\n",
       "      <th>(followers, death mean)</th>\n",
       "      <th>(followers, death std)</th>\n",
       "      <th>real</th>\n",
       "      <th>predict</th>\n",
       "    </tr>\n",
       "  </thead>\n",
       "  <tbody>\n",
       "    <tr>\n",
       "      <th>Muhammad_Mustafa_Jauhar</th>\n",
       "      <td>0</td>\n",
       "      <td>NaN</td>\n",
       "      <td>NaN</td>\n",
       "      <td>NaN</td>\n",
       "      <td>NaN</td>\n",
       "      <td>NaN</td>\n",
       "      <td>NaN</td>\n",
       "      <td>0</td>\n",
       "      <td>NaN</td>\n",
       "      <td>NaN</td>\n",
       "      <td>NaN</td>\n",
       "      <td>NaN</td>\n",
       "      <td>NaN</td>\n",
       "      <td>NaN</td>\n",
       "      <td>1895.0</td>\n",
       "      <td>1270.527897</td>\n",
       "    </tr>\n",
       "    <tr>\n",
       "      <th>Leonardo_Polo</th>\n",
       "      <td>3</td>\n",
       "      <td>1033.67</td>\n",
       "      <td>1236.45</td>\n",
       "      <td>-384</td>\n",
       "      <td>1889</td>\n",
       "      <td>1101.33</td>\n",
       "      <td>1243.37</td>\n",
       "      <td>0</td>\n",
       "      <td>NaN</td>\n",
       "      <td>NaN</td>\n",
       "      <td>NaN</td>\n",
       "      <td>NaN</td>\n",
       "      <td>NaN</td>\n",
       "      <td>NaN</td>\n",
       "      <td>1926.0</td>\n",
       "      <td>1841.338699</td>\n",
       "    </tr>\n",
       "    <tr>\n",
       "      <th>Julian_Savulescu</th>\n",
       "      <td>1</td>\n",
       "      <td>1946</td>\n",
       "      <td>NaN</td>\n",
       "      <td>1946</td>\n",
       "      <td>1946</td>\n",
       "      <td>NaN</td>\n",
       "      <td>NaN</td>\n",
       "      <td>0</td>\n",
       "      <td>NaN</td>\n",
       "      <td>NaN</td>\n",
       "      <td>NaN</td>\n",
       "      <td>NaN</td>\n",
       "      <td>NaN</td>\n",
       "      <td>NaN</td>\n",
       "      <td>1963.0</td>\n",
       "      <td>2006.659355</td>\n",
       "    </tr>\n",
       "    <tr>\n",
       "      <th>Francis_Fukuyama</th>\n",
       "      <td>2</td>\n",
       "      <td>1916</td>\n",
       "      <td>19.799</td>\n",
       "      <td>1902</td>\n",
       "      <td>1930</td>\n",
       "      <td>1980</td>\n",
       "      <td>16.9706</td>\n",
       "      <td>0</td>\n",
       "      <td>NaN</td>\n",
       "      <td>NaN</td>\n",
       "      <td>NaN</td>\n",
       "      <td>NaN</td>\n",
       "      <td>NaN</td>\n",
       "      <td>NaN</td>\n",
       "      <td>1952.0</td>\n",
       "      <td>1888.705803</td>\n",
       "    </tr>\n",
       "    <tr>\n",
       "      <th>Jacques_Ellul</th>\n",
       "      <td>4</td>\n",
       "      <td>1828.5</td>\n",
       "      <td>30.556</td>\n",
       "      <td>1809</td>\n",
       "      <td>1874</td>\n",
       "      <td>1887.75</td>\n",
       "      <td>41.8041</td>\n",
       "      <td>4</td>\n",
       "      <td>1923.75</td>\n",
       "      <td>4.78714</td>\n",
       "      <td>1918</td>\n",
       "      <td>1929</td>\n",
       "      <td>1993</td>\n",
       "      <td>7.87401</td>\n",
       "      <td>1912.0</td>\n",
       "      <td>1934.706175</td>\n",
       "    </tr>\n",
       "    <tr>\n",
       "      <th>Moses_Mendelssohn</th>\n",
       "      <td>4</td>\n",
       "      <td>1539.5</td>\n",
       "      <td>272.835</td>\n",
       "      <td>1137</td>\n",
       "      <td>1743</td>\n",
       "      <td>1610.75</td>\n",
       "      <td>276.035</td>\n",
       "      <td>3</td>\n",
       "      <td>1798.67</td>\n",
       "      <td>87.0651</td>\n",
       "      <td>1743</td>\n",
       "      <td>1899</td>\n",
       "      <td>1864</td>\n",
       "      <td>94.8736</td>\n",
       "      <td>1729.0</td>\n",
       "      <td>1752.214456</td>\n",
       "    </tr>\n",
       "    <tr>\n",
       "      <th>Ivo_Urbančič</th>\n",
       "      <td>1</td>\n",
       "      <td>1889</td>\n",
       "      <td>NaN</td>\n",
       "      <td>1889</td>\n",
       "      <td>1889</td>\n",
       "      <td>1976</td>\n",
       "      <td>NaN</td>\n",
       "      <td>0</td>\n",
       "      <td>NaN</td>\n",
       "      <td>NaN</td>\n",
       "      <td>NaN</td>\n",
       "      <td>NaN</td>\n",
       "      <td>NaN</td>\n",
       "      <td>NaN</td>\n",
       "      <td>1930.0</td>\n",
       "      <td>1893.191454</td>\n",
       "    </tr>\n",
       "    <tr>\n",
       "      <th>Jakob_Böhme</th>\n",
       "      <td>1</td>\n",
       "      <td>1493</td>\n",
       "      <td>NaN</td>\n",
       "      <td>1493</td>\n",
       "      <td>1493</td>\n",
       "      <td>1541</td>\n",
       "      <td>NaN</td>\n",
       "      <td>3</td>\n",
       "      <td>1812.33</td>\n",
       "      <td>53.799</td>\n",
       "      <td>1775</td>\n",
       "      <td>1874</td>\n",
       "      <td>1887.33</td>\n",
       "      <td>52.6245</td>\n",
       "      <td>1575.0</td>\n",
       "      <td>1780.570887</td>\n",
       "    </tr>\n",
       "    <tr>\n",
       "      <th>Richard_David_Precht</th>\n",
       "      <td>1</td>\n",
       "      <td>1953</td>\n",
       "      <td>NaN</td>\n",
       "      <td>1953</td>\n",
       "      <td>1953</td>\n",
       "      <td>NaN</td>\n",
       "      <td>NaN</td>\n",
       "      <td>0</td>\n",
       "      <td>NaN</td>\n",
       "      <td>NaN</td>\n",
       "      <td>NaN</td>\n",
       "      <td>NaN</td>\n",
       "      <td>NaN</td>\n",
       "      <td>NaN</td>\n",
       "      <td>1964.0</td>\n",
       "      <td>2009.373699</td>\n",
       "    </tr>\n",
       "    <tr>\n",
       "      <th>Emil_Fackenheim</th>\n",
       "      <td>1</td>\n",
       "      <td>1775</td>\n",
       "      <td>NaN</td>\n",
       "      <td>1775</td>\n",
       "      <td>1775</td>\n",
       "      <td>1854</td>\n",
       "      <td>NaN</td>\n",
       "      <td>0</td>\n",
       "      <td>NaN</td>\n",
       "      <td>NaN</td>\n",
       "      <td>NaN</td>\n",
       "      <td>NaN</td>\n",
       "      <td>NaN</td>\n",
       "      <td>NaN</td>\n",
       "      <td>1916.0</td>\n",
       "      <td>1854.627410</td>\n",
       "    </tr>\n",
       "    <tr>\n",
       "      <th>Shibli_Nomani</th>\n",
       "      <td>1</td>\n",
       "      <td>1817</td>\n",
       "      <td>NaN</td>\n",
       "      <td>1817</td>\n",
       "      <td>1817</td>\n",
       "      <td>1898</td>\n",
       "      <td>NaN</td>\n",
       "      <td>2</td>\n",
       "      <td>1928</td>\n",
       "      <td>33.9411</td>\n",
       "      <td>1904</td>\n",
       "      <td>1952</td>\n",
       "      <td>1997</td>\n",
       "      <td>NaN</td>\n",
       "      <td>1857.0</td>\n",
       "      <td>1957.065020</td>\n",
       "    </tr>\n",
       "    <tr>\n",
       "      <th>Hent_de_Vries</th>\n",
       "      <td>1</td>\n",
       "      <td>1926</td>\n",
       "      <td>NaN</td>\n",
       "      <td>1926</td>\n",
       "      <td>1926</td>\n",
       "      <td>NaN</td>\n",
       "      <td>NaN</td>\n",
       "      <td>0</td>\n",
       "      <td>NaN</td>\n",
       "      <td>NaN</td>\n",
       "      <td>NaN</td>\n",
       "      <td>NaN</td>\n",
       "      <td>NaN</td>\n",
       "      <td>NaN</td>\n",
       "      <td>1958.0</td>\n",
       "      <td>1998.904087</td>\n",
       "    </tr>\n",
       "    <tr>\n",
       "      <th>George_Gurdjieff</th>\n",
       "      <td>0</td>\n",
       "      <td>NaN</td>\n",
       "      <td>NaN</td>\n",
       "      <td>NaN</td>\n",
       "      <td>NaN</td>\n",
       "      <td>NaN</td>\n",
       "      <td>NaN</td>\n",
       "      <td>1</td>\n",
       "      <td>1898</td>\n",
       "      <td>NaN</td>\n",
       "      <td>1898</td>\n",
       "      <td>1898</td>\n",
       "      <td>1974</td>\n",
       "      <td>NaN</td>\n",
       "      <td>1866.0</td>\n",
       "      <td>1388.665201</td>\n",
       "    </tr>\n",
       "    <tr>\n",
       "      <th>Friedrich_Wilhelm_Foerster</th>\n",
       "      <td>0</td>\n",
       "      <td>NaN</td>\n",
       "      <td>NaN</td>\n",
       "      <td>NaN</td>\n",
       "      <td>NaN</td>\n",
       "      <td>NaN</td>\n",
       "      <td>NaN</td>\n",
       "      <td>0</td>\n",
       "      <td>NaN</td>\n",
       "      <td>NaN</td>\n",
       "      <td>NaN</td>\n",
       "      <td>NaN</td>\n",
       "      <td>NaN</td>\n",
       "      <td>NaN</td>\n",
       "      <td>1869.0</td>\n",
       "      <td>1270.527897</td>\n",
       "    </tr>\n",
       "    <tr>\n",
       "      <th>Debiprasad_Chattopadhyaya</th>\n",
       "      <td>1</td>\n",
       "      <td>1818</td>\n",
       "      <td>NaN</td>\n",
       "      <td>1818</td>\n",
       "      <td>1818</td>\n",
       "      <td>1883</td>\n",
       "      <td>NaN</td>\n",
       "      <td>1</td>\n",
       "      <td>1947</td>\n",
       "      <td>NaN</td>\n",
       "      <td>1947</td>\n",
       "      <td>1947</td>\n",
       "      <td>NaN</td>\n",
       "      <td>NaN</td>\n",
       "      <td>1918.0</td>\n",
       "      <td>2036.801437</td>\n",
       "    </tr>\n",
       "    <tr>\n",
       "      <th>Svetozar_Marković</th>\n",
       "      <td>1</td>\n",
       "      <td>1818</td>\n",
       "      <td>NaN</td>\n",
       "      <td>1818</td>\n",
       "      <td>1818</td>\n",
       "      <td>1883</td>\n",
       "      <td>NaN</td>\n",
       "      <td>1</td>\n",
       "      <td>1949</td>\n",
       "      <td>NaN</td>\n",
       "      <td>1949</td>\n",
       "      <td>1949</td>\n",
       "      <td>NaN</td>\n",
       "      <td>NaN</td>\n",
       "      <td>1846.0</td>\n",
       "      <td>2036.974282</td>\n",
       "    </tr>\n",
       "    <tr>\n",
       "      <th>Gerald_Cohen</th>\n",
       "      <td>3</td>\n",
       "      <td>1875.67</td>\n",
       "      <td>50.1431</td>\n",
       "      <td>1818</td>\n",
       "      <td>1909</td>\n",
       "      <td>1952</td>\n",
       "      <td>60.6712</td>\n",
       "      <td>1</td>\n",
       "      <td>1959</td>\n",
       "      <td>NaN</td>\n",
       "      <td>1959</td>\n",
       "      <td>1959</td>\n",
       "      <td>NaN</td>\n",
       "      <td>NaN</td>\n",
       "      <td>1941.0</td>\n",
       "      <td>2030.007216</td>\n",
       "    </tr>\n",
       "    <tr>\n",
       "      <th>Zeno_of_Citium</th>\n",
       "      <td>4</td>\n",
       "      <td>-402.5</td>\n",
       "      <td>88.5532</td>\n",
       "      <td>-535</td>\n",
       "      <td>-350</td>\n",
       "      <td>-330</td>\n",
       "      <td>96.6954</td>\n",
       "      <td>5</td>\n",
       "      <td>-138.6</td>\n",
       "      <td>167.3</td>\n",
       "      <td>-330</td>\n",
       "      <td>55</td>\n",
       "      <td>-57.4</td>\n",
       "      <td>161.178</td>\n",
       "      <td>-334.0</td>\n",
       "      <td>784.029245</td>\n",
       "    </tr>\n",
       "    <tr>\n",
       "      <th>Peter_G._Ossorio</th>\n",
       "      <td>0</td>\n",
       "      <td>NaN</td>\n",
       "      <td>NaN</td>\n",
       "      <td>NaN</td>\n",
       "      <td>NaN</td>\n",
       "      <td>NaN</td>\n",
       "      <td>NaN</td>\n",
       "      <td>0</td>\n",
       "      <td>NaN</td>\n",
       "      <td>NaN</td>\n",
       "      <td>NaN</td>\n",
       "      <td>NaN</td>\n",
       "      <td>NaN</td>\n",
       "      <td>NaN</td>\n",
       "      <td>1926.0</td>\n",
       "      <td>1270.527897</td>\n",
       "    </tr>\n",
       "    <tr>\n",
       "      <th>Hans_Reichenbach</th>\n",
       "      <td>0</td>\n",
       "      <td>NaN</td>\n",
       "      <td>NaN</td>\n",
       "      <td>NaN</td>\n",
       "      <td>NaN</td>\n",
       "      <td>NaN</td>\n",
       "      <td>NaN</td>\n",
       "      <td>2</td>\n",
       "      <td>1933.5</td>\n",
       "      <td>10.6066</td>\n",
       "      <td>1926</td>\n",
       "      <td>1941</td>\n",
       "      <td>NaN</td>\n",
       "      <td>NaN</td>\n",
       "      <td>1891.0</td>\n",
       "      <td>1425.215976</td>\n",
       "    </tr>\n",
       "  </tbody>\n",
       "</table>\n",
       "</div>"
      ],
      "text/plain": [
       "                           (following, count) (following, birth mean)  \\\n",
       "Muhammad_Mustafa_Jauhar                     0                     NaN   \n",
       "Leonardo_Polo                               3                 1033.67   \n",
       "Julian_Savulescu                            1                    1946   \n",
       "Francis_Fukuyama                            2                    1916   \n",
       "Jacques_Ellul                               4                  1828.5   \n",
       "Moses_Mendelssohn                           4                  1539.5   \n",
       "Ivo_Urbančič                                1                    1889   \n",
       "Jakob_Böhme                                 1                    1493   \n",
       "Richard_David_Precht                        1                    1953   \n",
       "Emil_Fackenheim                             1                    1775   \n",
       "Shibli_Nomani                               1                    1817   \n",
       "Hent_de_Vries                               1                    1926   \n",
       "George_Gurdjieff                            0                     NaN   \n",
       "Friedrich_Wilhelm_Foerster                  0                     NaN   \n",
       "Debiprasad_Chattopadhyaya                   1                    1818   \n",
       "Svetozar_Marković                           1                    1818   \n",
       "Gerald_Cohen                                3                 1875.67   \n",
       "Zeno_of_Citium                              4                  -402.5   \n",
       "Peter_G._Ossorio                            0                     NaN   \n",
       "Hans_Reichenbach                            0                     NaN   \n",
       "\n",
       "                           (following, birth std) (following, birth min)  \\\n",
       "Muhammad_Mustafa_Jauhar                       NaN                    NaN   \n",
       "Leonardo_Polo                             1236.45                   -384   \n",
       "Julian_Savulescu                              NaN                   1946   \n",
       "Francis_Fukuyama                           19.799                   1902   \n",
       "Jacques_Ellul                              30.556                   1809   \n",
       "Moses_Mendelssohn                         272.835                   1137   \n",
       "Ivo_Urbančič                                  NaN                   1889   \n",
       "Jakob_Böhme                                   NaN                   1493   \n",
       "Richard_David_Precht                          NaN                   1953   \n",
       "Emil_Fackenheim                               NaN                   1775   \n",
       "Shibli_Nomani                                 NaN                   1817   \n",
       "Hent_de_Vries                                 NaN                   1926   \n",
       "George_Gurdjieff                              NaN                    NaN   \n",
       "Friedrich_Wilhelm_Foerster                    NaN                    NaN   \n",
       "Debiprasad_Chattopadhyaya                     NaN                   1818   \n",
       "Svetozar_Marković                             NaN                   1818   \n",
       "Gerald_Cohen                              50.1431                   1818   \n",
       "Zeno_of_Citium                            88.5532                   -535   \n",
       "Peter_G._Ossorio                              NaN                    NaN   \n",
       "Hans_Reichenbach                              NaN                    NaN   \n",
       "\n",
       "                           (following, birth max) (following, death mean)  \\\n",
       "Muhammad_Mustafa_Jauhar                       NaN                     NaN   \n",
       "Leonardo_Polo                                1889                 1101.33   \n",
       "Julian_Savulescu                             1946                     NaN   \n",
       "Francis_Fukuyama                             1930                    1980   \n",
       "Jacques_Ellul                                1874                 1887.75   \n",
       "Moses_Mendelssohn                            1743                 1610.75   \n",
       "Ivo_Urbančič                                 1889                    1976   \n",
       "Jakob_Böhme                                  1493                    1541   \n",
       "Richard_David_Precht                         1953                     NaN   \n",
       "Emil_Fackenheim                              1775                    1854   \n",
       "Shibli_Nomani                                1817                    1898   \n",
       "Hent_de_Vries                                1926                     NaN   \n",
       "George_Gurdjieff                              NaN                     NaN   \n",
       "Friedrich_Wilhelm_Foerster                    NaN                     NaN   \n",
       "Debiprasad_Chattopadhyaya                    1818                    1883   \n",
       "Svetozar_Marković                            1818                    1883   \n",
       "Gerald_Cohen                                 1909                    1952   \n",
       "Zeno_of_Citium                               -350                    -330   \n",
       "Peter_G._Ossorio                              NaN                     NaN   \n",
       "Hans_Reichenbach                              NaN                     NaN   \n",
       "\n",
       "                           (following, death std) (followers, count)  \\\n",
       "Muhammad_Mustafa_Jauhar                       NaN                  0   \n",
       "Leonardo_Polo                             1243.37                  0   \n",
       "Julian_Savulescu                              NaN                  0   \n",
       "Francis_Fukuyama                          16.9706                  0   \n",
       "Jacques_Ellul                             41.8041                  4   \n",
       "Moses_Mendelssohn                         276.035                  3   \n",
       "Ivo_Urbančič                                  NaN                  0   \n",
       "Jakob_Böhme                                   NaN                  3   \n",
       "Richard_David_Precht                          NaN                  0   \n",
       "Emil_Fackenheim                               NaN                  0   \n",
       "Shibli_Nomani                                 NaN                  2   \n",
       "Hent_de_Vries                                 NaN                  0   \n",
       "George_Gurdjieff                              NaN                  1   \n",
       "Friedrich_Wilhelm_Foerster                    NaN                  0   \n",
       "Debiprasad_Chattopadhyaya                     NaN                  1   \n",
       "Svetozar_Marković                             NaN                  1   \n",
       "Gerald_Cohen                              60.6712                  1   \n",
       "Zeno_of_Citium                            96.6954                  5   \n",
       "Peter_G._Ossorio                              NaN                  0   \n",
       "Hans_Reichenbach                              NaN                  2   \n",
       "\n",
       "                           (followers, birth mean) (followers, birth std)  \\\n",
       "Muhammad_Mustafa_Jauhar                        NaN                    NaN   \n",
       "Leonardo_Polo                                  NaN                    NaN   \n",
       "Julian_Savulescu                               NaN                    NaN   \n",
       "Francis_Fukuyama                               NaN                    NaN   \n",
       "Jacques_Ellul                              1923.75                4.78714   \n",
       "Moses_Mendelssohn                          1798.67                87.0651   \n",
       "Ivo_Urbančič                                   NaN                    NaN   \n",
       "Jakob_Böhme                                1812.33                 53.799   \n",
       "Richard_David_Precht                           NaN                    NaN   \n",
       "Emil_Fackenheim                                NaN                    NaN   \n",
       "Shibli_Nomani                                 1928                33.9411   \n",
       "Hent_de_Vries                                  NaN                    NaN   \n",
       "George_Gurdjieff                              1898                    NaN   \n",
       "Friedrich_Wilhelm_Foerster                     NaN                    NaN   \n",
       "Debiprasad_Chattopadhyaya                     1947                    NaN   \n",
       "Svetozar_Marković                             1949                    NaN   \n",
       "Gerald_Cohen                                  1959                    NaN   \n",
       "Zeno_of_Citium                              -138.6                  167.3   \n",
       "Peter_G._Ossorio                               NaN                    NaN   \n",
       "Hans_Reichenbach                            1933.5                10.6066   \n",
       "\n",
       "                           (followers, birth min) (followers, birth max)  \\\n",
       "Muhammad_Mustafa_Jauhar                       NaN                    NaN   \n",
       "Leonardo_Polo                                 NaN                    NaN   \n",
       "Julian_Savulescu                              NaN                    NaN   \n",
       "Francis_Fukuyama                              NaN                    NaN   \n",
       "Jacques_Ellul                                1918                   1929   \n",
       "Moses_Mendelssohn                            1743                   1899   \n",
       "Ivo_Urbančič                                  NaN                    NaN   \n",
       "Jakob_Böhme                                  1775                   1874   \n",
       "Richard_David_Precht                          NaN                    NaN   \n",
       "Emil_Fackenheim                               NaN                    NaN   \n",
       "Shibli_Nomani                                1904                   1952   \n",
       "Hent_de_Vries                                 NaN                    NaN   \n",
       "George_Gurdjieff                             1898                   1898   \n",
       "Friedrich_Wilhelm_Foerster                    NaN                    NaN   \n",
       "Debiprasad_Chattopadhyaya                    1947                   1947   \n",
       "Svetozar_Marković                            1949                   1949   \n",
       "Gerald_Cohen                                 1959                   1959   \n",
       "Zeno_of_Citium                               -330                     55   \n",
       "Peter_G._Ossorio                              NaN                    NaN   \n",
       "Hans_Reichenbach                             1926                   1941   \n",
       "\n",
       "                           (followers, death mean) (followers, death std)  \\\n",
       "Muhammad_Mustafa_Jauhar                        NaN                    NaN   \n",
       "Leonardo_Polo                                  NaN                    NaN   \n",
       "Julian_Savulescu                               NaN                    NaN   \n",
       "Francis_Fukuyama                               NaN                    NaN   \n",
       "Jacques_Ellul                                 1993                7.87401   \n",
       "Moses_Mendelssohn                             1864                94.8736   \n",
       "Ivo_Urbančič                                   NaN                    NaN   \n",
       "Jakob_Böhme                                1887.33                52.6245   \n",
       "Richard_David_Precht                           NaN                    NaN   \n",
       "Emil_Fackenheim                                NaN                    NaN   \n",
       "Shibli_Nomani                                 1997                    NaN   \n",
       "Hent_de_Vries                                  NaN                    NaN   \n",
       "George_Gurdjieff                              1974                    NaN   \n",
       "Friedrich_Wilhelm_Foerster                     NaN                    NaN   \n",
       "Debiprasad_Chattopadhyaya                      NaN                    NaN   \n",
       "Svetozar_Marković                              NaN                    NaN   \n",
       "Gerald_Cohen                                   NaN                    NaN   \n",
       "Zeno_of_Citium                               -57.4                161.178   \n",
       "Peter_G._Ossorio                               NaN                    NaN   \n",
       "Hans_Reichenbach                               NaN                    NaN   \n",
       "\n",
       "                              real      predict  \n",
       "Muhammad_Mustafa_Jauhar     1895.0  1270.527897  \n",
       "Leonardo_Polo               1926.0  1841.338699  \n",
       "Julian_Savulescu            1963.0  2006.659355  \n",
       "Francis_Fukuyama            1952.0  1888.705803  \n",
       "Jacques_Ellul               1912.0  1934.706175  \n",
       "Moses_Mendelssohn           1729.0  1752.214456  \n",
       "Ivo_Urbančič                1930.0  1893.191454  \n",
       "Jakob_Böhme                 1575.0  1780.570887  \n",
       "Richard_David_Precht        1964.0  2009.373699  \n",
       "Emil_Fackenheim             1916.0  1854.627410  \n",
       "Shibli_Nomani               1857.0  1957.065020  \n",
       "Hent_de_Vries               1958.0  1998.904087  \n",
       "George_Gurdjieff            1866.0  1388.665201  \n",
       "Friedrich_Wilhelm_Foerster  1869.0  1270.527897  \n",
       "Debiprasad_Chattopadhyaya   1918.0  2036.801437  \n",
       "Svetozar_Marković           1846.0  2036.974282  \n",
       "Gerald_Cohen                1941.0  2030.007216  \n",
       "Zeno_of_Citium              -334.0   784.029245  \n",
       "Peter_G._Ossorio            1926.0  1270.527897  \n",
       "Hans_Reichenbach            1891.0  1425.215976  "
      ]
     },
     "execution_count": 33,
     "metadata": {},
     "output_type": "execute_result"
    }
   ],
   "source": [
    "df_train2.head(20)"
   ]
  },
  {
   "cell_type": "code",
   "execution_count": 34,
   "metadata": {
    "collapsed": false
   },
   "outputs": [
    {
     "data": {
      "text/plain": [
       "Mirza_Mazhar_Jan-e-Janaan                1505.015440\n",
       "Pseudo-Dionysius_the_Areopagite          1066.166589\n",
       "Speusippus                               1059.480079\n",
       "Leucippus                                1219.229866\n",
       "Muhammad_al-Shaybani                      154.259009\n",
       "Metrodorus_of_Lampsacus_(the_younger)    1132.328644\n",
       "Al-Dhahabi                               1313.272252\n",
       "Abu_Yusuf                                 154.259009\n",
       "Muhammad_Usman_Damani                    1845.208543\n",
       "Jesús_Padilla_Gálvez                     1252.243384\n",
       "Predrag_Finci                            -177.874577\n",
       "Haji_Dost_Muhammad_Qandhari              1418.629357\n",
       "Burhan_al-Din_al-Marghinani              1480.493861\n",
       "Ioane_Petritsi                           1098.185649\n",
       "Xenocrates                               1033.179947\n",
       "Sufyan_al-Thawri                         1319.647382\n",
       "Plato                                     285.838937\n",
       "Democritus                               -671.531161\n",
       "Ahmad_Sirhindi                            127.153371\n",
       "Ludwig_Wittgenstein                      1731.395380\n",
       "Panaetius                                1122.732099\n",
       "David_the_Invincible                     1098.185649\n",
       "Homer                                    -798.459493\n",
       "Arcesilaus                                621.725418\n",
       "Laozi                                    -584.111865\n",
       "Ibn_Abd_al-Hadi                          1944.953866\n",
       "Edmund_Husserl                           1805.627200\n",
       "Plotinus                                  -53.384461\n",
       "Qadi_Thanaullah_Panipati                 1688.237968\n",
       "Yusuf_ibn_Abd_al-Rahman_al-Mizzi         1313.272252\n",
       "Iamblichus                                674.806330\n",
       "Georg_Wilhelm_Friedrich_Hegel            1530.264559\n",
       "Blaise_Pascal                            1830.196773\n",
       "Immanuel_Kant                            1496.904624\n",
       "Philodemus                               1169.614144\n",
       "Ibn_Abi_Asim                             1527.271221\n",
       "Zhuang_Zhou                              1102.185194\n",
       "Proclus                                    26.080759\n",
       "Name: predict, dtype: float64"
      ]
     },
     "execution_count": 34,
     "metadata": {},
     "output_type": "execute_result"
    }
   ],
   "source": [
    "df_test = get_sociodemographic_stats(g_test.nodes(), g, df)\n",
    "\n",
    "df_test[\"predict\"] = model.predict(df_test.fillna(0).as_matrix())\n",
    "\n",
    "df_test[\"predict\"]"
   ]
  },
  {
   "cell_type": "code",
   "execution_count": 35,
   "metadata": {
    "collapsed": true
   },
   "outputs": [],
   "source": [
    "from sklearn.cross_validation import train_test_split\n",
    "from sklearn.grid_search import GridSearchCV"
   ]
  },
  {
   "cell_type": "code",
   "execution_count": 36,
   "metadata": {
    "collapsed": false
   },
   "outputs": [
    {
     "name": "stdout",
     "output_type": "stream",
     "text": [
      "r2 / variance :  0.533342118415\n",
      "Residual sum of squares: 131608.14\n",
      "LinearRegression(copy_X=True, fit_intercept=True, n_jobs=1, normalize='True')\n",
      "{'normalize': 'True'}\n"
     ]
    }
   ],
   "source": [
    "X_train, X_test, y_train, y_test = train_test_split(X, Y, test_size=0.5, random_state=0)\n",
    "\n",
    "tuned_parameters = [{ \"normalize\" : [\"True\", \"False\"] }]\n",
    "\n",
    "clf = GridSearchCV(linear_model.LinearRegression(), tuned_parameters, n_jobs=-1, verbose=0, cv=2)\n",
    "clf.fit(X, Y)\n",
    "\n",
    "print \"r2 / variance : \", clf.best_score_\n",
    "print(\"Residual sum of squares: %.2f\" % np.mean((clf.predict(X_test) - y_test) ** 2))\n",
    "print clf.best_estimator_\n",
    "print clf.best_params_"
   ]
  },
  {
   "cell_type": "code",
   "execution_count": 37,
   "metadata": {
    "collapsed": false
   },
   "outputs": [
    {
     "name": "stdout",
     "output_type": "stream",
     "text": [
      "r2 / variance :  0.533684149949\n",
      "Residual sum of squares: 131713.25\n",
      "Lasso(alpha=10, copy_X=True, fit_intercept=True, max_iter=5000,\n",
      "   normalize=False, positive=False, precompute=False, random_state=None,\n",
      "   selection='cyclic', tol=0.0001, warm_start=False)\n",
      "{'normalize': False, 'alpha': 10, 'max_iter': 5000, 'fit_intercept': True}\n"
     ]
    },
    {
     "name": "stderr",
     "output_type": "stream",
     "text": [
      "/usr/local/lib/python2.7/site-packages/sklearn/linear_model/coordinate_descent.py:466: ConvergenceWarning: Objective did not converge. You might want to increase the number of iterations\n",
      "  ConvergenceWarning)\n",
      "/usr/local/lib/python2.7/site-packages/sklearn/linear_model/coordinate_descent.py:466: ConvergenceWarning: Objective did not converge. You might want to increase the number of iterations\n",
      "  ConvergenceWarning)\n",
      "/usr/local/lib/python2.7/site-packages/sklearn/linear_model/coordinate_descent.py:466: ConvergenceWarning: Objective did not converge. You might want to increase the number of iterations\n",
      "  ConvergenceWarning)\n",
      "/usr/local/lib/python2.7/site-packages/sklearn/linear_model/coordinate_descent.py:466: ConvergenceWarning: Objective did not converge. You might want to increase the number of iterations\n",
      "  ConvergenceWarning)\n",
      "/usr/local/lib/python2.7/site-packages/sklearn/linear_model/coordinate_descent.py:466: ConvergenceWarning: Objective did not converge. You might want to increase the number of iterations\n",
      "  ConvergenceWarning)\n",
      "/usr/local/lib/python2.7/site-packages/sklearn/linear_model/coordinate_descent.py:466: ConvergenceWarning: Objective did not converge. You might want to increase the number of iterations\n",
      "  ConvergenceWarning)\n",
      "/usr/local/lib/python2.7/site-packages/sklearn/linear_model/coordinate_descent.py:466: ConvergenceWarning: Objective did not converge. You might want to increase the number of iterations\n",
      "  ConvergenceWarning)\n",
      "/usr/local/lib/python2.7/site-packages/sklearn/linear_model/coordinate_descent.py:466: ConvergenceWarning: Objective did not converge. You might want to increase the number of iterations\n",
      "  ConvergenceWarning)\n"
     ]
    }
   ],
   "source": [
    "X_train, X_test, y_train, y_test = train_test_split(X, Y, test_size=0.5, random_state=0)\n",
    "\n",
    "tuned_parameters = [{ \"alpha\" : [0.01, 0.03, 0.08, 0.1, 0.3, 1, 3, 10, 30, 100],\n",
    "                     \"fit_intercept\": [True, False],\n",
    "                     \"max_iter\": [1000, 5000, 10000],\n",
    "                     \"normalize\": [True, False] }]\n",
    "\n",
    "clf = GridSearchCV(linear_model.Lasso(), tuned_parameters, n_jobs=-1, verbose=0, cv=2)\n",
    "clf.fit(X, Y)\n",
    "\n",
    "print \"r2 / variance : \", clf.best_score_\n",
    "print(\"Residual sum of squares: %.2f\" % np.mean((clf.predict(X_test) - y_test) ** 2))\n",
    "print clf.best_estimator_\n",
    "print clf.best_params_"
   ]
  },
  {
   "cell_type": "code",
   "execution_count": 38,
   "metadata": {
    "collapsed": false
   },
   "outputs": [
    {
     "data": {
      "text/plain": [
       "Mirza_Mazhar_Jan-e-Janaan                1505.500810\n",
       "Pseudo-Dionysius_the_Areopagite          1067.672233\n",
       "Speusippus                               1063.124800\n",
       "Leucippus                                1221.854036\n",
       "Muhammad_al-Shaybani                      160.200702\n",
       "Metrodorus_of_Lampsacus_(the_younger)    1135.565510\n",
       "Al-Dhahabi                               1312.213425\n",
       "Abu_Yusuf                                 160.200702\n",
       "Muhammad_Usman_Damani                    1844.795243\n",
       "Jesús_Padilla_Gálvez                     1249.412297\n",
       "Predrag_Finci                            -177.285553\n",
       "Haji_Dost_Muhammad_Qandhari              1414.122753\n",
       "Burhan_al-Din_al-Marghinani              1486.989971\n",
       "Ioane_Petritsi                           1104.495776\n",
       "Xenocrates                               1036.377997\n",
       "Sufyan_al-Thawri                         1318.489888\n",
       "Plato                                     264.324796\n",
       "Democritus                               -664.590850\n",
       "Ahmad_Sirhindi                            123.535662\n",
       "Ludwig_Wittgenstein                      1749.422519\n",
       "Panaetius                                1126.027309\n",
       "David_the_Invincible                     1104.495776\n",
       "Homer                                    -790.445495\n",
       "Arcesilaus                                632.662138\n",
       "Laozi                                    -577.316233\n",
       "Ibn_Abd_al-Hadi                          1949.255314\n",
       "Edmund_Husserl                           1808.994994\n",
       "Plotinus                                  -56.746713\n",
       "Qadi_Thanaullah_Panipati                 1693.143280\n",
       "Yusuf_ibn_Abd_al-Rahman_al-Mizzi         1312.213425\n",
       "Iamblichus                                684.523882\n",
       "Georg_Wilhelm_Friedrich_Hegel            1548.790066\n",
       "Blaise_Pascal                            1818.257129\n",
       "Immanuel_Kant                            1514.467681\n",
       "Philodemus                               1175.584583\n",
       "Ibn_Abi_Asim                             1526.862424\n",
       "Zhuang_Zhou                              1107.926498\n",
       "Proclus                                    26.938853\n",
       "Name: predict, dtype: float64"
      ]
     },
     "execution_count": 38,
     "metadata": {},
     "output_type": "execute_result"
    }
   ],
   "source": [
    "df_test = get_sociodemographic_stats(g_test.nodes(), g, df)\n",
    "\n",
    "df_test[\"predict\"] = clf.predict(df_test.fillna(0).as_matrix())\n",
    "\n",
    "df_test[\"predict\"]"
   ]
  },
  {
   "cell_type": "code",
   "execution_count": 45,
   "metadata": {
    "collapsed": false
   },
   "outputs": [],
   "source": [
    "pca = PCA()\n",
    "\n",
    "pca.fit(X)\n",
    "\n",
    "Z = pca.transform(X)\n",
    "Z = zip(*Z)"
   ]
  },
  {
   "cell_type": "code",
   "execution_count": 49,
   "metadata": {
    "collapsed": false
   },
   "outputs": [
    {
     "name": "stdout",
     "output_type": "stream",
     "text": [
      "[  4.96920085e-01   3.66344512e-01   6.82075190e-02   4.39469272e-02\n",
      "   1.11399126e-02   9.30551555e-03   2.77136839e-03   7.27370709e-04\n",
      "   2.65867364e-04   2.43006741e-04   7.79369497e-05   4.48580920e-05\n",
      "   4.63810827e-06   4.82114835e-07]\n"
     ]
    },
    {
     "data": {
      "image/png": "[encoded data removed]",
      "text/plain": [
       "<matplotlib.figure.Figure at 0x11acce410>"
      ]
     },
     "metadata": {},
     "output_type": "display_data"
    }
   ],
   "source": [
    "print(pca.explained_variance_ratio_) \n",
    "\n",
    "fig = plt.figure()\n",
    "plt.scatter(Z[0], Z[1])\n",
    "\n",
    "plt.show()"
   ]
  }
 ],
 "metadata": {
  "kernelspec": {
   "display_name": "Python 2",
   "language": "python",
   "name": "python2"
  },
  "language_info": {
   "codemirror_mode": {
    "name": "ipython",
    "version": 2
   },
   "file_extension": ".py",
   "mimetype": "text/x-python",
   "name": "python",
   "nbconvert_exporter": "python",
   "pygments_lexer": "ipython2",
   "version": "2.7.11"
  }
 },
 "nbformat": 4,
 "nbformat_minor": 0
}
