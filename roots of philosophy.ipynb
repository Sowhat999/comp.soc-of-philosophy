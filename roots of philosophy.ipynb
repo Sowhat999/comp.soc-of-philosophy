{
 "cells": [
  {
   "cell_type": "code",
   "execution_count": 14,
   "metadata": {
    "collapsed": true
   },
   "outputs": [],
   "source": [
    "import networkx as nx\n",
    "import numpy as np"
   ]
  },
  {
   "cell_type": "code",
   "execution_count": 29,
   "metadata": {
    "collapsed": false
   },
   "outputs": [],
   "source": [
    "g = nx.read_gexf(\"datasets/influences.philosophersonly.gexf\")"
   ]
  },
  {
   "cell_type": "markdown",
   "metadata": {},
   "source": [
    "## roots as people having no following"
   ]
  },
  {
   "cell_type": "code",
   "execution_count": 30,
   "metadata": {
    "collapsed": false
   },
   "outputs": [],
   "source": [
    "roots1 = [ n for n in g if len(g.successors(n)) == 0 ]"
   ]
  },
  {
   "cell_type": "code",
   "execution_count": 31,
   "metadata": {
    "collapsed": false
   },
   "outputs": [
    {
     "name": "stdout",
     "output_type": "stream",
     "text": [
      "82\n",
      "George_Gurdjieff, Mozi, Niccolò_Machiavelli, Gaius_Musonius_Rufus, Nahmanides, Ata_ibn_Abi_Rabah, Sibawayh, Paul_Thieme, Hans_Reichenbach, Abu_Yusuf, Sam_C._Sarkesian, Richard_Sylvan, Ernest_Renan, Mary_Ainsworth, Giorgio_Del_Vecchio, Tajuddin_Muhammad_Badruddin, Bertrando_Spaventa, Al-Hasan_ibn_'Ali_al-Barbahari, Sheldon_Wolin, Harold_Joachim, Franciscus_van_den_Enden, Guillaume_Budé, Otto_Neurath, Yahya_ibn_Ma'in, Duncan_Kennedy_(legal_philosopher), Edward_Shils, Solomon_ibn_Gabirol, Alan_Watts, Gilbert_Simondon, Herbert_McCabe, Paul_Watzlawick, Martha_Albertson_Fineman, Muhammad_al-Shaybani, Victor_Prosper_Considerant, Al-Dhahabi, Abdulhakim_Arvasi, Émile_Chartier, Curt_John_Ducasse, Sufyan_al-Thawri, Charles_Cooley, Judah_Halevi, Algernon_Sidney, Amjad_Jauhari, Homer, Karl_Brugmann, Paracelsus, Timothy_Williamson, Virginia_Held, Narayan_Maharaj, Thales, Laozi, Al-Maʿarri, Upasni_Maharaj, Heinrich_Rickert, Arthur_Prior, Al-Jahiz, Antarah_ibn_Shaddad, Eva_Kittay, Yusuf_ibn_Abd_al-Rahman_al-Mizzi, Norbert_Elias, Carl_Gustav_Hempel, Harold_Arthur_Prichard, Mulla_Sadra, Josiah_Warren, Ahmad_Sirhindi, Evandro_Agazzi, Maurice_Halbwachs, Pāṇini, Thomas_Metzinger, Hazrat_Babajan, Bayazid_Bastami, Othmar_Spann, William_Cleghorn, Fred_Dretske, Predrag_Finci, Confucius, Justus_Buchler, Heinrich_Rombach, Moinuddin_Chishti, Jesús_Padilla_Gálvez, George_Sylvester_Morris, Pherecydes_of_Syros\n"
     ]
    }
   ],
   "source": [
    "print len(roots1)\n",
    "\n",
    "print \", \".join(roots1)"
   ]
  },
  {
   "cell_type": "markdown",
   "metadata": {},
   "source": [
    "This is wrong people can have followings and still being foundational. Have to find a finer metric"
   ]
  },
  {
   "cell_type": "markdown",
   "metadata": {},
   "source": [
    "## roots as people being at the center of a losange"
   ]
  },
  {
   "cell_type": "code",
   "execution_count": 32,
   "metadata": {
    "collapsed": false
   },
   "outputs": [],
   "source": [
    "def max_indegree_followers(n1, g):\n",
    "  if len(g.predecessors(n1)) > 0:\n",
    "    return np.max([ len(g.predecessors(n2)) for n2 in g.predecessors(n1) ])\n",
    "  else:\n",
    "    return 0\n",
    "\n",
    "def max_indegree_following(n1, g):\n",
    "  if len(g.successors(n1)) > 0:\n",
    "    return np.max([ len(g.predecessors(n2)) for n2 in g.successors(n1) if n1 != n2 ])\n",
    "  else:\n",
    "    return 0  \n",
    "  \n",
    "roots2 = [ n for n in g if len(g.predecessors(n)) >= max_indegree_followers(n, g) and len(g.predecessors(n)) >= max_indegree_following(n, g) ]"
   ]
  },
  {
   "cell_type": "code",
   "execution_count": 33,
   "metadata": {
    "collapsed": false
   },
   "outputs": [
    {
     "name": "stdout",
     "output_type": "stream",
     "text": [
      "29\n",
      "86\n",
      "38\n"
     ]
    }
   ],
   "source": [
    "print len(g.successors(\"Martin_Heidegger\"))\n",
    "print len(g.predecessors(\"Martin_Heidegger\"))\n",
    "print max_indegree_followers(\"Martin_Heidegger\", g)"
   ]
  },
  {
   "cell_type": "code",
   "execution_count": 34,
   "metadata": {
    "collapsed": false
   },
   "outputs": [
    {
     "name": "stdout",
     "output_type": "stream",
     "text": [
      "54\n",
      "Ibn_Jurayj, Nahmanides, Ata_ibn_Abi_Rabah, Sibawayh, Paul_Thieme, Abu_Yusuf, Sam_C._Sarkesian, Richard_Sylvan, Carl_F._H._Henry, Mary_Ainsworth, Tajuddin_Muhammad_Badruddin, Al-Hasan_ibn_'Ali_al-Barbahari, Sheldon_Wolin, Harold_Joachim, Guillaume_Budé, Otto_Neurath, Duncan_Kennedy_(legal_philosopher), Edward_Shils, Solomon_ibn_Gabirol, Alan_Watts, Herbert_McCabe, Paul_Watzlawick, Martha_Albertson_Fineman, Muhammad_al-Shaybani, Al-Dhahabi, Abdulhakim_Arvasi, Judah_Halevi, Ludwig_Wittgenstein, Karl_Brugmann, Muhammad_Husayn_Tabataba'i, Timothy_Williamson, Virginia_Held, Narayan_Maharaj, Dawud_al-Zahiri, Al-Maʿarri, Upasni_Maharaj, Arthur_Prior, Al-Jahiz, Antarah_ibn_Shaddad, Eva_Kittay, Yusuf_ibn_Abd_al-Rahman_al-Mizzi, Norbert_Elias, Carl_Gustav_Hempel, Ahmad_Sirhindi, Evandro_Agazzi, Immanuel_Kant, Michel_Bréal, Amin_Ahsan_Islahi, Thomas_Metzinger, Hazrat_Babajan, William_Cleghorn, Fred_Dretske, Justus_Buchler, Heinrich_Rombach\n"
     ]
    }
   ],
   "source": [
    "print len(roots2)\n",
    "\n",
    "print \", \".join(roots2)"
   ]
  },
  {
   "cell_type": "code",
   "execution_count": 40,
   "metadata": {
    "collapsed": false
   },
   "outputs": [
    {
     "name": "stdout",
     "output_type": "stream",
     "text": [
      "[u'S\\xf8ren_Kierkegaard', 'Frank_P._Ramsey', 'Oswald_Spengler', 'Otto_Weininger', 'Arthur_Schopenhauer', 'Baruch_Spinoza', 'William_James', 'Bertrand_Russell', 'Gottlob_Frege', 'G._E._Moore', 'Predrag_Finci', u'Jes\\xfas_Padilla_G\\xe1lvez']\n",
      "['Homer', 'Parmenides', 'Pythagoras', 'Predrag_Finci', 'Gorgias', 'Zeno_of_Elea', 'Socrates', 'Heraclitus', 'Protagoras']\n",
      "['Albert_Rivaud', 'Speusippus', 'Carneades', 'Alain_Badiou', u'Ren\\xe9_Descartes', 'Ioane_Petritsi', 'Charles_Taliaferro', 'Nicolai_Hartmann', 'Giovanni_Pico_della_Mirandola', 'Joseph_de_Maistre', 'Eric_Voegelin', 'Julius_Evola', 'Johannes_Scotus_Eriugena', 'Gillian_Rose', 'Hilail_Gildin', 'Wolfgang_Smith', 'Georg_Wilhelm_Friedrich_Hegel', 'Immanuel_Kant', 'Aristotle', u'R\\xe9mi_Brague', 'Vladimir_Solovyov_(philosopher)', 'George_Grant_(philosopher)', 'Damaris_Cudworth_Masham', 'John_Daniel_Wild', 'Ibn_Arabi', 'Richard_J._Bernstein', u'Jorge_\\xc1ngel_Livraga_Rizzi', 'George_Hourani', 'Louis_Gabriel_Ambroise_de_Bonald', 'John_Locke', 'Louis_Arnaud_Reid', 'Jean-Marie_Guyau', 'Asclepiodotus_of_Alexandria', 'Boethius', 'Boris_Groys', 'John_Stuart_Mill', 'Edmund_Husserl', 'Plotinus', 'Iamblichus', 'Martin_Heidegger', 'Nicholas_of_Cusa', 'Iain_Hamilton_Grant', 'Giuseppe_Mazzini', u'Ren\\xe9_Gu\\xe9non', 'Gemistus_Pletho', 'Proclus', 'Michael_Marder', 'William_Desmond_(philosopher)', 'John_Dewey', 'Friedrich_Schleiermacher', 'Costanzo_Preve', 'Xenocrates', 'Charles_Taylor_(philosopher)', 'Simon_Critchley', 'David_the_Invincible', 'Dimitris_Liantinis', u'Lorenzo_Pe\\xf1a', 'Gordon_Clark', u'Jacques_Ranci\\xe8re', 'Adriana_Cavarero', 'Julius_Thomas_Fraser', 'Gottfried_Wilhelm_Leibniz', 'Ron_Polansky', \"Gerald_O'Collins\", 'Hypatia', 'Chrysippus', 'Leo_Strauss', u'M\\xe1rio_Ferreira_dos_Santos', 'Alfred_North_Whitehead', 'Theophrastus', 'Allan_Bloom', 'Joseph_Butler__Western_Philosophy__1', 'Theognostus_of_Alexandria', 'T._K._Seung', 'Giovanni_Gentile', 'Hans-Georg_Gadamer', 'Jean-Jacques_Rousseau', 'Michael_Oakeshott', 'Martin_Gardner__Plato,_Kant,_G._K._Chesterton,_William_James,_Char__1', 'Arcesilaus', 'Porphyry_(philosopher)', 'Ion_Dragoumis', u'Alexandre_Koj\\xe8ve', 'Richard_Swinburne', 'Paul_Kurtz', 'Simone_Weil', u'Delia_Steinberg_Guzm\\xe1n', 'Friedrich_Wilhelm_Joseph_Schelling', 'Jean_Gebser', 'Josef_Pieper']\n"
     ]
    }
   ],
   "source": [
    "print g.successors(\"Ludwig_Wittgenstein\")\n",
    "\n",
    "print g.successors(\"Plato\")\n",
    "print g.predecessors(\"Plato\")"
   ]
  }
 ],
 "metadata": {
  "kernelspec": {
   "display_name": "Python 2",
   "language": "python",
   "name": "python2"
  },
  "language_info": {
   "codemirror_mode": {
    "name": "ipython",
    "version": 2
   },
   "file_extension": ".py",
   "mimetype": "text/x-python",
   "name": "python",
   "nbconvert_exporter": "python",
   "pygments_lexer": "ipython2",
   "version": "2.7.11"
  }
 },
 "nbformat": 4,
 "nbformat_minor": 0
}
