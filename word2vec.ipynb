{
 "cells": [
  {
   "cell_type": "code",
   "execution_count": 26,
   "metadata": {
    "collapsed": true
   },
   "outputs": [],
   "source": [
    "from collections import defaultdict\n",
    "\n",
    "import codecs\n",
    "import gensim\n",
    "import networkx as nx\n",
    "import numpy as np\n",
    "\n",
    "from bs4 import BeautifulSoup"
   ]
  },
  {
   "cell_type": "code",
   "execution_count": 11,
   "metadata": {
    "collapsed": true
   },
   "outputs": [],
   "source": [
    "G = nx.read_gexf(\"datasets/influences.gexf\")\n",
    "names = [ n for n in G.nodes() ]"
   ]
  },
  {
   "cell_type": "code",
   "execution_count": 100,
   "metadata": {
    "collapsed": false
   },
   "outputs": [
    {
     "name": "stderr",
     "output_type": "stream",
     "text": [
      "WARNING:gensim.models.word2vec:under 10 jobs per worker: consider setting a smaller `batch_words' for smoother alpha decay\n",
      "WARNING:gensim.models.word2vec:under 10 jobs per worker: consider setting a smaller `batch_words' for smoother alpha decay\n"
     ]
    },
    {
     "name": "stdout",
     "output_type": "stream",
     "text": [
      "Karl_Popper\n",
      "sentences: 923\n",
      "tokens: 6753\n",
      "Dictionary(1433 unique tokens: [u'', u'searle', u'writings', u'four', u'whose']...)\n",
      "\n",
      "word2vec(work + philosophy) = \n",
      "------------------------------\n",
      "popper: 0.742815852165\n",
      "theory: 0.73952049017\n",
      "scientific: 0.678596794605\n",
      "science: 0.667265892029\n",
      "history: 0.656752705574\n",
      "may: 0.650360643864\n",
      "social: 0.644129633904\n",
      "logical: 0.634747862816\n",
      "mind: 0.62707811594\n",
      "theories: 0.62146794796\n",
      "\n",
      "Martin_Heidegger"
     ]
    },
    {
     "name": "stderr",
     "output_type": "stream",
     "text": [
      "WARNING:gensim.models.word2vec:under 10 jobs per worker: consider setting a smaller `batch_words' for smoother alpha decay\n"
     ]
    },
    {
     "name": "stdout",
     "output_type": "stream",
     "text": [
      "\n",
      "sentences: 1007\n",
      "tokens: 8065\n",
      "Dictionary(1550 unique tokens: [u'', u'limited', u'writings', u'bedeutungslehre', u'augustine']...)\n",
      "\n",
      "word2vec(work + philosophy) = \n",
      "------------------------------\n",
      "heidegger: 0.98455542326\n",
      "critical: 0.967774987221\n",
      "being: 0.965728580952\n",
      "being_time: 0.963882267475\n",
      "heidegger:: 0.960699319839\n",
      "husserl: 0.958516895771\n",
      "metaphysics: 0.956396341324\n",
      "nader_el-bizri: 0.95593804121\n",
      "published: 0.952707707882\n",
      "influence: 0.952072918415\n",
      "\n",
      "Ludwig_Wittgenstein"
     ]
    },
    {
     "name": "stderr",
     "output_type": "stream",
     "text": [
      "WARNING:gensim.models.word2vec:under 10 jobs per worker: consider setting a smaller `batch_words' for smoother alpha decay\n"
     ]
    },
    {
     "name": "stdout",
     "output_type": "stream",
     "text": [
      "\n",
      "sentences: 1710\n",
      "tokens: 10136\n",
      "Dictionary(1903 unique tokens: [u'', u'searle', u'writings', u'augustine', u'linz[edit]']...)\n",
      "\n",
      "word2vec(work + philosophy) = \n",
      "------------------------------\n",
      "wittgenstein: 0.928377568722\n",
      "theory: 0.9000390172\n",
      "language: 0.875064074993\n",
      "logical: 0.851612448692\n",
      "ludwig: 0.843339800835\n",
      "david: 0.84154176712\n",
      "moore: 0.841473162174\n",
      "university: 0.836565077305\n",
      "cambridge: 0.833699047565\n",
      "school: 0.833020567894\n",
      "\n",
      "Bruno_Latour\n",
      "sentences: 297\n",
      "tokens: 1677\n",
      "Dictionary(431 unique tokens: [u'', u'global', u'focus', u'steve', u'tours']...)\n",
      "\n",
      "word2vec(work + philosophy) = \n",
      "------------------------------\n",
      "(2005): 0.220820605755\n",
      "press: 0.208609819412\n",
      "sociology: 0.164911314845\n",
      "society: 0.156753599644\n",
      "b: 0.151382014155\n",
      "theory: 0.147827029228\n",
      "anthropology: 0.13843677938\n",
      "laboratory: 0.137707024813\n",
      "technology: 0.113852225244\n",
      "life: 0.113830879331\n",
      "\n"
     ]
    }
   ],
   "source": [
    "def philosopher2vec(name):\n",
    "  def get_text(name):\n",
    "    txt = codecs.open(\"datasets/pages/%s.html\" % name,\"r\", \"utf-8-sig\").read()\n",
    "\n",
    "    txt = BeautifulSoup(txt, \"html.parser\")\n",
    "    txt = txt.get_text()\n",
    "\n",
    "    return txt\n",
    "  \n",
    "  def tokenize(sentences):\n",
    "    stoplist = set(codecs.open(\"datasets/stopwords.txt\",\"r\", \"utf-8-sig\").read().split())\n",
    "    texts = [[word.replace(\",\", \"\").replace(\"'s\", \"\") for word in document.lower().split() if word not in stoplist] for document in sentences]\n",
    "\n",
    "    frequency = defaultdict(int)\n",
    "\n",
    "    for text in texts:\n",
    "      for token in text:\n",
    "        frequency[token] += 1\n",
    "    \n",
    "    texts = [[token for token in text if frequency[token] > 1] for text in texts]\n",
    "    \n",
    "    return texts\n",
    "  \n",
    "  def to_dict(tokens):\n",
    "    d = gensim.corpora.Dictionary(tokens)\n",
    "\n",
    "    return d\n",
    "  \n",
    "  def to_corpus(d, t):\n",
    "    c = [d.doc2bow(text) for text in t]\n",
    "    \n",
    "    return c\n",
    "\n",
    "  txt = get_text(name)\n",
    "  sentences = txt.split(\".\")\n",
    "  \n",
    "  tokens = tokenize(sentences)\n",
    "  dictionary = to_dict(tokens)\n",
    "  \n",
    "  corpus = to_corpus(dictionary, tokens)\n",
    "\n",
    "  bigrams = gensim.models.Phrases(tokens)\n",
    "\n",
    "  lsi = gensim.models.lsimodel.LsiModel(corpus, id2word=dictionary, num_topics=300)\n",
    "  word2vec = gensim.models.Word2Vec(bigrams[tokens], size=100, window=5, min_count=5, workers=4)\n",
    "\n",
    "  # print tokens\n",
    "  \n",
    "  print name\n",
    "  print \"sentences: %s\"% len(sentences)\n",
    "  print \"tokens: %s\" % int(np.sum([ len(t) for t in tokens ]))\n",
    "  print dictionary\n",
    "  # print bigrams\n",
    "  # print lsi.print_topics(10)\n",
    "  print\n",
    "  \n",
    "  print \"word2vec(work + philosophy) = \"\n",
    "  print \"------------------------------\"\n",
    "  for (u,s) in word2vec.most_similar(positive=['work', \"philosophy\"]):\n",
    "    print \"%s: %s\" % (u,s)\n",
    "    \n",
    "  print\n",
    "\n",
    "#names = names[0:10]\n",
    "names = [\"Karl_Popper\", \"Martin_Heidegger\", \"Ludwig_Wittgenstein\", \"Bruno_Latour\"]\n",
    "# names = [\"Ludwig_Wittgenstein\"]\n",
    "  \n",
    "[ philosopher2vec(name) for name in names ];"
   ]
  }
 ],
 "metadata": {
  "kernelspec": {
   "display_name": "Python 2",
   "language": "python",
   "name": "python2"
  },
  "language_info": {
   "codemirror_mode": {
    "name": "ipython",
    "version": 2
   },
   "file_extension": ".py",
   "mimetype": "text/x-python",
   "name": "python",
   "nbconvert_exporter": "python",
   "pygments_lexer": "ipython2",
   "version": "2.7.11"
  }
 },
 "nbformat": 4,
 "nbformat_minor": 0
}
