{
 "cells": [
  {
   "cell_type": "code",
   "execution_count": 26,
   "metadata": {
    "collapsed": true
   },
   "outputs": [],
   "source": [
    "from collections import defaultdict\n",
    "\n",
    "import codecs\n",
    "import gensim\n",
    "import networkx as nx\n",
    "import numpy as np\n",
    "\n",
    "from bs4 import BeautifulSoup"
   ]
  },
  {
   "cell_type": "code",
   "execution_count": 11,
   "metadata": {
    "collapsed": true
   },
   "outputs": [],
   "source": [
    "G = nx.read_gexf(\"datasets/influences.gexf\")\n",
    "names = [ n for n in G.nodes() ]"
   ]
  },
  {
   "cell_type": "code",
   "execution_count": 85,
   "metadata": {
    "collapsed": false
   },
   "outputs": [
    {
     "name": "stderr",
     "output_type": "stream",
     "text": [
      "WARNING:gensim.models.word2vec:under 10 jobs per worker: consider setting a smaller `batch_words' for smoother alpha decay\n",
      "WARNING:gensim.models.word2vec:under 10 jobs per worker: consider setting a smaller `batch_words' for smoother alpha decay\n"
     ]
    },
    {
     "name": "stdout",
     "output_type": "stream",
     "text": [
      "Karl_Popper\n",
      "923\n",
      "6881\n",
      "Dictionary(1441 unique tokens: [u'', u'searle', u'writings', u'four', u'whose']...)\n",
      "\n",
      "philosophy: 0.590414404869\n",
      "theory: 0.568217277527\n",
      "history: 0.558463215828\n",
      "scientific: 0.533928751945\n",
      "growth: 0.515239536762\n",
      "popper's: 0.506954073906\n",
      "popper: 0.501690924168\n",
      "science: 0.500450849533\n",
      "der: 0.499593257904\n",
      "evolution: 0.497165858746\n",
      "\n",
      "Martin_Heidegger"
     ]
    },
    {
     "name": "stderr",
     "output_type": "stream",
     "text": [
      "WARNING:gensim.models.word2vec:under 10 jobs per worker: consider setting a smaller `batch_words' for smoother alpha decay\n"
     ]
    },
    {
     "name": "stdout",
     "output_type": "stream",
     "text": [
      "\n",
      "1007\n",
      "8264\n",
      "Dictionary(1568 unique tokens: [u'', u'limited', u'writings', u\"lacoue-labarthe's\", u'bedeutungslehre']...)\n",
      "\n",
      "heidegger: 0.952893555164\n",
      "heidegger's: 0.952154695988\n",
      "philosophy: 0.948971688747\n",
      "works: 0.9304292202\n",
      "history: 0.929019749165\n",
      "^: 0.92490041256\n",
      "being: 0.924608290195\n",
      "\"the: 0.921348214149\n",
      "heidegger:: 0.91824901104\n",
      "all: 0.918234944344\n",
      "\n",
      "Ludwig_Wittgenstein\n",
      "1710\n",
      "10419\n",
      "Dictionary(1924 unique tokens: [u'', u'searle', u'writings', u'augustine', u'linz[edit]']...)\n",
      "\n",
      "wittgenstein: 0.860655367374\n",
      "philosophy: 0.855276286602\n",
      "theory: 0.841419219971\n",
      "said: 0.83538967371\n",
      "philosophical: 0.819308996201\n",
      "language: 0.814856648445\n",
      "wittgenstein's: 0.805397212505\n",
      "logical: 0.796191871166\n",
      "remarks: 0.786036014557\n",
      "john: 0.785959005356\n",
      "\n"
     ]
    }
   ],
   "source": [
    "def philosopher2vec(name):\n",
    "  def get_text(name):\n",
    "    txt = codecs.open(\"datasets/pages/%s.html\" % name,\"r\", \"utf-8-sig\").read()\n",
    "\n",
    "    txt = BeautifulSoup(txt, \"html.parser\")\n",
    "    txt = txt.get_text()\n",
    "\n",
    "    return txt\n",
    "  \n",
    "  def tokenize(sentences):\n",
    "    stoplist = set(codecs.open(\"datasets/stopwords.txt\",\"r\", \"utf-8-sig\").read().split())\n",
    "    texts = [[word.replace(\",\", \"\") for word in document.lower().split() if word not in stoplist] for document in sentences]\n",
    "\n",
    "    \n",
    "    frequency = defaultdict(int)\n",
    "\n",
    "    for text in texts:\n",
    "      for token in text:\n",
    "        frequency[token] += 1\n",
    "    \n",
    "    texts = [[token for token in text if frequency[token] > 1] for text in texts]\n",
    "    \n",
    "    return texts\n",
    "  \n",
    "  def to_dict(tokens):\n",
    "    d = gensim.corpora.Dictionary(tokens)\n",
    "\n",
    "    return d\n",
    "  \n",
    "  def to_corpus(d, t):\n",
    "    c = [d.doc2bow(text) for text in t]\n",
    "    \n",
    "    return c\n",
    "\n",
    "  \n",
    "  txt = get_text(name)\n",
    "  sentences = txt.split(\".\")\n",
    "  \n",
    "  tokens = tokenize(sentences)\n",
    "  dictionary = to_dict(tokens)\n",
    "  \n",
    "  corpus = to_corpus(dictionary, tokens)\n",
    "\n",
    "  bigrams = gensim.models.Phrases(tokens)\n",
    "\n",
    "  lsi = gensim.models.lsimodel.LsiModel(corpus, id2word=dictionary, num_topics=300)\n",
    "  word2vec = gensim.models.Word2Vec(bigrams[tokens], size=100, window=5, min_count=5, workers=4)\n",
    "\n",
    "  # print tokens\n",
    "  \n",
    "  print name\n",
    "  print len(sentences)\n",
    "  print np.sum([ len(t) for t in tokens ])\n",
    "  print dictionary\n",
    "  # print bigrams\n",
    "  # print lsi.print_topics(10)\n",
    "  print\n",
    "  \n",
    "  for (u,s) in word2vec.most_similar(positive=['work']):\n",
    "    print \"%s: %s\" % (u,s)\n",
    "    \n",
    "  print\n",
    "\n",
    "#names = names[0:10]\n",
    "names = [\"Karl_Popper\", \"Martin_Heidegger\", \"Ludwig_Wittgenstein\"]\n",
    "# names = [\"Ludwig_Wittgenstein\"]\n",
    "  \n",
    "[ philosopher2vec(name) for name in names ];"
   ]
  }
 ],
 "metadata": {
  "kernelspec": {
   "display_name": "Python 2",
   "language": "python",
   "name": "python2"
  },
  "language_info": {
   "codemirror_mode": {
    "name": "ipython",
    "version": 2
   },
   "file_extension": ".py",
   "mimetype": "text/x-python",
   "name": "python",
   "nbconvert_exporter": "python",
   "pygments_lexer": "ipython2",
   "version": "2.7.11"
  }
 },
 "nbformat": 4,
 "nbformat_minor": 0
}
