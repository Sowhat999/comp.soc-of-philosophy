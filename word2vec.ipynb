{
 "cells": [
  {
   "cell_type": "code",
   "execution_count": 26,
   "metadata": {
    "collapsed": true
   },
   "outputs": [],
   "source": [
    "from collections import defaultdict\n",
    "\n",
    "import codecs\n",
    "import gensim\n",
    "import networkx as nx\n",
    "import numpy as np\n",
    "\n",
    "from bs4 import BeautifulSoup"
   ]
  },
  {
   "cell_type": "code",
   "execution_count": 11,
   "metadata": {
    "collapsed": true
   },
   "outputs": [],
   "source": [
    "G = nx.read_gexf(\"datasets/influences.gexf\")\n",
    "names = [ n for n in G.nodes() ]"
   ]
  },
  {
   "cell_type": "code",
   "execution_count": 91,
   "metadata": {
    "collapsed": false
   },
   "outputs": [
    {
     "name": "stderr",
     "output_type": "stream",
     "text": [
      "WARNING:gensim.models.word2vec:under 10 jobs per worker: consider setting a smaller `batch_words' for smoother alpha decay\n",
      "WARNING:gensim.models.word2vec:under 10 jobs per worker: consider setting a smaller `batch_words' for smoother alpha decay\n"
     ]
    },
    {
     "name": "stdout",
     "output_type": "stream",
     "text": [
      "Karl_Popper\n",
      "sentences: 923\n",
      "tokens: \n",
      "Dictionary(1439 unique tokens: [u'', u'searle', u'writings', u'four', u'whose']...)\n",
      "\n",
      "theory: 0.746167421341\n",
      "science: 0.70251262188\n",
      "popper: 0.699823260307\n",
      "scientific: 0.691341757774\n",
      "history: 0.661367237568\n",
      "social: 0.660380244255\n",
      "popper's: 0.650854229927\n",
      "open_society: 0.645365357399\n",
      "may: 0.639148950577\n",
      "life: 0.629142403603\n",
      "\n",
      "Martin_Heidegger"
     ]
    },
    {
     "name": "stderr",
     "output_type": "stream",
     "text": [
      "WARNING:gensim.models.word2vec:under 10 jobs per worker: consider setting a smaller `batch_words' for smoother alpha decay\n"
     ]
    },
    {
     "name": "stdout",
     "output_type": "stream",
     "text": [
      "\n",
      "sentences: 1007\n",
      "tokens: \n",
      "Dictionary(1566 unique tokens: [u'', u'limited', u'writings', u\"lacoue-labarthe's\", u'bedeutungslehre']...)\n",
      "\n",
      "heidegger's: 0.960094630718\n",
      "heidegger: 0.958546280861\n",
      "being: 0.944669008255\n",
      "phenomenology: 0.927272081375\n",
      "theory: 0.926687538624\n",
      "nader_el-bizri: 0.925215005875\n",
      "history: 0.925126850605\n",
      "thought: 0.923619270325\n",
      "^: 0.917414903641\n",
      "published: 0.915873765945\n",
      "\n",
      "Ludwig_Wittgenstein\n",
      "sentences: 1710\n",
      "tokens: \n",
      "Dictionary(1922 unique tokens: [u'', u'searle', u'writings', u'augustine', u'linz[edit]']...)\n",
      "\n",
      "wittgenstein: 0.896718621254\n",
      "theory: 0.864893436432\n",
      "language: 0.859470129013\n",
      "cambridge: 0.846630096436\n",
      "wittgenstein's: 0.829942703247\n",
      "philosophical: 0.822431564331\n",
      "ludwig: 0.813782393932\n",
      "moore: 0.810309410095\n",
      "philosophical_investigations: 0.802277743816\n",
      "logical: 0.801936507225\n",
      "\n"
     ]
    }
   ],
   "source": [
    "import logging\n",
    "#logging.basicConfig(format='%(asctime)s : %(levelname)s : %(message)s', level=logging.INFO)\n",
    "\n",
    "def philosopher2vec(name):\n",
    "  def get_text(name):\n",
    "    txt = codecs.open(\"datasets/pages/%s.html\" % name,\"r\", \"utf-8-sig\").read()\n",
    "\n",
    "    txt = BeautifulSoup(txt, \"html.parser\")\n",
    "    txt = txt.get_text()\n",
    "\n",
    "    return txt\n",
    "  \n",
    "  def tokenize(sentences):\n",
    "    stoplist = set(codecs.open(\"datasets/stopwords.txt\",\"r\", \"utf-8-sig\").read().split())\n",
    "    texts = [[word.replace(\",\", \"\") for word in document.lower().split() if word not in stoplist] for document in sentences]\n",
    "\n",
    "    frequency = defaultdict(int)\n",
    "\n",
    "    for text in texts:\n",
    "      for token in text:\n",
    "        frequency[token] += 1\n",
    "    \n",
    "    texts = [[token for token in text if frequency[token] > 1] for text in texts]\n",
    "    \n",
    "    return texts\n",
    "  \n",
    "  def to_dict(tokens):\n",
    "    d = gensim.corpora.Dictionary(tokens)\n",
    "\n",
    "    return d\n",
    "  \n",
    "  def to_corpus(d, t):\n",
    "    c = [d.doc2bow(text) for text in t]\n",
    "    \n",
    "    return c\n",
    "\n",
    "  txt = get_text(name)\n",
    "  sentences = txt.split(\".\")\n",
    "  \n",
    "  tokens = tokenize(sentences)\n",
    "  dictionary = to_dict(tokens)\n",
    "  \n",
    "  corpus = to_corpus(dictionary, tokens)\n",
    "\n",
    "  bigrams = gensim.models.Phrases(tokens)\n",
    "\n",
    "  lsi = gensim.models.lsimodel.LsiModel(corpus, id2word=dictionary, num_topics=300)\n",
    "  word2vec = gensim.models.Word2Vec(bigrams[tokens], size=100, window=5, min_count=5, workers=4)\n",
    "\n",
    "  # print tokens\n",
    "  \n",
    "  print name\n",
    "  print \"sentences: %s\"% len(sentences)\n",
    "  print \"tokens: \" % np.sum([ len(t) for t in tokens ])\n",
    "  print dictionary\n",
    "  # print bigrams\n",
    "  # print lsi.print_topics(10)\n",
    "  print\n",
    "  \n",
    "  for (u,s) in word2vec.most_similar(positive=['work', \"philosophy\"]):\n",
    "    print \"%s: %s\" % (u,s)\n",
    "    \n",
    "  print\n",
    "\n",
    "#names = names[0:10]\n",
    "names = [\"Karl_Popper\", \"Martin_Heidegger\", \"Ludwig_Wittgenstein\"]\n",
    "# names = [\"Ludwig_Wittgenstein\"]\n",
    "  \n",
    "[ philosopher2vec(name) for name in names ];"
   ]
  }
 ],
 "metadata": {
  "kernelspec": {
   "display_name": "Python 2",
   "language": "python",
   "name": "python2"
  },
  "language_info": {
   "codemirror_mode": {
    "name": "ipython",
    "version": 2
   },
   "file_extension": ".py",
   "mimetype": "text/x-python",
   "name": "python",
   "nbconvert_exporter": "python",
   "pygments_lexer": "ipython2",
   "version": "2.7.11"
  }
 },
 "nbformat": 4,
 "nbformat_minor": 0
}
