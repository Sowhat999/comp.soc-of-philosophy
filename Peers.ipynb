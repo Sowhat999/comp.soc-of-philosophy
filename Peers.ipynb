{
 "cells": [
  {
   "cell_type": "markdown",
   "metadata": {},
   "source": [
    "People that have an influence link while living at the same time"
   ]
  },
  {
   "cell_type": "code",
   "execution_count": 1,
   "metadata": {
    "collapsed": true
   },
   "outputs": [],
   "source": [
    "%matplotlib inline\n",
    "\n",
    "import networkx as nx\n",
    "import matplotlib.pyplot as plt\n",
    "import numpy as np"
   ]
  },
  {
   "cell_type": "code",
   "execution_count": 3,
   "metadata": {
    "collapsed": false
   },
   "outputs": [],
   "source": [
    "g = nx.read_gexf(\"datasets/influences.gexf\")"
   ]
  },
  {
   "cell_type": "code",
   "execution_count": 6,
   "metadata": {
    "collapsed": false
   },
   "outputs": [
    {
     "name": "stdout",
     "output_type": "stream",
     "text": [
      "54\n",
      "[('Joseph_de_Maistre', 'Louis_Gabriel_Ambroise_de_Bonald'), ('Frank_P._Ramsey', 'Ludwig_Wittgenstein'), ('Michel_Foucault', 'Gilles_Deleuze'), ('Imre_Lakatos', 'Paul_Feyerabend'), ('Friedrich_Wilhelm_Joseph_Schelling', 'Johann_Wolfgang_von_Goethe'), ('Alain_Badiou', 'Sylvain_Lazarus'), ('Karl_Popper', 'Friedrich_Hayek'), ('Albert_Camus', 'Jean-Paul_Sartre'), ('Damaris_Cudworth_Masham', 'Gabriel_Wagner'), ('David_Hume', 'Adam_Smith'), ('Gottfried_Wilhelm_Leibniz', 'Gabriel_Wagner'), ('Simone_de_Beauvoir', 'Jean-Paul_Sartre'), ('Emmanuel_Levinas', 'Maurice_Merleau-Ponty'), ('Emmanuel_Levinas', 'Jean-Paul_Sartre'), ('Victoria,_Lady_Welby', 'Charles_Sanders_Peirce'), ('Benedetto_Croce', 'Giovanni_Gentile'), ('Friedrich_Heinrich_Jacobi', 'Moses_Mendelssohn'), ('Claude_Esteban', 'Stanley_Cavell'), ('Max_Stirner', 'Bruno_Bauer'), ('Maurice_Merleau-Ponty', 'Jean-Paul_Sartre'), (u'Augustyn_Wr\\xf3blewski', 'Edward_Abramowski'), ('Martin_Heidegger', 'Karl_Jaspers'), ('Theodor_W._Adorno', 'Walter_Benjamin'), ('Theodor_W._Adorno', 'Max_Horkheimer'), ('Gabriel_Marcel', 'Nikolai_Berdyaev'), ('Richard_Rorty', 'Gianni_Vattimo'), ('Max_Scheler', 'Nicolai_Hartmann'), ('Charles_Darwin', 'Herbert_Spencer'), ('Stanley_Cavell', 'Thomas_Kuhn'), ('Ivan_Illich', 'Everett_Reimer'), ('Raymond_Aron', 'Jean-Paul_Sartre'), ('Ion_Dragoumis', 'Kostis_Palamas'), (u'Alexandre_Koj\\xe8ve', 'Leo_Strauss'), ('Joseph_Dietzgen', 'Karl_Marx'), ('Saul_Kripke', 'Hilary_Putnam'), ('Vladimir_Solovyov_(philosopher)', 'Fyodor_Dostoyevsky'), ('John_Grinder', 'Milton_H._Erickson'), ('G._E._Moore', 'Ludwig_Wittgenstein'), ('G._E._Moore', 'Bertrand_Russell'), ('Cornelius_Castoriadis', 'Francisco_Varela'), ('Richard_Dawkins', 'Christopher_Hitchens'), ('Carl_Schmitt', 'Leo_Strauss'), ('R._Radhakrishnan', 'David_Harvey'), ('Martin_Amis', 'Christopher_Hitchens'), ('F._C._S._Schiller', 'William_James'), ('Paul_Churchland', 'Patricia_Churchland'), ('Nelson_Goodman', 'Willard_Van_Orman_Quine'), ('Leo_Strauss', 'Eric_Voegelin'), (u'F\\xe9lix_Guattari', 'Gilles_Deleuze'), ('Salomon_Maimon', 'Karl_Leonhard_Reinhold'), ('Christopher_Hitchens', 'James_Fenton'), ('Christopher_Hitchens', 'Sam_Harris'), ('Robert_Brandom', 'Robert_B._Pippin'), ('Bertrand_Russell', 'Ludwig_Wittgenstein')]\n"
     ]
    }
   ],
   "source": [
    "peers = g.to_undirected(reciprocal=True)\n",
    "\n",
    "print len(peers.edges())\n",
    "print peers.edges()"
   ]
  },
  {
   "cell_type": "code",
   "execution_count": 9,
   "metadata": {
    "collapsed": false
   },
   "outputs": [
    {
     "data": {
      "text/plain": [
       "[['Joseph_de_Maistre', 'Louis_Gabriel_Ambroise_de_Bonald'],\n",
       " ['Frank_P._Ramsey', 'Ludwig_Wittgenstein'],\n",
       " ['Imre_Lakatos', 'Paul_Feyerabend'],\n",
       " ['Friedrich_Wilhelm_Joseph_Schelling', 'Johann_Wolfgang_von_Goethe'],\n",
       " ['Alain_Badiou', 'Sylvain_Lazarus'],\n",
       " ['Karl_Popper', 'Friedrich_Hayek'],\n",
       " ['Damaris_Cudworth_Masham', 'Gabriel_Wagner'],\n",
       " ['David_Hume', 'Adam_Smith'],\n",
       " ['Gottfried_Wilhelm_Leibniz', 'Gabriel_Wagner'],\n",
       " ['Victoria,_Lady_Welby', 'Charles_Sanders_Peirce'],\n",
       " ['Benedetto_Croce', 'Giovanni_Gentile'],\n",
       " ['Friedrich_Heinrich_Jacobi', 'Moses_Mendelssohn'],\n",
       " ['Claude_Esteban', 'Stanley_Cavell'],\n",
       " ['Max_Stirner', 'Bruno_Bauer'],\n",
       " [u'Augustyn_Wr\\xf3blewski', 'Edward_Abramowski'],\n",
       " ['Martin_Heidegger', 'Karl_Jaspers'],\n",
       " ['Theodor_W._Adorno', 'Walter_Benjamin'],\n",
       " ['Theodor_W._Adorno', 'Max_Horkheimer'],\n",
       " ['Gabriel_Marcel', 'Nikolai_Berdyaev'],\n",
       " ['Richard_Rorty', 'Gianni_Vattimo'],\n",
       " ['Max_Scheler', 'Nicolai_Hartmann'],\n",
       " ['Charles_Darwin', 'Herbert_Spencer'],\n",
       " ['Stanley_Cavell', 'Thomas_Kuhn'],\n",
       " ['Ivan_Illich', 'Everett_Reimer'],\n",
       " ['Ion_Dragoumis', 'Kostis_Palamas'],\n",
       " [u'Alexandre_Koj\\xe8ve', 'Leo_Strauss'],\n",
       " ['Joseph_Dietzgen', 'Karl_Marx'],\n",
       " ['Saul_Kripke', 'Hilary_Putnam'],\n",
       " ['Vladimir_Solovyov_(philosopher)', 'Fyodor_Dostoyevsky'],\n",
       " ['John_Grinder', 'Milton_H._Erickson'],\n",
       " ['G._E._Moore', 'Ludwig_Wittgenstein', 'Bertrand_Russell'],\n",
       " ['Cornelius_Castoriadis', 'Francisco_Varela'],\n",
       " ['Richard_Dawkins', 'Christopher_Hitchens'],\n",
       " ['Carl_Schmitt', 'Leo_Strauss'],\n",
       " ['R._Radhakrishnan', 'David_Harvey'],\n",
       " ['Martin_Amis', 'Christopher_Hitchens'],\n",
       " ['F._C._S._Schiller', 'William_James'],\n",
       " ['Paul_Churchland', 'Patricia_Churchland'],\n",
       " ['Nelson_Goodman', 'Willard_Van_Orman_Quine'],\n",
       " ['Leo_Strauss', 'Eric_Voegelin'],\n",
       " [u'F\\xe9lix_Guattari', 'Gilles_Deleuze'],\n",
       " ['Salomon_Maimon', 'Karl_Leonhard_Reinhold'],\n",
       " ['Christopher_Hitchens', 'James_Fenton'],\n",
       " ['Christopher_Hitchens', 'Sam_Harris'],\n",
       " ['Gilles_Deleuze', 'Michel_Foucault'],\n",
       " ['Robert_Brandom', 'Robert_B._Pippin'],\n",
       " ['Jean-Paul_Sartre', 'Simone_de_Beauvoir'],\n",
       " ['Jean-Paul_Sartre', 'Albert_Camus'],\n",
       " ['Jean-Paul_Sartre', 'Raymond_Aron'],\n",
       " ['Jean-Paul_Sartre', 'Maurice_Merleau-Ponty', 'Emmanuel_Levinas']]"
      ]
     },
     "execution_count": 9,
     "metadata": {},
     "output_type": "execute_result"
    }
   ],
   "source": [
    "cliques = nx.find_cliques(peers)\n",
    "\n",
    "[ c for c in cliques if len(c) > 1]"
   ]
  }
 ],
 "metadata": {
  "kernelspec": {
   "display_name": "Python 2",
   "language": "python",
   "name": "python2"
  },
  "language_info": {
   "codemirror_mode": {
    "name": "ipython",
    "version": 2
   },
   "file_extension": ".py",
   "mimetype": "text/x-python",
   "name": "python",
   "nbconvert_exporter": "python",
   "pygments_lexer": "ipython2",
   "version": "2.7.11"
  }
 },
 "nbformat": 4,
 "nbformat_minor": 0
}
