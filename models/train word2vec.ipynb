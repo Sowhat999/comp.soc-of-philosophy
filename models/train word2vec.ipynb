{
 "cells": [
  {
   "cell_type": "code",
   "execution_count": 1,
   "metadata": {
    "collapsed": true
   },
   "outputs": [],
   "source": [
    "import json\n",
    "import codecs\n",
    "import pandas as pd\n",
    "import networkx as nx\n",
    "\n",
    "from gensim import corpora, models"
   ]
  },
  {
   "cell_type": "code",
   "execution_count": 4,
   "metadata": {
    "collapsed": false
   },
   "outputs": [],
   "source": [
    "G = nx.read_gexf(\"../datasets/influences.gexf\")"
   ]
  },
  {
   "cell_type": "code",
   "execution_count": 10,
   "metadata": {
    "collapsed": false
   },
   "outputs": [],
   "source": [
    "def get_sentences(doc_name):\n",
    "  sentences = []\n",
    "  # sentences = models.word2vec.LineSentence(\"datasets/sentences/%s.txt\" % doc_name.replace(\"/\", \"-\"))\n",
    "  sentences = codecs.open(\"../datasets/sentences/%s.txt\" % doc_name.replace(\"/\", \"-\"),\"r\", \"utf-8\").read().split(\"\\n\")  \n",
    "  sentences = [ s.split() for s in sentences ]\n",
    "  \n",
    "  return sentences\n",
    "\n",
    "names = G.nodes()\n",
    "sentences = reduce(lambda a,b: a + b, map(get_sentences, names))\n",
    "\n",
    "bigram = models.phrases.Phrases(sentences)\n",
    "\n",
    "model = models.word2vec.Word2Vec(bigram[sentences], batch_words=10000)\n",
    "model.init_sims(replace=True)\n",
    "model.save(\"word2vec/all_pages.txt\")"
   ]
  }
 ],
 "metadata": {
  "kernelspec": {
   "display_name": "Python 2",
   "language": "python",
   "name": "python2"
  },
  "language_info": {
   "codemirror_mode": {
    "name": "ipython",
    "version": 2
   },
   "file_extension": ".py",
   "mimetype": "text/x-python",
   "name": "python",
   "nbconvert_exporter": "python",
   "pygments_lexer": "ipython2",
   "version": "2.7.11"
  }
 },
 "nbformat": 4,
 "nbformat_minor": 0
}
