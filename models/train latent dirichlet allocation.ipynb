{
 "cells": [
  {
   "cell_type": "code",
   "execution_count": 1,
   "metadata": {
    "collapsed": false
   },
   "outputs": [
    {
     "name": "stdout",
     "output_type": "stream",
     "text": [
      "Couldn't import dot_parser, loading of dot files will not be possible.\n"
     ]
    }
   ],
   "source": [
    "import json\n",
    "import codecs\n",
    "import pandas as pd\n",
    "import networkx as nx\n",
    "\n",
    "from gensim import corpora, models"
   ]
  },
  {
   "cell_type": "code",
   "execution_count": 3,
   "metadata": {
    "collapsed": false
   },
   "outputs": [],
   "source": [
    "G = nx.read_gexf(\"../datasets/influences.gexf\")"
   ]
  },
  {
   "cell_type": "code",
   "execution_count": 6,
   "metadata": {
    "collapsed": false
   },
   "outputs": [],
   "source": [
    "def get_sentences(doc_name):\n",
    "  sentences = []\n",
    "  # sentences = models.word2vec.LineSentence(\"datasets/sentences/%s.txt\" % doc_name.replace(\"/\", \"-\"))\n",
    "  sentences = codecs.open(\"../datasets/sentences/%s.txt\" % doc_name.replace(\"/\", \"-\"),\"r\", \"utf-8\").read().split(\"\\n\")  \n",
    "  sentences = [ s.split() for s in sentences ]\n",
    "  \n",
    "  return sentences\n",
    "\n",
    "names = G.nodes()\n",
    "sentences = reduce(lambda a,b: a + b, map(get_sentences, names))\n",
    "\n",
    "bigram = models.phrases.Phrases(sentences)\n"
   ]
  },
  {
   "cell_type": "code",
   "execution_count": 9,
   "metadata": {
    "collapsed": true
   },
   "outputs": [],
   "source": [
    "dictionary = corpora.Dictionary(bigram[sentences])"
   ]
  },
  {
   "cell_type": "code",
   "execution_count": 10,
   "metadata": {
    "collapsed": false
   },
   "outputs": [],
   "source": [
    "corpus = [ dictionary.doc2bow(text) for text in bigram[sentences] ]"
   ]
  },
  {
   "cell_type": "code",
   "execution_count": null,
   "metadata": {
    "collapsed": false
   },
   "outputs": [],
   "source": [
    "model = models.ldamodel.LdaModel(corpus=corpus, id2word=dictionary, num_topics=100, chunksize=100)"
   ]
  },
  {
   "cell_type": "code",
   "execution_count": null,
   "metadata": {
    "collapsed": false
   },
   "outputs": [],
   "source": [
    "model.save(\"lda/100topics.txt\")"
   ]
  },
  {
   "cell_type": "code",
   "execution_count": 19,
   "metadata": {
    "collapsed": false
   },
   "outputs": [
    {
     "name": "stdout",
     "output_type": "stream",
     "text": [
      "633373\n"
     ]
    }
   ],
   "source": [
    "print len(corpus)"
   ]
  },
  {
   "cell_type": "code",
   "execution_count": 18,
   "metadata": {
    "collapsed": false
   },
   "outputs": [
    {
     "data": {
      "text/plain": [
       "[(65,\n",
       "  u'0.063*2003 + 0.045*1987 + 0.042*1999 + 0.033*1970 + 0.029*pages + 0.024*1952 + 0.024*present + 0.019*charles_birch + 0.017*third + 0.015*1921'),\n",
       " (24,\n",
       "  u'0.105*after + 0.101*islamic + 0.074*state + 0.056*religion + 0.034*pakistan + 0.032*prize + 0.023*10 + 0.022*march + 0.018*1945 + 0.017*says'),\n",
       " (40,\n",
       "  u'0.154*works + 0.085*death + 0.043*2013 + 0.038*lccn + 0.033*gnd + 0.033*1982 + 0.014*nkc + 0.013*ndl + 0.011*archive + 0.010*paper'),\n",
       " (16,\n",
       "  u'0.121*society + 0.081*5 + 0.052*without + 0.045*out + 0.040*1965 + 0.038*michael + 0.026*words + 0.023*gave + 0.022*uk + 0.022*means'),\n",
       " (67,\n",
       "  u'0.079*books + 0.041*cobb_jr + 0.034*october + 0.033*article + 0.031*islamic_revivalism + 0.030*young + 0.029*met + 0.026*established + 0.025*mawdudi_making + 0.023*1940'),\n",
       " (97,\n",
       "  u'0.049*jean-paul_sartre + 0.039*dennett + 0.027*things + 0.024*place + 0.019*price + 0.016*soul + 0.015*why + 0.012*claim + 0.011*concerns + 0.010*bbc'),\n",
       " (77,\n",
       "  u'0.064*she + 0.026*papal + 0.022*proposed + 0.020*your + 0.020*famous + 0.019*violence + 0.016*needed + 0.014*soviet + 0.014*republic + 0.013*richardson'),\n",
       " (94,\n",
       "  u'0.067*idea + 0.063*any + 0.041*never + 0.027*charles + 0.019*reality + 0.018*communist_party + 0.016*treatise + 0.014*know + 0.012*specific + 0.012*biographers'),\n",
       " (19,\n",
       "  u'0.075*part + 0.045*constitution + 0.044*1980 + 0.041*v + 0.019*nation + 0.018*play + 0.015*develop + 0.013*ecological + 0.012*establish + 0.012*uprising'),\n",
       " (56,\n",
       "  u'0.264*also + 0.045*based + 0.042*another + 0.030*took + 0.026*named + 0.025*poet + 0.025*concept + 0.018*little + 0.016*dal\\xed + 0.012*brother')]"
      ]
     },
     "execution_count": 18,
     "metadata": {},
     "output_type": "execute_result"
    }
   ],
   "source": [
    "model.show_topics()"
   ]
  }
 ],
 "metadata": {
  "kernelspec": {
   "display_name": "Python 2",
   "language": "python",
   "name": "python2"
  },
  "language_info": {
   "codemirror_mode": {
    "name": "ipython",
    "version": 2
   },
   "file_extension": ".py",
   "mimetype": "text/x-python",
   "name": "python",
   "nbconvert_exporter": "python",
   "pygments_lexer": "ipython2",
   "version": "2.7.11"
  }
 },
 "nbformat": 4,
 "nbformat_minor": 0
}
