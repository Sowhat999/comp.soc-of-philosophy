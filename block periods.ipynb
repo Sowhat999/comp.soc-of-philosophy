{
 "cells": [
  {
   "cell_type": "markdown",
   "metadata": {},
   "source": [
    "classify philosophers according to their hierachy in the influence network"
   ]
  },
  {
   "cell_type": "code",
   "execution_count": 1,
   "metadata": {
    "collapsed": true
   },
   "outputs": [],
   "source": [
    "import networkx as nx"
   ]
  },
  {
   "cell_type": "code",
   "execution_count": 7,
   "metadata": {
    "collapsed": false
   },
   "outputs": [],
   "source": [
    "g = nx.read_gexf(\"datasets/influences.gexf\")"
   ]
  },
  {
   "cell_type": "code",
   "execution_count": 8,
   "metadata": {
    "collapsed": false
   },
   "outputs": [
    {
     "name": "stdout",
     "output_type": "stream",
     "text": [
      "70\n"
     ]
    },
    {
     "data": {
      "text/plain": [
       "['Constantine_Sandis',\n",
       " 'Jonathan_Dancy',\n",
       " 'John_McDowell',\n",
       " 'Robert_B._Pippin',\n",
       " 'Robert_Brandom',\n",
       " 'Richard_Rorty',\n",
       " 'Cornelius_Castoriadis',\n",
       " 'Hannah_Arendt',\n",
       " 'Walter_Benjamin',\n",
       " 'Carl_Schmitt',\n",
       " 'Leo_Strauss',\n",
       " u'Alexandre_Koj\\xe8ve',\n",
       " u'Alexandre_Koyr\\xe9',\n",
       " 'Gaston_Bachelard',\n",
       " u'\\xc9mile_Meyerson',\n",
       " 'Albert_Einstein',\n",
       " 'Moritz_Schlick',\n",
       " 'Bertrand_Russell',\n",
       " 'Ludwig_Wittgenstein',\n",
       " 'Leo_Tolstoy',\n",
       " 'Peter_Kropotkin',\n",
       " 'Mikhail_Bakunin',\n",
       " 'Karl_Marx',\n",
       " 'Pierre-Joseph_Proudhon',\n",
       " 'Louis_Blanc',\n",
       " 'John_Stuart_Mill',\n",
       " 'Sir_William_Hamilton,_9th_Baronet',\n",
       " 'Victor_Cousin',\n",
       " 'Friedrich_Wilhelm_Joseph_Schelling',\n",
       " 'Johann_Gottlieb_Fichte',\n",
       " 'Salomon_Maimon',\n",
       " 'Moses_Mendelssohn',\n",
       " 'Friedrich_Heinrich_Jacobi',\n",
       " 'Johann_Wolfgang_von_Goethe',\n",
       " 'Johann_Gottfried_Herder',\n",
       " 'Immanuel_Kant',\n",
       " 'Johannes_Nikolaus_Tetens',\n",
       " 'David_Hume',\n",
       " 'Jean-Jacques_Rousseau',\n",
       " u'\\xc9tienne_Bonnot_de_Condillac',\n",
       " 'Denis_Diderot',\n",
       " 'Voltaire',\n",
       " 'Pierre_Bayle',\n",
       " 'Baruch_Spinoza',\n",
       " 'Thomas_Hobbes',\n",
       " 'John_Selden',\n",
       " 'Hugo_Grotius',\n",
       " u'Francisco_Su\\xe1rez',\n",
       " 'Duns_Scotus',\n",
       " 'Thomas_Aquinas',\n",
       " 'Johannes_Scotus_Eriugena',\n",
       " 'Maximus_the_Confessor',\n",
       " 'Pseudo-Dionysius_the_Areopagite',\n",
       " 'Proclus',\n",
       " 'Iamblichus',\n",
       " 'Porphyry_(philosopher)',\n",
       " 'Plotinus',\n",
       " 'Alexander_of_Aphrodisias',\n",
       " 'Theophrastus',\n",
       " 'Aristotle',\n",
       " 'Plato',\n",
       " 'Protagoras',\n",
       " 'Democritus',\n",
       " 'Leucippus',\n",
       " 'Zeno_of_Elea',\n",
       " 'Parmenides',\n",
       " 'Heraclitus',\n",
       " 'Pythagoras',\n",
       " 'Pherecydes_of_Syros',\n",
       " 'Hesiod']"
      ]
     },
     "execution_count": 8,
     "metadata": {},
     "output_type": "execute_result"
    }
   ],
   "source": [
    "g_copy = g.copy()\n",
    "\n",
    "# remove cycles\n",
    "cycles = nx.simple_cycles(g_copy)\n",
    "g_copy.remove_edges_from(cycles)\n",
    "\n",
    "# compute longest path\n",
    "longest_path = nx.dag_longest_path(g_copy)\n",
    "\n",
    "print len(longest_path)\n",
    "\n",
    "longest_path"
   ]
  }
 ],
 "metadata": {
  "kernelspec": {
   "display_name": "Python 2",
   "language": "python",
   "name": "python2"
  },
  "language_info": {
   "codemirror_mode": {
    "name": "ipython",
    "version": 2
   },
   "file_extension": ".py",
   "mimetype": "text/x-python",
   "name": "python",
   "nbconvert_exporter": "python",
   "pygments_lexer": "ipython2",
   "version": "2.7.11"
  }
 },
 "nbformat": 4,
 "nbformat_minor": 0
}
